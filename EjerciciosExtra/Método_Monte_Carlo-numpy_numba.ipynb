{
 "cells": [
  {
   "cell_type": "markdown",
   "id": "14726edf",
   "metadata": {},
   "source": [
    "# Métodos de Monte Carlo"
   ]
  },
  {
   "cell_type": "markdown",
   "id": "a41afcd8",
   "metadata": {},
   "source": [
    "## Estimación de $\\pi$\n",
    "\n",
    "- El valor de $\\pi$ puede calcularse por medio de un muestreo de valores de una distribución uniforme de números aleatorios. \n",
    "- Como un juego de niños en una playa, el truco es lanzar piedras aleatoriamente a un área cuadrada y verificar cuáles caen dentro de un círculo. La razón entre la cantidad de piedras lanzadas y las que caen dentro del círculo se usa para estimar el valor de $\\pi$."
   ]
  },
  {
   "cell_type": "code",
   "execution_count": 6,
   "id": "58e30dae",
   "metadata": {},
   "outputs": [],
   "source": [
    "import numpy as np\n",
    "from numba import njit\n",
    "import time\n",
    "import matplotlib.pyplot as plt"
   ]
  },
  {
   "cell_type": "markdown",
   "id": "72b33080",
   "metadata": {},
   "source": [
    "1. Se definen dos variables _nTiros_ y _nAciertos = 0_. Estas variables almacenarán la cantidad de muestras que se tomarán de la distribución uniforme y la cantidad de aciertos. Se crea una función que tenga _nTiros_ como parámetro de entrada.\n",
    "2. Se genera un ciclo que itere desde 0 hasta _nTiros_. \n",
    "3. Para cada iteración se obtienen dos valores aleatorios (las coordenadas _x_ y _y_ de la piedra lanzada aleatoriamente según la analogía) de una distribución uniforme entre 0 y 1.\n",
    "4. Se evalúa si la posición aleatoria cae dentro de un cuarto de círculo con radio 1. Si el lanzamiento cae dentro del cuarto de círculo se suma uno a _nAciertos_, si no, se continua con las iteraciones.\n",
    "5. Una vez finalizado el ciclo se calcula la razón  entre _nAciertos_ y _nTiros_.\n",
    "6. Se estima $\\pi$ como cuatro veces la razón entre _nAciertos_ y _nTiros_. Note que para un cuadrado de lado 2r su área es $4r^2$, si se toma un cuarto del cuadrado: $A_{cuadrado} = r^2$. El área de un círculo inscrito dentro del cuadrado es: $\\pi r^2$, si se toma un cuarto del circulo: $A_{círculo} = \\dfrac{\\pi}{4}r^2$\n",
    "            \n",
    "$$\n",
    "\\Rightarrow \\dfrac{A_{cículo}}{A_{cuadrado}} = \\dfrac{n_{Aciertos}}{n_{Tiros}}= \\dfrac{\\pi}{4}\n",
    "$$\n",
    "\n",
    "<center> <img src=\"https://i.ibb.co/2qx2pSZ/diagrama-monte-carlo.png\" alt=\"diagrama de áreas\" width=\"500\"/> </center>\n"
   ]
  },
  {
   "cell_type": "code",
   "execution_count": 7,
   "id": "c03529a8",
   "metadata": {},
   "outputs": [
    {
     "name": "stdout",
     "output_type": "stream",
     "text": [
      "El valor de pi estimado es 3.13688\n",
      "535 ms ± 4.47 ms per loop (mean ± std. dev. of 7 runs, 1 loop each)\n"
     ]
    }
   ],
   "source": [
    "nTiros = 100000\n",
    "nAciertos = 0\n",
    "r = 1\n",
    "\n",
    "# Corrida normal\n",
    "def estimar_pi(nTiros,nAciertos):\n",
    "    for i in range(nTiros):\n",
    "        x = np.random.uniform(0,r)\n",
    "        y = np.random.uniform(0,r)\n",
    "        d = np.sqrt(x**2+y**2)\n",
    "        if d<r:\n",
    "            nAciertos = nAciertos + 1\n",
    "    pi = 4*nAciertos/nTiros\n",
    "    \n",
    "    return pi\n",
    "\n",
    "pi = print(f\"El valor de pi estimado es {estimar_pi(nTiros,nAciertos)}\")\n",
    "normal_time = %timeit -o estimar_pi(nTiros,nAciertos)"
   ]
  },
  {
   "cell_type": "markdown",
   "id": "bbc00d56",
   "metadata": {},
   "source": [
    "### Implementación de numba\n",
    "\n",
    "Como se ha visto, `numba` es una librería muy útil para la paralelización, y dependiendo de los procesos, es muy fácil implementarla. En este caso, se usará el decorador `@njit` para optimizar el proceso de simulación, dado que se basa en un loop en el que se avalúa si cada intento es un acierto, y no depende de si el tiro anterior lo fue, por lo que puede repartirse entre los hilos del procesador. A continuación se muestra el código con la implementación y su tiempo de corrida respectivo."
   ]
  },
  {
   "cell_type": "code",
   "execution_count": 8,
   "id": "e1405008",
   "metadata": {},
   "outputs": [
    {
     "name": "stdout",
     "output_type": "stream",
     "text": [
      "El valor de pi estimado es 3.13996\n",
      "1.16 ms ± 21.3 µs per loop (mean ± std. dev. of 7 runs, 1,000 loops each)\n"
     ]
    }
   ],
   "source": [
    "@njit\n",
    "def estimar_pi(nTiros,nAciertos):\n",
    "    for i in range(nTiros):\n",
    "        x = np.random.uniform(0,r)\n",
    "        y = np.random.uniform(0,r)\n",
    "        d = np.sqrt(x**2+y**2)\n",
    "        if d<r:\n",
    "            nAciertos = nAciertos + 1\n",
    "    pi = 4*nAciertos/nTiros\n",
    "    \n",
    "    return pi\n",
    "\n",
    "pi = print(f\"El valor de pi estimado es {estimar_pi(nTiros,nAciertos)}\")\n",
    "numba_time = %timeit -o estimar_pi(nTiros,nAciertos)"
   ]
  },
  {
   "cell_type": "markdown",
   "id": "8b0796fb",
   "metadata": {},
   "source": [
    "### Disminución radical del tiempo de corrida:\n",
    "\n",
    "Véase que con esta sencilla implementación, en una corrida específica de ejemplo, se mejoró la eficiencia en más de `400%` (743 ms contra 1.6 ms)"
   ]
  },
  {
   "cell_type": "markdown",
   "id": "5bc7030f",
   "metadata": {},
   "source": [
    "### Cuantización del error\n",
    "\n",
    "Se puede medir el error y cómo decrece con el número de tiros. En este caso, se están usando potencias de 2 para el número de tiros, pero puede especificarse cualquier selección de número de tiros.\n",
    "\n",
    "7. Se usa la función anterior para estimar $\\pi$ con _nTiros_ = 4,8, ... , 1024. \n",
    "8. Para cada valor de _nTiros_ se estima el valor de $\\pi$ _10_ veces. Se toma como resultado final el promedio de los valores obtenidos y se calcula el porcentaje de error entre la estimación de $\\pi$ y el valor exacto."
   ]
  },
  {
   "cell_type": "code",
   "execution_count": 9,
   "id": "541d678d",
   "metadata": {},
   "outputs": [],
   "source": [
    "# Se inicia una lista de porcentajes de error, así como la potencia máxima y el número de repeticiones por cada cálculo\n",
    "porc_error_lista = []\n",
    "pi_prom_lista = []\n",
    "potencias = 11\n",
    "repeticiones = 1000\n",
    "\n",
    "for i in range(2,potencias):\n",
    "    pi_lista = []\n",
    "    for j in range(repeticiones): # Se calcula el pi estimado para cada potencia y se agrega a la lista\n",
    "        pi_lista.append(estimar_pi(2**i,0))\n",
    "    pi_prom = np.mean(pi_lista)\n",
    "    # Se calcula el porcentaje de error contra el teórico (dado por numpy)\n",
    "    porc_error = np.abs((pi_prom - np.pi)/np.pi)\n",
    "    porc_error_lista.append(porc_error)\n",
    "\n",
    "nTiros_lista = []\n",
    "for i in range(2,potencias):\n",
    "    nTiros_lista.append(2**i)\n",
    "\n",
    "nTiros_sqrt_lista = np.sqrt(nTiros_lista)"
   ]
  },
  {
   "cell_type": "markdown",
   "id": "f56765d6",
   "metadata": {},
   "source": [
    "Brevemente y sin ser este el enfoque del cuaderno actual, se puede visualizar cómo rápidamente disminuye el error, que ya de por sí inicia siendo menor al 0.05%"
   ]
  },
  {
   "cell_type": "code",
   "execution_count": 10,
   "id": "4ca18fbf",
   "metadata": {},
   "outputs": [
    {
     "data": {
      "image/png": "[encoded data removed]",
      "text/plain": [
       "<Figure size 640x480 with 1 Axes>"
      ]
     },
     "metadata": {},
     "output_type": "display_data"
    }
   ],
   "source": [
    "fig, ax = plt.subplots()\n",
    "\n",
    "# Se grafica la raíz cuadrada del número de tiros para darle una forma exponencial decreciente\n",
    "\n",
    "ax.scatter(nTiros_sqrt_lista, porc_error_lista)\n",
    "ax.set(xlabel=\"$\\sqrt{nTiros}$\",ylabel=\"%error\",title=\"%error respecto a la raíz cuadrada del número de tiros\")\n",
    "plt.show()"
   ]
  }
 ],
 "metadata": {
  "kernelspec": {
   "display_name": "Python 3 (ipykernel)",
   "language": "python",
   "name": "python3"
  },
  "language_info": {
   "codemirror_mode": {
    "name": "ipython",
    "version": 3
   },
   "file_extension": ".py",
   "mimetype": "text/x-python",
   "name": "python",
   "nbconvert_exporter": "python",
   "pygments_lexer": "ipython3",
   "version": "3.11.9"
  }
 },
 "nbformat": 4,
 "nbformat_minor": 5
}
