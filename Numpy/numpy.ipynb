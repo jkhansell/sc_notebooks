{
  "cells": [
    {
      "cell_type": "markdown",
      "metadata": {
        "id": "J3zgJzVQ2lud"
      },
      "source": [
        "<div align=\"center\">\n",
        "    <h1>Taller de Computación Científica en Python - 2025</h1>\n",
        "    <img src=\"https://www.iycr2014.org/__data/assets/image/0014/133052/logo_cenat.png\" alt=\"Logo CENAT\" style=\"width: 200px;\"/>\n",
        "    \n",
        "</div>\n",
        "\n",
        "---\n",
        "\n",
        "## NumPy: Fundamento de Python científico  \n",
        "\n",
        "<center> <img src=\"https://upload.wikimedia.org/wikipedia/commons/thumb/3/31/NumPy_logo_2020.svg/1280px-NumPy_logo_2020.svg.png\" alt=\"image info\" width=\"300\"/> </center>\n",
        "\n",
        "En esta sección, se estudiará el uso de la librería NumPy como una herramienta para el manejo de arreglos de datos, matrices, y otros tipos de estructuras. Además, se revisarán las operaciones básicas involucradas y cómo obtener el mejor provecho de los recursos computacionales.\n",
        "\n",
        "---\n",
        "\n",
        "**Realizado por:**  \n",
        "Johansell Villalobos y Julián Sánchez"
      ]
    },
    {
      "cell_type": "code",
      "source": [
        "!git clone https://github.com/jkhansell/sc_notebooks"
      ],
      "metadata": {
        "id": "QKkNKYK_YZiT"
      },
      "execution_count": null,
      "outputs": []
    },
    {
      "cell_type": "code",
      "execution_count": null,
      "metadata": {
        "id": "72a-eB5zLpRv"
      },
      "outputs": [],
      "source": [
        "# celda para acceder a archivos en Google Drive\n",
        "from google.colab import drive\n",
        "drive.mount('/content/drive')"
      ]
    },
    {
      "cell_type": "markdown",
      "metadata": {
        "id": "nBRqYpsCXw7I"
      },
      "source": [
        "La utilización de arreglos, matrices y otros arreglos multi-dimensionales\n",
        "son comunes en la computación numérica y científica.\n",
        "\n",
        "- Idealmente, al operar sobre los elementos de un arreglo queremos evitar ciclos explícitos que complican legibilidad y lógica del código.\n",
        "- Operaciones basadas en arreglos (vectorizadas)\n",
        "- Código más conciso y ejecución más rápida"
      ]
    },
    {
      "cell_type": "markdown",
      "metadata": {
        "id": "JFTXz-6RXceD"
      },
      "source": [
        "\n",
        "\n",
        "---\n",
        "\n"
      ]
    },
    {
      "cell_type": "markdown",
      "metadata": {
        "id": "yuHCqI6KXap9"
      },
      "source": [
        "* En Python, NumPy es el \"estándar\" para trabajar con arreglos.\n",
        "* Su núcleo está escrito en C, por lo que es más eficiente en el almacenamiento de datos.\n",
        "* Tiene una implementación de arreglos muy poderosa, de carácter multidimensional.\n",
        "* Engloba funciones de álgebra lineal, transformada de Fourier, etc.\n",
        "\n",
        "# Arreglos (*arrays*) de NumPy\n",
        "\n",
        "* Los arrays de NumPy son estructuras de datos **ordenadas**, de **cantidad fija de elementos** y un tipo de **dato uniforme**.\n",
        "* Son los equivalentes a las matrices y los vectores en álgebra, por lo que se les puede aplicar operaciones.\n",
        "* Por su implementación, son **más eficientes** que otras estructuras de datos nativas de Python. El código, además, es más conciso."
      ]
    },
    {
      "cell_type": "code",
      "execution_count": null,
      "metadata": {
        "id": "HELHHsH53nZx"
      },
      "outputs": [],
      "source": [
        "#Se debe importar la biblioteca NumPy\n",
        "#Por covención se usa el alias np\n",
        "import numpy as np"
      ]
    },
    {
      "cell_type": "code",
      "execution_count": null,
      "metadata": {
        "id": "kvm5mjxwnUtS"
      },
      "outputs": [],
      "source": [
        "#Con el signo de ? podemos consultar la documentación de NumPy\n",
        "np?"
      ]
    },
    {
      "cell_type": "markdown",
      "metadata": {
        "id": "USBKrY9kqjSg"
      },
      "source": [
        "## ¿Por qué se dice que es más conciso y eficiente?"
      ]
    },
    {
      "cell_type": "code",
      "execution_count": null,
      "metadata": {
        "id": "orQfovtS3uiA"
      },
      "outputs": [],
      "source": [
        "array = np.arange(1e6) #Creamos un arreglo de 1 millón de elementos\n",
        "                       #Queremos multiplicar por 5 cada elemento del arreglo\n",
        "\n",
        "lista = list(array) #Lo convertimos en una lista | [1, 2, 3, 4] | y = [1*5]\n",
        "\n",
        "#Medimos el tiempo de 10 loops ejecutados 5 veces\n",
        "\n",
        "%timeit -n10 y = [val*5 for val in lista] #List comprehension, multiplicar por 5 cada valor\n",
        "\n",
        "%timeit -n10 y = array*5 #NumPy ofrece operaciones aplicables directamente sobre el arreglo"
      ]
    },
    {
      "cell_type": "markdown",
      "metadata": {
        "id": "QajI0G8y47NE"
      },
      "source": [
        "## Creación de arreglos\n",
        "\n",
        "Varias funciones sirven para crear arreglos de NumPy, entre ellas las siguientes:\n",
        "\n",
        "| Función | Resultado |\n",
        "| :---: | :---: |\n",
        "| array() | Crea un arreglo con los datos especificados como estructuras de datos|\n",
        "| empty() | Crea un arreglo vacío, con datos \"basura\"|\n",
        "| zeros() | Crea un arreglo de ceros|\n",
        "|ones() | Crea un arreglo de unos|\n",
        "| full() | Crea un arreglo lleno del valor especificado|\n",
        "| arange() | Crea un arreglo de valores indicando un valor inicial, un final y un step|\n",
        "| linspace() | Crea un arreglo de valores indicando un valor inicial, un final y una cantidad deseada|\n",
        "| logspace() |Crea un arreglo de valores con espaciado logarítmico|\n",
        "| geomspace() |Crea un arreglo de valores con espaciado logarítmico en una progresión geométrica|\n",
        "| random() | Crea una matriz de números entre 0.0 y 1.0|\n",
        "\n"
      ]
    },
    {
      "cell_type": "code",
      "execution_count": null,
      "metadata": {
        "id": "o-ibktEW5jIM"
      },
      "outputs": [],
      "source": [
        "arr = np.array([1,2,3]) #Array de dimensiones 1x3\n",
        "\n",
        "print(arr,'\\n')\n",
        "print(np.array([[1],[2],[3]]),'\\n') #Array de dimensiones 3x1\n",
        "print(np.array([[1,2],[3,4]]),'\\n') #Matrix 2x2\n",
        "\n",
        "print(np.random.random([7,4]), '\\n')\n",
        "print(\"----------\")\n",
        "\n",
        "print(np.random.randn(3,3,3), '\\n')\n"
      ]
    },
    {
      "cell_type": "code",
      "execution_count": null,
      "metadata": {
        "id": "-VOlXl_9m4zW"
      },
      "outputs": [],
      "source": [
        "np.random.randn?"
      ]
    },
    {
      "cell_type": "markdown",
      "metadata": {
        "id": "FDd0RgDk5nyU"
      },
      "source": [
        "* Observe que los arreglos se encierran entre **[]**, pero que al imprimir sus valores no están separados por comas como en las listas.\n",
        "* Las dimensiones siempre se indican como **filas x columnas**.\n",
        "\n",
        "### Crear arreglos con distintos valores iniciales"
      ]
    },
    {
      "cell_type": "code",
      "execution_count": null,
      "metadata": {
        "id": "BEtIVK5dI170"
      },
      "outputs": [],
      "source": [
        "import numpy as np\n",
        "np.empty?"
      ]
    },
    {
      "cell_type": "code",
      "execution_count": null,
      "metadata": {
        "id": "9h22GxN_5tjr"
      },
      "outputs": [],
      "source": [
        "arr1 = np.empty([3,4]) # Se indican [numero de filas, numero de columnas]\n",
        "print(arr1,'\\n')\n",
        "\n",
        "arr1.fill(3)\n",
        "print(arr1,'\\n')\n",
        "\n",
        "print(np.ones([5]),'\\n') # Si se indica solo un número, supondrá que son columnas\n",
        "\n",
        "print(np.full([2,2], np.inf)) # Crea una matriz rellena de \"infinito\""
      ]
    },
    {
      "cell_type": "markdown",
      "metadata": {
        "id": "_XeuOx2j6NW8"
      },
      "source": [
        "### Arreglos con secuencias incrementales"
      ]
    },
    {
      "cell_type": "markdown",
      "metadata": {
        "id": "XeCuYhn_azxH"
      },
      "source": [
        "Un caso de uso muy común es crear un arreglo incremental desde 0 hasta algún valor arbitrario.\n",
        "\n",
        "- Crearlo manualmente con np.array([0,1,2,...,N]) puede resultar inviable para arreglos muy grandes.\n",
        "\n"
      ]
    },
    {
      "cell_type": "code",
      "execution_count": null,
      "metadata": {
        "id": "ZjvCpcZJbHYX"
      },
      "outputs": [],
      "source": [
        "#La función de construcción arange provee esta funcionalidad.\n",
        "np.arange?"
      ]
    },
    {
      "cell_type": "code",
      "execution_count": null,
      "metadata": {
        "id": "NSu4YiMQbWQO"
      },
      "outputs": [],
      "source": [
        "np.arange(100)"
      ]
    },
    {
      "cell_type": "code",
      "execution_count": null,
      "metadata": {
        "id": "cMkMWIAqbaWn"
      },
      "outputs": [],
      "source": [
        "np.arange(50,100)"
      ]
    },
    {
      "cell_type": "code",
      "execution_count": null,
      "metadata": {
        "id": "7nNlee5a6QFE"
      },
      "outputs": [],
      "source": [
        "#El tercer argumento de arange representa el incremento deseado o step\n",
        "arr2 = np.arange(0,10,1.5) #Arreglo entre 0 y 10 (exceptuando al 10), con valores cada 1.5\n",
        "print(arr2)"
      ]
    },
    {
      "cell_type": "code",
      "execution_count": null,
      "metadata": {
        "id": "VbSSrxHCi8Hh"
      },
      "outputs": [],
      "source": [
        "np.linspace?"
      ]
    },
    {
      "cell_type": "code",
      "execution_count": null,
      "metadata": {
        "id": "VGkq69SIrWZc"
      },
      "outputs": [],
      "source": [
        "#El tercer argumento de linspace representa la cantidad de datos deseados en el arreglo\n",
        "arr3 = np.linspace(0,10,21) #Arreglo entre 0 y 10 (con 10), con 21 valores\n",
        "print(arr3)"
      ]
    },
    {
      "cell_type": "markdown",
      "metadata": {
        "id": "YuLmPhIcXZXe"
      },
      "source": [
        "La diferencia entre arange y linspace es que en el primero se define el intervalo o espaciado entre valores; mientras que con linspace se define la cantidad de valores\n"
      ]
    },
    {
      "cell_type": "markdown",
      "metadata": {
        "id": "WJdOXFdv6U50"
      },
      "source": [
        "### Arreglos matriciales\n",
        "\n",
        "Con las funciones anteriores se pueden crear matrices, pero existen también funciones para crear matrices con características específicas.\n",
        "\n",
        "| Comando | Resultado |\n",
        "| :---: | :---: |\n",
        "| identity() | Crea una matriz identidad|\n",
        "| eye() |Crea una matriz con unos en una diagonal (offset)|\n",
        "| diag() |Crea una matriz con un arreglo arbitrario en la diagonal|\n"
      ]
    },
    {
      "cell_type": "code",
      "execution_count": null,
      "metadata": {
        "id": "Kl1wmT7V6WzT"
      },
      "outputs": [],
      "source": [
        "identidad = np.identity(4)\n",
        "print(identidad)"
      ]
    },
    {
      "cell_type": "code",
      "execution_count": null,
      "metadata": {
        "id": "oCEoQUIErgCb"
      },
      "outputs": [],
      "source": [
        "np.eye?\n",
        "offset = np.eye(4, k=1)\n",
        "print(offset)"
      ]
    },
    {
      "cell_type": "markdown",
      "metadata": {
        "id": "KQm5oan-WRKV"
      },
      "source": [
        "El parámetro k hace la diagonal superior (k=1), inferior (k=-1) o principal."
      ]
    },
    {
      "cell_type": "code",
      "execution_count": null,
      "metadata": {
        "id": "L74PlLcLrjqb"
      },
      "outputs": [],
      "source": [
        "diagonal = np.diag(np.arange(1,5,1))\n",
        "print(diagonal)"
      ]
    },
    {
      "cell_type": "markdown",
      "metadata": {
        "id": "HIA5cAXy6rz8"
      },
      "source": [
        "### *List comprehension* y creación de arreglos\n",
        "\n",
        "Se puede crear un arreglo a partir de listas directamente obtenidas de *list comprehension*."
      ]
    },
    {
      "cell_type": "code",
      "execution_count": null,
      "metadata": {
        "id": "hKpIvkTr6vHL"
      },
      "outputs": [],
      "source": [
        "a = [4.54,844,0.23]\n",
        "print([i**2 for i in a])\n",
        "print(np.array([i**2 for i in a]))"
      ]
    },
    {
      "cell_type": "markdown",
      "metadata": {
        "id": "VYMVrH716zvU"
      },
      "source": [
        "## Comandos útiles para trabajar con arreglos de NumPy\n",
        "\n",
        "Los arreglos de NumPy están acompañados de varias funciones y atributos que permiten manipularlos.\n",
        "\n",
        "| Comando | Resultado |\n",
        "| :---: | :---: |\n",
        "| shape | Retorna una tupla con el número de elementos por dimensión|\n",
        "| ndim | Dice el número de dimensiones|\n",
        "| size | Dice cuántos elementos hay en un arreglo|\n",
        "| dtype | Dice el tipo de datos que guarda un arreglo|\n",
        "| T | Retorna la transpuesta de un arreglo|\n",
        "|flatten() | Retorna el arreglo colapsado en una dimensión|\n",
        "| fill() | Rellena el arreglo con el valor especificado|\n",
        "| reshape() | Retorna un arreglo con el shape especificado|\n",
        "| resize() | Cambia el tamaño y shape del arreglo|\n",
        "| where() | Retorna los índices donde se cumplen las condiciones dadas|"
      ]
    },
    {
      "cell_type": "code",
      "execution_count": null,
      "metadata": {
        "id": "IMPxVAjU_v90"
      },
      "outputs": [],
      "source": [
        "arr = np.array([1,2,3]) #Array de dimension 1x3\n",
        "arr"
      ]
    },
    {
      "cell_type": "code",
      "execution_count": null,
      "metadata": {
        "id": "vBGwRVKSL6Al"
      },
      "outputs": [],
      "source": [
        "arr = arr.reshape([3,1]) #Otra forma de crear un array 3x1\n",
        "print(arr)"
      ]
    },
    {
      "cell_type": "markdown",
      "metadata": {
        "id": "AJSlLZOabKWt"
      },
      "source": [
        "en reshape se especifica una tupla con la cantidad de [filas, columnas]"
      ]
    },
    {
      "cell_type": "code",
      "execution_count": null,
      "metadata": {
        "id": "Kn6ziMbvj6zl"
      },
      "outputs": [],
      "source": [
        "arr.T"
      ]
    },
    {
      "cell_type": "markdown",
      "metadata": {
        "id": "xkUf_s_7CE4C"
      },
      "source": [
        "Algunas de estas funciones son muy útiles para entender las características de los objetos con los que estamos trabajando."
      ]
    },
    {
      "cell_type": "code",
      "execution_count": null,
      "metadata": {
        "id": "M0MVWUO_7YF3"
      },
      "outputs": [],
      "source": [
        "ident = np.identity(3) #Creando una matriz identidad de 3x3\n",
        "\n",
        "print('Matriz: \\n',ident,'\\n')\n",
        "print('Número de elementos: ',ident.size,'\\n')\n",
        "print('Forma (filas,columnas): ',ident.shape, '\\n')\n",
        "print('Cantidad de dimensiones: ', ident.ndim)"
      ]
    },
    {
      "cell_type": "markdown",
      "metadata": {
        "id": "Vi7dbd06ECoZ"
      },
      "source": [
        "Otras nos permiten modificar la estructura del arreglo."
      ]
    },
    {
      "cell_type": "code",
      "execution_count": null,
      "metadata": {
        "id": "0vB-u9xaApGj"
      },
      "outputs": [],
      "source": [
        "print(arr1)"
      ]
    },
    {
      "cell_type": "code",
      "execution_count": null,
      "metadata": {
        "id": "ESNvQolRDtMq"
      },
      "outputs": [],
      "source": [
        "arr2 = np.resize(arr1,(7,2)) #Corta o agrega elementos según el tamaño especificado\n",
        "print(arr2)"
      ]
    },
    {
      "cell_type": "code",
      "execution_count": null,
      "metadata": {
        "id": "2uy7Yi3xNwBy"
      },
      "outputs": [],
      "source": [
        "arr1 #resize() no modifica el arreglo original"
      ]
    },
    {
      "cell_type": "markdown",
      "metadata": {
        "id": "U9EsdqNhEG7R"
      },
      "source": [
        "Se pueden hacer operaciones sofisticadas como la búsqueda en arreglos según ciertas condiciones y la aplicación de operaciones sobre los elementos que cumplen la condición."
      ]
    },
    {
      "cell_type": "code",
      "execution_count": null,
      "metadata": {
        "id": "yGnaaIhcN3mB"
      },
      "outputs": [],
      "source": [
        "original = np.random.rand(3,3) #matriz 3x3 con números aleatorios entre 0 y 1\n",
        "original"
      ]
    },
    {
      "cell_type": "code",
      "execution_count": null,
      "metadata": {
        "id": "WkG6XICLN9cx"
      },
      "outputs": [],
      "source": [
        "np.where(original < 0.5) #Retorna los índices donde los valores son menores a 0.5, como array([filas]), array([columnas])"
      ]
    },
    {
      "cell_type": "code",
      "execution_count": null,
      "metadata": {
        "id": "jbXlS__T_VMM"
      },
      "outputs": [],
      "source": [
        "np.where?"
      ]
    },
    {
      "cell_type": "code",
      "execution_count": null,
      "metadata": {
        "id": "IdC6ymM98Uds"
      },
      "outputs": [],
      "source": [
        "#Para los números que cumplen la condición calculamos el cuadrado, para los otros el cubo\n",
        "\n",
        "np.where(original < 0.5, original**2, original**3)"
      ]
    },
    {
      "cell_type": "code",
      "execution_count": null,
      "metadata": {
        "id": "RmKQgS-BOaEJ"
      },
      "outputs": [],
      "source": [
        "#Tal vez solamente necesitamos calcular el cuadrado de los que cumplen\n",
        "\n",
        "np.where(original < 0, original**2, original)"
      ]
    },
    {
      "cell_type": "markdown",
      "metadata": {
        "id": "lmJNfDYZo9ib"
      },
      "source": [
        "## <font color='purple'>**Ejercicio**</font>\n",
        "\n",
        "Suponga que usted quiere graficar los valores de un modelo que depende de dos variables $X$ y $Y$ usando Python. Para ello, usted desea generar los valores de entrada de $X_0$ de $X_1$  **en dos columnas separadas de un solo arreglo**, considerando lo siguiente:\n",
        "\n",
        "* El modelo es válido para $300 \\leq X \\leq 540$ y $300 \\leq Y \\leq 540$.\n",
        "* Usted sabe que necesita 100 valores o más de ambas variables para obtener una buena resolución en la respuesta del modelo.\n",
        "\n",
        "¿De qué forma podría crear este arreglo?\n"
      ]
    },
    {
      "cell_type": "code",
      "execution_count": null,
      "metadata": {
        "id": "ExEwbUuhC2Ra"
      },
      "outputs": [],
      "source": [
        "import numpy as np\n",
        "ar=np.empty([100,2])\n",
        "ar1=np.linspace(300,540,100) #se crea X y Y\n",
        "\n",
        "ar.ndim\n",
        "ar.size\n",
        "\n",
        "#arreglo = np.array([ar1],[ar1])  no sirve, no se pueden combinar así\n",
        "#ar.fill(ar1) no sirve porque solo se puede llenar así con un escalar\n",
        "\n",
        "arreglo=np.column_stack((ar1,ar1)) #operación para combinar 2 arreglos 1-dim en 1 2-dim, uniéndolos como columnas\n",
        "print(arreglo)"
      ]
    },
    {
      "cell_type": "markdown",
      "metadata": {
        "id": "Rg--ARE_8dt0"
      },
      "source": [
        "## Operaciones con arreglos de NumPy\n",
        "\n",
        "* Se pueden hacer operaciones tanto con escalares como entre matrices y vectores.\n",
        "* Estas operaciones se realizan según las reglas de álgebra lineal."
      ]
    },
    {
      "cell_type": "code",
      "execution_count": null,
      "metadata": {
        "id": "K-4Tv9DBLLdl"
      },
      "outputs": [],
      "source": [
        "import numpy as np\n",
        "arr = np.array([[1,2],[3,4]])\n",
        "print(arr, '\\n')\n",
        "\n",
        "print(arr*2, '\\n\\n', arr/2, '\\n\\n', arr-10,'\\n\\n', arr+5, '\\n') #Elemento por elemento"
      ]
    },
    {
      "cell_type": "code",
      "execution_count": null,
      "metadata": {
        "id": "HosH2r6t8q_r"
      },
      "outputs": [],
      "source": [
        "print(np.full([2,2],2), '\\n')\n",
        "arr * np.full([2,2],2) # Multiplicación de arreglos"
      ]
    },
    {
      "cell_type": "code",
      "execution_count": null,
      "metadata": {
        "id": "avFdfjI0LeW8"
      },
      "outputs": [],
      "source": [
        "print(np.identity(2))\n",
        "arr.dot(np.identity(2)) # Multiplicación de matrices\n",
        "np.dot?"
      ]
    },
    {
      "cell_type": "markdown",
      "metadata": {
        "id": "SkashJmKcYNK"
      },
      "source": [
        "## <font color='purple'> **Analicemos las funciones de NumPy vistas hasta ahora. ¿Cómo crearía un arreglo de elementos aleatorios tipo float entre 0 y 100?**</font>"
      ]
    },
    {
      "cell_type": "code",
      "execution_count": null,
      "metadata": {
        "id": "18Ip1uhxmp65"
      },
      "outputs": [],
      "source": [
        "a = np.random.rand(10)*100\n",
        "print(a)"
      ]
    },
    {
      "cell_type": "markdown",
      "metadata": {
        "id": "A6GE8pHz8vVc"
      },
      "source": [
        "### Operadores de reducción\n",
        "\n",
        "En general, son operaciones que tienen como objetivo reducir las dimensiones del arreglo. *Ejemplo*: Producto punto.\n",
        "\n",
        "| Comando | Resultado que retorna |\n",
        "|:----------:|:------------:|\n",
        "| argmax() | Índice donde ocurren los valores máximos |\n",
        "| min()    | Valor mínimo |\n",
        "| argmin() | Índice donde ocurren los valores mínimos |\n",
        "| conj()   | Conjugado complejo de todos los elementos |\\\n",
        "| round()  | Valor redondeado de cada elemento |\n",
        "| trace()  | Suma de las diagonales del arreglo |\n",
        "| sum()    | Suma del arreglo |\n",
        "| cumsum() | Suma acumulativa |\n",
        "| mean()   | Media aritmética |\n",
        "| var()    | Varianza|\n",
        "| std()    | Desviación estándar |\n",
        "| prod()   | Producto |\n",
        "| cumprod()| Producto acumulativo |\n"
      ]
    },
    {
      "cell_type": "code",
      "execution_count": null,
      "metadata": {
        "id": "_ANBIV0QbWCC"
      },
      "outputs": [],
      "source": [
        "a = np.array([[1,2,3,4], [5,6,7,8], [9,10,11,12]])\n",
        "a"
      ]
    },
    {
      "cell_type": "code",
      "execution_count": null,
      "metadata": {
        "id": "5gl7tjuaQcv1"
      },
      "outputs": [],
      "source": [
        "a.prod() #Producto de todos los elementos de un arreglo, en este caso sería 12!"
      ]
    },
    {
      "cell_type": "code",
      "execution_count": null,
      "metadata": {
        "id": "dEYOzM7JQlY8"
      },
      "outputs": [],
      "source": [
        "b = np.array([[1+2j,2+2j],[1-2j,5-12j]]) #Matriz con números complejos\n",
        "b"
      ]
    },
    {
      "cell_type": "code",
      "execution_count": null,
      "metadata": {
        "id": "OkYep1lZbvIT"
      },
      "outputs": [],
      "source": [
        "b.conj() #Conjugado del complejo"
      ]
    },
    {
      "cell_type": "code",
      "execution_count": null,
      "metadata": {
        "id": "ycFlNZc49Ob7"
      },
      "outputs": [],
      "source": [
        "datos = np.array([402.23,384.60,384.21,409.58,374.42,402.06])\n",
        "\n",
        "#Estadísticos descriptivos\n",
        "\n",
        "print('Media: ', np.mean(datos))\n",
        "print('Desviación estándar: ',np.std(datos))"
      ]
    },
    {
      "cell_type": "markdown",
      "metadata": {
        "id": "w-lnVyiv9jVs"
      },
      "source": [
        "## Indexación y slicing\n",
        "\n",
        "* Se puede acceder al índice o posición del elemento de un array con la sintaxis **[fila,columna]**.\n",
        "* El slicing se consigue con **[inicio:final:step,inicio:final:step]** en el orden **[filas,columnas]**."
      ]
    },
    {
      "cell_type": "code",
      "execution_count": null,
      "metadata": {
        "id": "e8rb7m8hiepx"
      },
      "outputs": [],
      "source": [
        "A = np.random.rand(6,6)\n",
        "print(A)"
      ]
    },
    {
      "cell_type": "code",
      "execution_count": null,
      "metadata": {
        "id": "kgalf3-WjmL-"
      },
      "outputs": [],
      "source": [
        "A[:, 2] #Extraer la tercera columna (índice 2)"
      ]
    },
    {
      "cell_type": "code",
      "execution_count": null,
      "metadata": {
        "id": "8XbRMMwUimeU"
      },
      "outputs": [],
      "source": [
        "A[0:2,0:2]\n",
        "A[:2, :2] #es lo mismo"
      ]
    },
    {
      "cell_type": "code",
      "execution_count": null,
      "metadata": {
        "id": "B2PQOv2ui1eo"
      },
      "outputs": [],
      "source": [
        "A[4:6, 4:6]\n",
        "A[-2:, -2:]"
      ]
    },
    {
      "cell_type": "code",
      "execution_count": null,
      "metadata": {
        "id": "H4lYevbZ9t76"
      },
      "outputs": [],
      "source": [
        "print(a,'\\n')\n",
        "print(a[1,1]) #se indica índice, devuelve valor en esa posición\n",
        "\n",
        "a[:, 0:2] #todas las filas, primera y segunda columna"
      ]
    },
    {
      "cell_type": "markdown",
      "metadata": {
        "id": "TVn5O-MvgYMp"
      },
      "source": [
        "¡Cuidado! Al hacer *slicing*, no se copian los datos subyacentes."
      ]
    },
    {
      "cell_type": "code",
      "execution_count": null,
      "metadata": {
        "id": "WfMwM_3I9wca"
      },
      "outputs": [],
      "source": [
        "original = np.array([1,2,3])\n",
        "original"
      ]
    },
    {
      "cell_type": "code",
      "execution_count": null,
      "metadata": {
        "id": "NlNNeK3ekV7i"
      },
      "outputs": [],
      "source": [
        "trozo_Dif = original.copy()[:2]\n",
        "trozo_Dif"
      ]
    },
    {
      "cell_type": "code",
      "execution_count": null,
      "metadata": {
        "id": "W741-7HAka3x"
      },
      "outputs": [],
      "source": [
        "trozo_Dif[0] = 9"
      ]
    },
    {
      "cell_type": "code",
      "execution_count": null,
      "metadata": {
        "id": "a8DjaER9kgLi"
      },
      "outputs": [],
      "source": [
        "original"
      ]
    },
    {
      "cell_type": "code",
      "execution_count": null,
      "metadata": {
        "id": "p1PHff6U93c6"
      },
      "outputs": [],
      "source": [
        "trozo = original[:2]\n",
        "trozo"
      ]
    },
    {
      "cell_type": "code",
      "execution_count": null,
      "metadata": {
        "id": "QyaWoDoZ95TS"
      },
      "outputs": [],
      "source": [
        "trozo[0] = 9 #modificar el primer elemento\n",
        "trozo"
      ]
    },
    {
      "cell_type": "code",
      "execution_count": null,
      "metadata": {
        "id": "WkK9POqs99FK"
      },
      "outputs": [],
      "source": [
        "original #¡Cambiamos el arreglo original!"
      ]
    },
    {
      "cell_type": "markdown",
      "metadata": {
        "id": "3YWOORCJf2TD"
      },
      "source": [
        "Los subarreglos que se extraen a través de *slicing* son vistas (views) de los datos originales. Hacen referencia a los mismos datos en memoria.\n",
        "\n"
      ]
    },
    {
      "cell_type": "code",
      "execution_count": null,
      "metadata": {
        "id": "HCm3ADdsgKhJ"
      },
      "outputs": [],
      "source": [
        "original = np.array([1,2,3])\n",
        "trozo = original[:2]\n",
        "\n",
        "modificado = np.copy(trozo) #básicamente una copia de la copia\n",
        "modificado[0] = 9\n",
        "\n",
        "print(original)\n",
        "print(modificado)"
      ]
    },
    {
      "cell_type": "markdown",
      "metadata": {
        "id": "3IHbO-mwVp3C"
      },
      "source": [
        "## Broadcasting\n",
        "\n",
        "*   Existen maneras de realizar cálculos con arreglos de diferente dimensionalidad en NumPy.\n",
        "*   Se puede pensar en la analogía de una transmisión de datos a todos los elementos de un arreglo.\n",
        "\n",
        "<center> <img src=\"https://numpy.org/doc/stable/_images/broadcasting_1.png\" alt=\"image info\" width=\"500\"/> </center>\n",
        "\n",
        "\n",
        "El tema broadcasting es un poco complejo pero útil, ya que puede reducir la cantidad de líneas de código en un cálculo. En el sitio oficial de [NumPy](https://numpy.org/doc/stable/user/basics.broadcasting.html) existe una explicación detallada de esta funcionalidad.\n",
        "\n",
        "### Ejemplos:\n"
      ]
    },
    {
      "cell_type": "code",
      "execution_count": null,
      "metadata": {
        "id": "TWNcGS4gWTMV"
      },
      "outputs": [],
      "source": [
        "a = np.array([1,2,3])\n",
        "b = 2\n",
        "print(a*b)"
      ]
    },
    {
      "cell_type": "code",
      "execution_count": null,
      "metadata": {
        "id": "WYl3uQTeX-JG"
      },
      "outputs": [],
      "source": [
        "a = np.ones((3,5))\n",
        "b = np.array([1,2,3])\n",
        "print(a, '\\n')\n",
        "print(b, '\\n')\n",
        "print(a+b)"
      ]
    },
    {
      "cell_type": "code",
      "execution_count": null,
      "metadata": {
        "id": "nZWBvQ0uWood"
      },
      "outputs": [],
      "source": [
        "# Para que el broadcasting funcione debe haber la misma cantidad de dimensiones\n",
        "a = np.ones((3,5))\n",
        "b = np.array([[1],[2],[3]]) # dims (3,1)\n",
        "print(a, '\\n')\n",
        "print(b, '\\n')\n",
        "print(a+b)"
      ]
    },
    {
      "cell_type": "markdown",
      "metadata": {
        "id": "M1jiyXDx-Dqb"
      },
      "source": [
        "## Manejo de archivos con NumPy\n",
        "\n",
        "* NumPy permite cargar datos de un archivo de texto con la función. Los datos se guardan en un array.\n",
        "* **loadtxt()** es una de las funciones más usadas.\n",
        "\n"
      ]
    },
    {
      "cell_type": "code",
      "execution_count": null,
      "metadata": {
        "id": "tn1Ie9CMbcs5"
      },
      "outputs": [],
      "source": [
        "from google.colab import drive\n",
        "drive.mount('/content/drive')"
      ]
    },
    {
      "cell_type": "code",
      "execution_count": null,
      "metadata": {
        "id": "jjHkChMl-aLS"
      },
      "outputs": [],
      "source": [
        "datos = np.loadtxt(open('./sc_notebooks/Numpy/entrada.csv','r'),delimiter=',')"
      ]
    },
    {
      "cell_type": "code",
      "execution_count": null,
      "metadata": {
        "id": "LXKR7t_eWHzV"
      },
      "outputs": [],
      "source": [
        "datos"
      ]
    },
    {
      "cell_type": "code",
      "execution_count": null,
      "metadata": {
        "id": "eOFpWqsGSILx"
      },
      "outputs": [],
      "source": [
        "np.sqrt(datos)"
      ]
    },
    {
      "cell_type": "markdown",
      "metadata": {
        "id": "Dkhe-laY-j48"
      },
      "source": [
        "Con **skiprows** se puede omitir tantas filas como se desee."
      ]
    },
    {
      "cell_type": "code",
      "execution_count": null,
      "metadata": {
        "id": "Zl_WkifC-cRy"
      },
      "outputs": [],
      "source": [
        "datos = np.loadtxt(open('./sc_notebooks/Numpy/entrada.csv','r'),delimiter=',',skiprows=4) #Ignora las primeras 4 filas\n",
        "datos"
      ]
    },
    {
      "cell_type": "markdown",
      "metadata": {
        "id": "bWANdpa2-qlz"
      },
      "source": [
        "### Archivos con encabezados\n",
        "\n",
        "Para cargar datos con encabezados en las columnas se utiliza **genfromtxt()**. Con esta función también se pueden leer archivos sin encabezado usando **names=False**."
      ]
    },
    {
      "cell_type": "code",
      "execution_count": null,
      "metadata": {
        "id": "b1a9-yue-xe6"
      },
      "outputs": [],
      "source": [
        "#datos2 = np.loadtxt(open('./sc_notebooks/Numpy/sismos.csv','r'),delimiter=',')\n",
        "#datos2\n",
        "#como hay encabezados, en vez de loadtxt se usa genfromtxt\n",
        "\n",
        "datos2 = np.genfromtxt(\"./sc_notebooks/Numpy/sismos.csv\", dtype=float, delimiter=',', names=True)\n",
        "np.genfromtxt?\n",
        "datos2"
      ]
    },
    {
      "cell_type": "markdown",
      "metadata": {
        "id": "RvNQvOnj-z6L"
      },
      "source": [
        " * Se puede acceder a los nombres con el atributo **dtype.names**.\n",
        " * Para conocer los datos se puede usar el nombre de las columnas en vez del índice."
      ]
    },
    {
      "cell_type": "code",
      "execution_count": null,
      "metadata": {
        "id": "NCV81WnM-zDa"
      },
      "outputs": [],
      "source": [
        "datos2.dtype.names\n"
      ]
    },
    {
      "cell_type": "code",
      "execution_count": null,
      "metadata": {
        "id": "M7adEjvGTTjn"
      },
      "outputs": [],
      "source": [
        "datos2['escala']"
      ]
    },
    {
      "cell_type": "markdown",
      "metadata": {
        "id": "F2KYejOF--Vb"
      },
      "source": [
        "### Guardar datos\n",
        "**savetxt()** sirve para guardar datos."
      ]
    },
    {
      "cell_type": "code",
      "execution_count": null,
      "metadata": {
        "id": "oaIKl5np-7-6"
      },
      "outputs": [],
      "source": [
        "arr = np.arange(0, 1000, 0.01)\n",
        "arr"
      ]
    },
    {
      "cell_type": "code",
      "execution_count": null,
      "metadata": {
        "id": "4YupjLQWTnXU"
      },
      "outputs": [],
      "source": [
        "np.savetxt('salida.csv',arr, delimiter=',', fmt='%.2f') #fmt indica el formato de los decimales para cada float"
      ]
    },
    {
      "cell_type": "markdown",
      "metadata": {
        "id": "U7EKVd0vzwjf"
      },
      "source": [
        "*Pregunta: todo esto se aplica de la misma manera en un IDE o editor de código regular?*"
      ]
    },
    {
      "cell_type": "code",
      "execution_count": null,
      "metadata": {
        "id": "rxTXPH1bnPAe"
      },
      "outputs": [],
      "source": [
        "np.linalg?"
      ]
    }
  ],
  "metadata": {
    "colab": {
      "provenance": []
    },
    "kernelspec": {
      "display_name": "Python 3 (ipykernel)",
      "language": "python",
      "name": "python3"
    },
    "language_info": {
      "codemirror_mode": {
        "name": "ipython",
        "version": 3
      },
      "file_extension": ".py",
      "mimetype": "text/x-python",
      "name": "python",
      "nbconvert_exporter": "python",
      "pygments_lexer": "ipython3",
      "version": "3.11.8"
    }
  },
  "nbformat": 4,
  "nbformat_minor": 0
}