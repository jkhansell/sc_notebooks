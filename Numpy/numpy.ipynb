{
 "cells": [
  {
   "cell_type": "markdown",
   "metadata": {
    "id": "J3zgJzVQ2lud"
   },
   "source": [
    "<div align=\"center\">\n",
    "    <h1>Taller de Computación Científica en Python - 2025</h1>\n",
    "    <img src=\"https://www.iycr2014.org/__data/assets/image/0014/133052/logo_cenat.png\" alt=\"Logo CENAT\" style=\"width: 200px;\"/>\n",
    "    \n",
    "</div>\n",
    "\n",
    "---\n",
    "\n",
    "## NumPy: Fundamento de Python científico  \n",
    "\n",
    "<center> <img src=\"https://upload.wikimedia.org/wikipedia/commons/thumb/3/31/NumPy_logo_2020.svg/1280px-NumPy_logo_2020.svg.png\" alt=\"image info\" width=\"300\"/> </center>\n",
    "\n",
    "En esta sección, se estudiará el uso de la librería NumPy como una herramienta para el manejo de arreglos de datos, matrices, y otros tipos de estructuras. Además, se revisarán las operaciones básicas involucradas y cómo obtener el mejor provecho de los recursos computacionales.\n",
    "\n",
    "---\n",
    "\n",
    "**Realizado por:**  \n",
    "Johansell Villalobos y Julián Sánchez"
   ]
  },
  {
   "cell_type": "code",
   "execution_count": 6,
   "metadata": {
    "colab": {
     "base_uri": "https://localhost:8080/"
    },
    "executionInfo": {
     "elapsed": 22831,
     "status": "ok",
     "timestamp": 1702080088396,
     "user": {
      "displayName": "Luis",
      "userId": "05605313541880881378"
     },
     "user_tz": 360
    },
    "id": "72a-eB5zLpRv",
    "outputId": "dfbf684b-d923-4d2f-9f3d-2af399621218"
   },
   "outputs": [
    {
     "name": "stdout",
     "output_type": "stream",
     "text": [
      "Mounted at /content/drive\n"
     ]
    }
   ],
   "source": [
    "# celda para acceder a archivos en Google Drive\n",
    "from google.colab import drive\n",
    "drive.mount('/content/drive')"
   ]
  },
  {
   "cell_type": "markdown",
   "metadata": {
    "id": "nBRqYpsCXw7I"
   },
   "source": [
    "La utilización de arreglos, matrices y otros arreglos multi-dimensionales\n",
    "son comunes en la computación numérica y científica.\n",
    "\n",
    "- Idealmente, al operar sobre los elementos de un arreglo queremos evitar ciclos explícitos que complican legibilidad y lógica del código.\n",
    "- Operaciones basadas en arreglos (vectorizadas)\n",
    "- Código más conciso y ejecución más rápida"
   ]
  },
  {
   "cell_type": "markdown",
   "metadata": {
    "id": "JFTXz-6RXceD"
   },
   "source": [
    "\n",
    "\n",
    "---\n",
    "\n"
   ]
  },
  {
   "cell_type": "markdown",
   "metadata": {
    "id": "yuHCqI6KXap9"
   },
   "source": [
    "* En Python, NumPy es el \"estándar\" para trabajar con arreglos.\n",
    "* Su núcleo está escrito en C, por lo que es más eficiente en el almacenamiento de datos.\n",
    "* Tiene una implementación de arreglos muy poderosa, de carácter multidimensional.\n",
    "* Engloba funciones de álgebra lineal, transformada de Fourier, etc.\n",
    "\n",
    "# Arreglos (*arrays*) de NumPy\n",
    "\n",
    "* Los arrays de NumPy son estructuras de datos **ordenadas**, de **cantidad fija de elementos** y un tipo de **dato uniforme**.\n",
    "* Son los equivalentes a las matrices y los vectores en álgebra, por lo que se les puede aplicar operaciones.\n",
    "* Por su implementación, son **más eficientes** que otras estructuras de datos nativas de Python. El código, además, es más conciso."
   ]
  },
  {
   "cell_type": "code",
   "execution_count": 1,
   "metadata": {
    "executionInfo": {
     "elapsed": 18,
     "status": "ok",
     "timestamp": 1702080088398,
     "user": {
      "displayName": "Luis",
      "userId": "05605313541880881378"
     },
     "user_tz": 360
    },
    "id": "HELHHsH53nZx"
   },
   "outputs": [],
   "source": [
    "#Se debe importar la biblioteca NumPy\n",
    "#Por covención se usa el alias np\n",
    "import numpy as np"
   ]
  },
  {
   "cell_type": "code",
   "execution_count": 2,
   "metadata": {
    "executionInfo": {
     "elapsed": 15,
     "status": "ok",
     "timestamp": 1702080088400,
     "user": {
      "displayName": "Luis",
      "userId": "05605313541880881378"
     },
     "user_tz": 360
    },
    "id": "kvm5mjxwnUtS"
   },
   "outputs": [
    {
     "name": "stdout",
     "output_type": "stream",
     "text": [
      "\u001b[1;31mType:\u001b[0m        module\n",
      "\u001b[1;31mString form:\u001b[0m <module 'numpy' from 'C:\\\\Users\\\\pelot\\\\AppData\\\\Local\\\\Packages\\\\PythonSoftwareFoundation.Python.3.11_qbz5n2kfra8p0\\\\LocalCache\\\\local-packages\\\\Python311\\\\site-packages\\\\numpy\\\\__init__.py'>\n",
      "\u001b[1;31mFile:\u001b[0m        c:\\users\\pelot\\appdata\\local\\packages\\pythonsoftwarefoundation.python.3.11_qbz5n2kfra8p0\\localcache\\local-packages\\python311\\site-packages\\numpy\\__init__.py\n",
      "\u001b[1;31mDocstring:\u001b[0m  \n",
      "NumPy\n",
      "=====\n",
      "\n",
      "Provides\n",
      "  1. An array object of arbitrary homogeneous items\n",
      "  2. Fast mathematical operations over arrays\n",
      "  3. Linear Algebra, Fourier Transforms, Random Number Generation\n",
      "\n",
      "How to use the documentation\n",
      "----------------------------\n",
      "Documentation is available in two forms: docstrings provided\n",
      "with the code, and a loose standing reference guide, available from\n",
      "`the NumPy homepage <https://numpy.org>`_.\n",
      "\n",
      "We recommend exploring the docstrings using\n",
      "`IPython <https://ipython.org>`_, an advanced Python shell with\n",
      "TAB-completion and introspection capabilities.  See below for further\n",
      "instructions.\n",
      "\n",
      "The docstring examples assume that `numpy` has been imported as ``np``::\n",
      "\n",
      "  >>> import numpy as np\n",
      "\n",
      "Code snippets are indicated by three greater-than signs::\n",
      "\n",
      "  >>> x = 42\n",
      "  >>> x = x + 1\n",
      "\n",
      "Use the built-in ``help`` function to view a function's docstring::\n",
      "\n",
      "  >>> help(np.sort)\n",
      "  ... # doctest: +SKIP\n",
      "\n",
      "For some objects, ``np.info(obj)`` may provide additional help.  This is\n",
      "particularly true if you see the line \"Help on ufunc object:\" at the top\n",
      "of the help() page.  Ufuncs are implemented in C, not Python, for speed.\n",
      "The native Python help() does not know how to view their help, but our\n",
      "np.info() function does.\n",
      "\n",
      "To search for documents containing a keyword, do::\n",
      "\n",
      "  >>> np.lookfor('keyword')\n",
      "  ... # doctest: +SKIP\n",
      "\n",
      "General-purpose documents like a glossary and help on the basic concepts\n",
      "of numpy are available under the ``doc`` sub-module::\n",
      "\n",
      "  >>> from numpy import doc\n",
      "  >>> help(doc)\n",
      "  ... # doctest: +SKIP\n",
      "\n",
      "Available subpackages\n",
      "---------------------\n",
      "lib\n",
      "    Basic functions used by several sub-packages.\n",
      "random\n",
      "    Core Random Tools\n",
      "linalg\n",
      "    Core Linear Algebra Tools\n",
      "fft\n",
      "    Core FFT routines\n",
      "polynomial\n",
      "    Polynomial tools\n",
      "testing\n",
      "    NumPy testing tools\n",
      "distutils\n",
      "    Enhancements to distutils with support for\n",
      "    Fortran compilers support and more.\n",
      "\n",
      "Utilities\n",
      "---------\n",
      "test\n",
      "    Run numpy unittests\n",
      "show_config\n",
      "    Show numpy build configuration\n",
      "dual\n",
      "    Overwrite certain functions with high-performance SciPy tools.\n",
      "    Note: `numpy.dual` is deprecated.  Use the functions from NumPy or Scipy\n",
      "    directly instead of importing them from `numpy.dual`.\n",
      "matlib\n",
      "    Make everything matrices.\n",
      "__version__\n",
      "    NumPy version string\n",
      "\n",
      "Viewing documentation using IPython\n",
      "-----------------------------------\n",
      "\n",
      "Start IPython and import `numpy` usually under the alias ``np``: `import\n",
      "numpy as np`.  Then, directly past or use the ``%cpaste`` magic to paste\n",
      "examples into the shell.  To see which functions are available in `numpy`,\n",
      "type ``np.<TAB>`` (where ``<TAB>`` refers to the TAB key), or use\n",
      "``np.*cos*?<ENTER>`` (where ``<ENTER>`` refers to the ENTER key) to narrow\n",
      "down the list.  To view the docstring for a function, use\n",
      "``np.cos?<ENTER>`` (to view the docstring) and ``np.cos??<ENTER>`` (to view\n",
      "the source code).\n",
      "\n",
      "Copies vs. in-place operation\n",
      "-----------------------------\n",
      "Most of the functions in `numpy` return a copy of the array argument\n",
      "(e.g., `np.sort`).  In-place versions of these functions are often\n",
      "available as array methods, i.e. ``x = np.array([1,2,3]); x.sort()``.\n",
      "Exceptions to this rule are documented."
     ]
    }
   ],
   "source": [
    "#Con el signo de ? podemos consultar la documentación de NumPy\n",
    "np?"
   ]
  },
  {
   "cell_type": "markdown",
   "metadata": {
    "id": "USBKrY9kqjSg"
   },
   "source": [
    "## ¿Por qué se dice que es más conciso y eficiente?"
   ]
  },
  {
   "cell_type": "code",
   "execution_count": 3,
   "metadata": {
    "colab": {
     "base_uri": "https://localhost:8080/"
    },
    "executionInfo": {
     "elapsed": 10702,
     "status": "ok",
     "timestamp": 1702080099090,
     "user": {
      "displayName": "Luis",
      "userId": "05605313541880881378"
     },
     "user_tz": 360
    },
    "id": "orQfovtS3uiA",
    "outputId": "ae91e63c-e433-4f00-d902-3ccc9350876c"
   },
   "outputs": [
    {
     "name": "stdout",
     "output_type": "stream",
     "text": [
      "160 ms ± 20.2 ms per loop (mean ± std. dev. of 7 runs, 10 loops each)\n",
      "4.07 ms ± 272 µs per loop (mean ± std. dev. of 7 runs, 10 loops each)\n"
     ]
    }
   ],
   "source": [
    "array = np.arange(1e6) #Creamos un arreglo de 1 millón de elementos\n",
    "                       #Queremos multiplicar por 5 cada elemento del arreglo\n",
    "\n",
    "lista = list(array) #Lo convertimos en una lista | [1, 2, 3, 4] | y = [1*5]\n",
    "\n",
    "#Medimos el tiempo de 10 loops ejecutados 5 veces\n",
    "\n",
    "%timeit -n10 y = [val*5 for val in lista] #List comprehension, multiplicar por 5 cada valor\n",
    "\n",
    "%timeit -n10 y = array*5 #NumPy ofrece operaciones aplicables directamente sobre el arreglo"
   ]
  },
  {
   "cell_type": "markdown",
   "metadata": {
    "id": "QajI0G8y47NE"
   },
   "source": [
    "## Creación de arreglos\n",
    "\n",
    "Varias funciones sirven para crear arreglos de NumPy, entre ellas las siguientes:\n",
    "\n",
    "| Función | Resultado |\n",
    "| :---: | :---: |\n",
    "| array() | Crea un arreglo con los datos especificados como estructuras de datos|\n",
    "| empty() | Crea un arreglo vacío, con datos \"basura\"|\n",
    "| zeros() | Crea un arreglo de ceros|\n",
    "|ones() | Crea un arreglo de unos|\n",
    "| full() | Crea un arreglo lleno del valor especificado|\n",
    "| arange() | Crea un arreglo de valores indicando un valor inicial, un final y un step|\n",
    "| linspace() | Crea un arreglo de valores indicando un valor inicial, un final y una cantidad deseada|\n",
    "| logspace() |Crea un arreglo de valores con espaciado logarítmico|\n",
    "| geomspace() |Crea un arreglo de valores con espaciado logarítmico en una progresión geométrica|\n",
    "| random() | Crea una matriz de números entre 0.0 y 1.0|\n",
    "\n"
   ]
  },
  {
   "cell_type": "code",
   "execution_count": 4,
   "metadata": {
    "colab": {
     "base_uri": "https://localhost:8080/"
    },
    "executionInfo": {
     "elapsed": 34,
     "status": "ok",
     "timestamp": 1702080099090,
     "user": {
      "displayName": "Luis",
      "userId": "05605313541880881378"
     },
     "user_tz": 360
    },
    "id": "o-ibktEW5jIM",
    "outputId": "cee505dc-54b3-41e1-aa2c-1ce8c19141eb"
   },
   "outputs": [
    {
     "name": "stdout",
     "output_type": "stream",
     "text": [
      "[1 2 3] \n",
      "\n",
      "[[1]\n",
      " [2]\n",
      " [3]] \n",
      "\n",
      "[[1 2]\n",
      " [3 4]] \n",
      "\n",
      "[[0.45666643 0.04934203 0.33076737 0.93760254]\n",
      " [0.15300884 0.62491393 0.36788993 0.7027512 ]\n",
      " [0.48722267 0.32187852 0.23330606 0.17802934]\n",
      " [0.69239688 0.35619765 0.93226598 0.02882919]\n",
      " [0.53398188 0.82328104 0.94855086 0.45224311]\n",
      " [0.43392803 0.96137701 0.57486506 0.72500409]\n",
      " [0.66092462 0.32934872 0.05513847 0.66761933]] \n",
      "\n",
      "----------\n",
      "[[[ 0.66377614  0.13637273 -0.24685807]\n",
      "  [ 0.77587853 -1.62382537  1.08571774]\n",
      "  [-0.28917387  0.01638463 -0.59007997]]\n",
      "\n",
      " [[-1.34658919  0.0173235   0.33177612]\n",
      "  [ 0.66142234 -0.37820817 -1.40281759]\n",
      "  [-0.0520403   1.2129827   1.6232279 ]]\n",
      "\n",
      " [[ 0.51847478 -1.12158136  1.13886765]\n",
      "  [-0.64647947 -0.27939965 -0.72750393]\n",
      "  [-0.89452829  1.55184391 -0.75409247]]] \n",
      "\n"
     ]
    }
   ],
   "source": [
    "arr = np.array([1,2,3]) #Array de dimensiones 1x3\n",
    "\n",
    "print(arr,'\\n')\n",
    "print(np.array([[1],[2],[3]]),'\\n') #Array de dimensiones 3x1\n",
    "print(np.array([[1,2],[3,4]]),'\\n') #Matrix 2x2\n",
    "\n",
    "print(np.random.random([7,4]), '\\n')\n",
    "print(\"----------\")\n",
    "\n",
    "print(np.random.randn(3,3,3), '\\n')\n"
   ]
  },
  {
   "cell_type": "code",
   "execution_count": 5,
   "metadata": {
    "executionInfo": {
     "elapsed": 32,
     "status": "ok",
     "timestamp": 1702080099091,
     "user": {
      "displayName": "Luis",
      "userId": "05605313541880881378"
     },
     "user_tz": 360
    },
    "id": "-VOlXl_9m4zW"
   },
   "outputs": [
    {
     "name": "stdout",
     "output_type": "stream",
     "text": [
      "\u001b[1;31mDocstring:\u001b[0m\n",
      "randn(d0, d1, ..., dn)\n",
      "\n",
      "Return a sample (or samples) from the \"standard normal\" distribution.\n",
      "\n",
      ".. note::\n",
      "    This is a convenience function for users porting code from Matlab,\n",
      "    and wraps `standard_normal`. That function takes a\n",
      "    tuple to specify the size of the output, which is consistent with\n",
      "    other NumPy functions like `numpy.zeros` and `numpy.ones`.\n",
      "\n",
      ".. note::\n",
      "    New code should use the\n",
      "    `~numpy.random.Generator.standard_normal`\n",
      "    method of a `~numpy.random.Generator` instance instead;\n",
      "    please see the :ref:`random-quick-start`.\n",
      "\n",
      "If positive int_like arguments are provided, `randn` generates an array\n",
      "of shape ``(d0, d1, ..., dn)``, filled\n",
      "with random floats sampled from a univariate \"normal\" (Gaussian)\n",
      "distribution of mean 0 and variance 1. A single float randomly sampled\n",
      "from the distribution is returned if no argument is provided.\n",
      "\n",
      "Parameters\n",
      "----------\n",
      "d0, d1, ..., dn : int, optional\n",
      "    The dimensions of the returned array, must be non-negative.\n",
      "    If no argument is given a single Python float is returned.\n",
      "\n",
      "Returns\n",
      "-------\n",
      "Z : ndarray or float\n",
      "    A ``(d0, d1, ..., dn)``-shaped array of floating-point samples from\n",
      "    the standard normal distribution, or a single such float if\n",
      "    no parameters were supplied.\n",
      "\n",
      "See Also\n",
      "--------\n",
      "standard_normal : Similar, but takes a tuple as its argument.\n",
      "normal : Also accepts mu and sigma arguments.\n",
      "random.Generator.standard_normal: which should be used for new code.\n",
      "\n",
      "Notes\n",
      "-----\n",
      "For random samples from the normal distribution with mean ``mu`` and\n",
      "standard deviation ``sigma``, use::\n",
      "\n",
      "    sigma * np.random.randn(...) + mu\n",
      "\n",
      "Examples\n",
      "--------\n",
      ">>> np.random.randn()\n",
      "2.1923875335537315  # random\n",
      "\n",
      "Two-by-four array of samples from the normal distribution with\n",
      "mean 3 and standard deviation 2.5:\n",
      "\n",
      ">>> 3 + 2.5 * np.random.randn(2, 4)\n",
      "array([[-4.49401501,  4.00950034, -1.81814867,  7.29718677],   # random\n",
      "       [ 0.39924804,  4.68456316,  4.99394529,  4.84057254]])  # random\n",
      "\u001b[1;31mType:\u001b[0m      builtin_function_or_method"
     ]
    }
   ],
   "source": [
    "np.random.randn?"
   ]
  },
  {
   "cell_type": "markdown",
   "metadata": {
    "id": "FDd0RgDk5nyU"
   },
   "source": [
    "* Observe que los arreglos se encierran entre **[]**, pero que al imprimir sus valores no están separados por comas como en las listas.\n",
    "* Las dimensiones siempre se indican como **filas x columnas**.\n",
    "\n",
    "### Crear arreglos con distintos valores iniciales"
   ]
  },
  {
   "cell_type": "code",
   "execution_count": 6,
   "metadata": {
    "executionInfo": {
     "elapsed": 48,
     "status": "ok",
     "timestamp": 1702080099109,
     "user": {
      "displayName": "Luis",
      "userId": "05605313541880881378"
     },
     "user_tz": 360
    },
    "id": "BEtIVK5dI170"
   },
   "outputs": [
    {
     "name": "stdout",
     "output_type": "stream",
     "text": [
      "\u001b[1;31mDocstring:\u001b[0m\n",
      "empty(shape, dtype=float, order='C', *, like=None)\n",
      "\n",
      "Return a new array of given shape and type, without initializing entries.\n",
      "\n",
      "Parameters\n",
      "----------\n",
      "shape : int or tuple of int\n",
      "    Shape of the empty array, e.g., ``(2, 3)`` or ``2``.\n",
      "dtype : data-type, optional\n",
      "    Desired output data-type for the array, e.g, `numpy.int8`. Default is\n",
      "    `numpy.float64`.\n",
      "order : {'C', 'F'}, optional, default: 'C'\n",
      "    Whether to store multi-dimensional data in row-major\n",
      "    (C-style) or column-major (Fortran-style) order in\n",
      "    memory.\n",
      "like : array_like, optional\n",
      "    Reference object to allow the creation of arrays which are not\n",
      "    NumPy arrays. If an array-like passed in as ``like`` supports\n",
      "    the ``__array_function__`` protocol, the result will be defined\n",
      "    by it. In this case, it ensures the creation of an array object\n",
      "    compatible with that passed in via this argument.\n",
      "\n",
      "    .. versionadded:: 1.20.0\n",
      "\n",
      "Returns\n",
      "-------\n",
      "out : ndarray\n",
      "    Array of uninitialized (arbitrary) data of the given shape, dtype, and\n",
      "    order.  Object arrays will be initialized to None.\n",
      "\n",
      "See Also\n",
      "--------\n",
      "empty_like : Return an empty array with shape and type of input.\n",
      "ones : Return a new array setting values to one.\n",
      "zeros : Return a new array setting values to zero.\n",
      "full : Return a new array of given shape filled with value.\n",
      "\n",
      "\n",
      "Notes\n",
      "-----\n",
      "`empty`, unlike `zeros`, does not set the array values to zero,\n",
      "and may therefore be marginally faster.  On the other hand, it requires\n",
      "the user to manually set all the values in the array, and should be\n",
      "used with caution.\n",
      "\n",
      "Examples\n",
      "--------\n",
      ">>> np.empty([2, 2])\n",
      "array([[ -9.74499359e+001,   6.69583040e-309],\n",
      "       [  2.13182611e-314,   3.06959433e-309]])         #uninitialized\n",
      "\n",
      ">>> np.empty([2, 2], dtype=int)\n",
      "array([[-1073741821, -1067949133],\n",
      "       [  496041986,    19249760]])                     #uninitialized\n",
      "\u001b[1;31mType:\u001b[0m      builtin_function_or_method"
     ]
    }
   ],
   "source": [
    "import numpy as np\n",
    "np.empty?"
   ]
  },
  {
   "cell_type": "code",
   "execution_count": 7,
   "metadata": {
    "colab": {
     "base_uri": "https://localhost:8080/"
    },
    "executionInfo": {
     "elapsed": 53,
     "status": "ok",
     "timestamp": 1702080099116,
     "user": {
      "displayName": "Luis",
      "userId": "05605313541880881378"
     },
     "user_tz": 360
    },
    "id": "9h22GxN_5tjr",
    "outputId": "d52ef95b-f7cf-4117-ecc6-a0b1cb738248"
   },
   "outputs": [
    {
     "name": "stdout",
     "output_type": "stream",
     "text": [
      "[[1.34032894e-311 2.47032823e-322 0.00000000e+000 0.00000000e+000]\n",
      " [1.11260619e-306 3.76231868e+174 6.81017810e-091 4.00769607e+174]\n",
      " [1.00538988e-047 3.63978868e+175 3.99910963e+252 8.34402697e-309]] \n",
      "\n",
      "[[3. 3. 3. 3.]\n",
      " [3. 3. 3. 3.]\n",
      " [3. 3. 3. 3.]] \n",
      "\n",
      "[1. 1. 1. 1. 1.] \n",
      "\n",
      "[[inf inf]\n",
      " [inf inf]]\n"
     ]
    }
   ],
   "source": [
    "arr1 = np.empty([3,4]) # Se indican [numero de filas, numero de columnas]\n",
    "print(arr1,'\\n')\n",
    "\n",
    "arr1.fill(3)\n",
    "print(arr1,'\\n')\n",
    "\n",
    "print(np.ones([5]),'\\n') # Si se indica solo un número, supondrá que son columnas\n",
    "\n",
    "print(np.full([2,2], np.inf)) # Crea una matriz rellena de \"infinito\""
   ]
  },
  {
   "cell_type": "markdown",
   "metadata": {
    "id": "_XeuOx2j6NW8"
   },
   "source": [
    "### Arreglos con secuencias incrementales"
   ]
  },
  {
   "cell_type": "markdown",
   "metadata": {
    "id": "XeCuYhn_azxH"
   },
   "source": [
    "Un caso de uso muy común es crear un arreglo incremental desde 0 hasta algún valor arbitrario.\n",
    "\n",
    "- Crearlo manualmente con np.array([0,1,2,...,N]) puede resultar inviable para arreglos muy grandes.\n",
    "\n"
   ]
  },
  {
   "cell_type": "code",
   "execution_count": 8,
   "metadata": {
    "executionInfo": {
     "elapsed": 47,
     "status": "ok",
     "timestamp": 1702080099116,
     "user": {
      "displayName": "Luis",
      "userId": "05605313541880881378"
     },
     "user_tz": 360
    },
    "id": "ZjvCpcZJbHYX"
   },
   "outputs": [
    {
     "name": "stdout",
     "output_type": "stream",
     "text": [
      "\u001b[1;31mDocstring:\u001b[0m\n",
      "arange([start,] stop[, step,], dtype=None, *, like=None)\n",
      "\n",
      "Return evenly spaced values within a given interval.\n",
      "\n",
      "``arange`` can be called with a varying number of positional arguments:\n",
      "\n",
      "* ``arange(stop)``: Values are generated within the half-open interval\n",
      "  ``[0, stop)`` (in other words, the interval including `start` but\n",
      "  excluding `stop`).\n",
      "* ``arange(start, stop)``: Values are generated within the half-open\n",
      "  interval ``[start, stop)``.\n",
      "* ``arange(start, stop, step)`` Values are generated within the half-open\n",
      "  interval ``[start, stop)``, with spacing between values given by\n",
      "  ``step``.\n",
      "\n",
      "For integer arguments the function is roughly equivalent to the Python\n",
      "built-in :py:class:`range`, but returns an ndarray rather than a ``range``\n",
      "instance.\n",
      "\n",
      "When using a non-integer step, such as 0.1, it is often better to use\n",
      "`numpy.linspace`.\n",
      "\n",
      "See the Warning sections below for more information.\n",
      "\n",
      "Parameters\n",
      "----------\n",
      "start : integer or real, optional\n",
      "    Start of interval.  The interval includes this value.  The default\n",
      "    start value is 0.\n",
      "stop : integer or real\n",
      "    End of interval.  The interval does not include this value, except\n",
      "    in some cases where `step` is not an integer and floating point\n",
      "    round-off affects the length of `out`.\n",
      "step : integer or real, optional\n",
      "    Spacing between values.  For any output `out`, this is the distance\n",
      "    between two adjacent values, ``out[i+1] - out[i]``.  The default\n",
      "    step size is 1.  If `step` is specified as a position argument,\n",
      "    `start` must also be given.\n",
      "dtype : dtype, optional\n",
      "    The type of the output array.  If `dtype` is not given, infer the data\n",
      "    type from the other input arguments.\n",
      "like : array_like, optional\n",
      "    Reference object to allow the creation of arrays which are not\n",
      "    NumPy arrays. If an array-like passed in as ``like`` supports\n",
      "    the ``__array_function__`` protocol, the result will be defined\n",
      "    by it. In this case, it ensures the creation of an array object\n",
      "    compatible with that passed in via this argument.\n",
      "\n",
      "    .. versionadded:: 1.20.0\n",
      "\n",
      "Returns\n",
      "-------\n",
      "arange : ndarray\n",
      "    Array of evenly spaced values.\n",
      "\n",
      "    For floating point arguments, the length of the result is\n",
      "    ``ceil((stop - start)/step)``.  Because of floating point overflow,\n",
      "    this rule may result in the last element of `out` being greater\n",
      "    than `stop`.\n",
      "\n",
      "Warnings\n",
      "--------\n",
      "The length of the output might not be numerically stable.\n",
      "\n",
      "Another stability issue is due to the internal implementation of\n",
      "`numpy.arange`.\n",
      "The actual step value used to populate the array is\n",
      "``dtype(start + step) - dtype(start)`` and not `step`. Precision loss\n",
      "can occur here, due to casting or due to using floating points when\n",
      "`start` is much larger than `step`. This can lead to unexpected\n",
      "behaviour. For example::\n",
      "\n",
      "  >>> np.arange(0, 5, 0.5, dtype=int)\n",
      "  array([0, 0, 0, 0, 0, 0, 0, 0, 0, 0])\n",
      "  >>> np.arange(-3, 3, 0.5, dtype=int)\n",
      "  array([-3, -2, -1,  0,  1,  2,  3,  4,  5,  6,  7,  8])\n",
      "\n",
      "In such cases, the use of `numpy.linspace` should be preferred.\n",
      "\n",
      "The built-in :py:class:`range` generates :std:doc:`Python built-in integers\n",
      "that have arbitrary size <python:c-api/long>`, while `numpy.arange`\n",
      "produces `numpy.int32` or `numpy.int64` numbers. This may result in\n",
      "incorrect results for large integer values::\n",
      "\n",
      "  >>> power = 40\n",
      "  >>> modulo = 10000\n",
      "  >>> x1 = [(n ** power) % modulo for n in range(8)]\n",
      "  >>> x2 = [(n ** power) % modulo for n in np.arange(8)]\n",
      "  >>> print(x1)\n",
      "  [0, 1, 7776, 8801, 6176, 625, 6576, 4001]  # correct\n",
      "  >>> print(x2)\n",
      "  [0, 1, 7776, 7185, 0, 5969, 4816, 3361]  # incorrect\n",
      "\n",
      "See Also\n",
      "--------\n",
      "numpy.linspace : Evenly spaced numbers with careful handling of endpoints.\n",
      "numpy.ogrid: Arrays of evenly spaced numbers in N-dimensions.\n",
      "numpy.mgrid: Grid-shaped arrays of evenly spaced numbers in N-dimensions.\n",
      ":ref:`how-to-partition`\n",
      "\n",
      "Examples\n",
      "--------\n",
      ">>> np.arange(3)\n",
      "array([0, 1, 2])\n",
      ">>> np.arange(3.0)\n",
      "array([ 0.,  1.,  2.])\n",
      ">>> np.arange(3,7)\n",
      "array([3, 4, 5, 6])\n",
      ">>> np.arange(3,7,2)\n",
      "array([3, 5])\n",
      "\u001b[1;31mType:\u001b[0m      builtin_function_or_method"
     ]
    }
   ],
   "source": [
    "#La función de construcción arange provee esta funcionalidad.\n",
    "np.arange?"
   ]
  },
  {
   "cell_type": "code",
   "execution_count": 9,
   "metadata": {
    "colab": {
     "base_uri": "https://localhost:8080/"
    },
    "executionInfo": {
     "elapsed": 51,
     "status": "ok",
     "timestamp": 1702080099121,
     "user": {
      "displayName": "Luis",
      "userId": "05605313541880881378"
     },
     "user_tz": 360
    },
    "id": "NSu4YiMQbWQO",
    "outputId": "4131c2a6-b9dd-4f41-f810-6602c4041861"
   },
   "outputs": [
    {
     "data": {
      "text/plain": [
       "array([ 0,  1,  2,  3,  4,  5,  6,  7,  8,  9, 10, 11, 12, 13, 14, 15, 16,\n",
       "       17, 18, 19, 20, 21, 22, 23, 24, 25, 26, 27, 28, 29, 30, 31, 32, 33,\n",
       "       34, 35, 36, 37, 38, 39, 40, 41, 42, 43, 44, 45, 46, 47, 48, 49, 50,\n",
       "       51, 52, 53, 54, 55, 56, 57, 58, 59, 60, 61, 62, 63, 64, 65, 66, 67,\n",
       "       68, 69, 70, 71, 72, 73, 74, 75, 76, 77, 78, 79, 80, 81, 82, 83, 84,\n",
       "       85, 86, 87, 88, 89, 90, 91, 92, 93, 94, 95, 96, 97, 98, 99])"
      ]
     },
     "execution_count": 9,
     "metadata": {},
     "output_type": "execute_result"
    }
   ],
   "source": [
    "np.arange(100)"
   ]
  },
  {
   "cell_type": "code",
   "execution_count": 10,
   "metadata": {
    "colab": {
     "base_uri": "https://localhost:8080/"
    },
    "executionInfo": {
     "elapsed": 49,
     "status": "ok",
     "timestamp": 1702080099122,
     "user": {
      "displayName": "Luis",
      "userId": "05605313541880881378"
     },
     "user_tz": 360
    },
    "id": "cMkMWIAqbaWn",
    "outputId": "35dc2dd4-381e-40b8-d5e2-570ee20df7e5"
   },
   "outputs": [
    {
     "data": {
      "text/plain": [
       "array([50, 51, 52, 53, 54, 55, 56, 57, 58, 59, 60, 61, 62, 63, 64, 65, 66,\n",
       "       67, 68, 69, 70, 71, 72, 73, 74, 75, 76, 77, 78, 79, 80, 81, 82, 83,\n",
       "       84, 85, 86, 87, 88, 89, 90, 91, 92, 93, 94, 95, 96, 97, 98, 99])"
      ]
     },
     "execution_count": 10,
     "metadata": {},
     "output_type": "execute_result"
    }
   ],
   "source": [
    "np.arange(50,100)"
   ]
  },
  {
   "cell_type": "code",
   "execution_count": 12,
   "metadata": {
    "colab": {
     "base_uri": "https://localhost:8080/"
    },
    "executionInfo": {
     "elapsed": 46,
     "status": "ok",
     "timestamp": 1702080099122,
     "user": {
      "displayName": "Luis",
      "userId": "05605313541880881378"
     },
     "user_tz": 360
    },
    "id": "7nNlee5a6QFE",
    "outputId": "e297b4d3-4199-46c3-ec41-72ad16037b8f"
   },
   "outputs": [
    {
     "name": "stdout",
     "output_type": "stream",
     "text": [
      "[0.  1.5 3.  4.5 6.  7.5 9. ]\n"
     ]
    }
   ],
   "source": [
    "#El tercer argumento de arange representa el incremento deseado o step\n",
    "arr2 = np.arange(0,10,1.5) #Arreglo entre 0 y 10 (exceptuando al 10), con valores cada 1.5\n",
    "print(arr2)"
   ]
  },
  {
   "cell_type": "code",
   "execution_count": 13,
   "metadata": {
    "executionInfo": {
     "elapsed": 43,
     "status": "ok",
     "timestamp": 1702080099122,
     "user": {
      "displayName": "Luis",
      "userId": "05605313541880881378"
     },
     "user_tz": 360
    },
    "id": "VbSSrxHCi8Hh"
   },
   "outputs": [
    {
     "name": "stdout",
     "output_type": "stream",
     "text": [
      "\u001b[1;31mSignature:\u001b[0m\n",
      "\u001b[0mnp\u001b[0m\u001b[1;33m.\u001b[0m\u001b[0mlinspace\u001b[0m\u001b[1;33m(\u001b[0m\u001b[1;33m\n",
      "\u001b[0m    \u001b[0mstart\u001b[0m\u001b[1;33m,\u001b[0m\u001b[1;33m\n",
      "\u001b[0m    \u001b[0mstop\u001b[0m\u001b[1;33m,\u001b[0m\u001b[1;33m\n",
      "\u001b[0m    \u001b[0mnum\u001b[0m\u001b[1;33m=\u001b[0m\u001b[1;36m50\u001b[0m\u001b[1;33m,\u001b[0m\u001b[1;33m\n",
      "\u001b[0m    \u001b[0mendpoint\u001b[0m\u001b[1;33m=\u001b[0m\u001b[1;32mTrue\u001b[0m\u001b[1;33m,\u001b[0m\u001b[1;33m\n",
      "\u001b[0m    \u001b[0mretstep\u001b[0m\u001b[1;33m=\u001b[0m\u001b[1;32mFalse\u001b[0m\u001b[1;33m,\u001b[0m\u001b[1;33m\n",
      "\u001b[0m    \u001b[0mdtype\u001b[0m\u001b[1;33m=\u001b[0m\u001b[1;32mNone\u001b[0m\u001b[1;33m,\u001b[0m\u001b[1;33m\n",
      "\u001b[0m    \u001b[0maxis\u001b[0m\u001b[1;33m=\u001b[0m\u001b[1;36m0\u001b[0m\u001b[1;33m,\u001b[0m\u001b[1;33m\n",
      "\u001b[0m\u001b[1;33m)\u001b[0m\u001b[1;33m\u001b[0m\u001b[1;33m\u001b[0m\u001b[0m\n",
      "\u001b[1;31mDocstring:\u001b[0m\n",
      "Return evenly spaced numbers over a specified interval.\n",
      "\n",
      "Returns `num` evenly spaced samples, calculated over the\n",
      "interval [`start`, `stop`].\n",
      "\n",
      "The endpoint of the interval can optionally be excluded.\n",
      "\n",
      ".. versionchanged:: 1.16.0\n",
      "    Non-scalar `start` and `stop` are now supported.\n",
      "\n",
      ".. versionchanged:: 1.20.0\n",
      "    Values are rounded towards ``-inf`` instead of ``0`` when an\n",
      "    integer ``dtype`` is specified. The old behavior can\n",
      "    still be obtained with ``np.linspace(start, stop, num).astype(int)``\n",
      "\n",
      "Parameters\n",
      "----------\n",
      "start : array_like\n",
      "    The starting value of the sequence.\n",
      "stop : array_like\n",
      "    The end value of the sequence, unless `endpoint` is set to False.\n",
      "    In that case, the sequence consists of all but the last of ``num + 1``\n",
      "    evenly spaced samples, so that `stop` is excluded.  Note that the step\n",
      "    size changes when `endpoint` is False.\n",
      "num : int, optional\n",
      "    Number of samples to generate. Default is 50. Must be non-negative.\n",
      "endpoint : bool, optional\n",
      "    If True, `stop` is the last sample. Otherwise, it is not included.\n",
      "    Default is True.\n",
      "retstep : bool, optional\n",
      "    If True, return (`samples`, `step`), where `step` is the spacing\n",
      "    between samples.\n",
      "dtype : dtype, optional\n",
      "    The type of the output array.  If `dtype` is not given, the data type\n",
      "    is inferred from `start` and `stop`. The inferred dtype will never be\n",
      "    an integer; `float` is chosen even if the arguments would produce an\n",
      "    array of integers.\n",
      "\n",
      "    .. versionadded:: 1.9.0\n",
      "\n",
      "axis : int, optional\n",
      "    The axis in the result to store the samples.  Relevant only if start\n",
      "    or stop are array-like.  By default (0), the samples will be along a\n",
      "    new axis inserted at the beginning. Use -1 to get an axis at the end.\n",
      "\n",
      "    .. versionadded:: 1.16.0\n",
      "\n",
      "Returns\n",
      "-------\n",
      "samples : ndarray\n",
      "    There are `num` equally spaced samples in the closed interval\n",
      "    ``[start, stop]`` or the half-open interval ``[start, stop)``\n",
      "    (depending on whether `endpoint` is True or False).\n",
      "step : float, optional\n",
      "    Only returned if `retstep` is True\n",
      "\n",
      "    Size of spacing between samples.\n",
      "\n",
      "\n",
      "See Also\n",
      "--------\n",
      "arange : Similar to `linspace`, but uses a step size (instead of the\n",
      "         number of samples).\n",
      "geomspace : Similar to `linspace`, but with numbers spaced evenly on a log\n",
      "            scale (a geometric progression).\n",
      "logspace : Similar to `geomspace`, but with the end points specified as\n",
      "           logarithms.\n",
      ":ref:`how-to-partition`\n",
      "\n",
      "Examples\n",
      "--------\n",
      ">>> np.linspace(2.0, 3.0, num=5)\n",
      "array([2.  , 2.25, 2.5 , 2.75, 3.  ])\n",
      ">>> np.linspace(2.0, 3.0, num=5, endpoint=False)\n",
      "array([2. ,  2.2,  2.4,  2.6,  2.8])\n",
      ">>> np.linspace(2.0, 3.0, num=5, retstep=True)\n",
      "(array([2.  ,  2.25,  2.5 ,  2.75,  3.  ]), 0.25)\n",
      "\n",
      "Graphical illustration:\n",
      "\n",
      ">>> import matplotlib.pyplot as plt\n",
      ">>> N = 8\n",
      ">>> y = np.zeros(N)\n",
      ">>> x1 = np.linspace(0, 10, N, endpoint=True)\n",
      ">>> x2 = np.linspace(0, 10, N, endpoint=False)\n",
      ">>> plt.plot(x1, y, 'o')\n",
      "[<matplotlib.lines.Line2D object at 0x...>]\n",
      ">>> plt.plot(x2, y + 0.5, 'o')\n",
      "[<matplotlib.lines.Line2D object at 0x...>]\n",
      ">>> plt.ylim([-0.5, 1])\n",
      "(-0.5, 1)\n",
      ">>> plt.show()\n",
      "\u001b[1;31mFile:\u001b[0m      c:\\users\\pelot\\appdata\\local\\packages\\pythonsoftwarefoundation.python.3.11_qbz5n2kfra8p0\\localcache\\local-packages\\python311\\site-packages\\numpy\\core\\function_base.py\n",
      "\u001b[1;31mType:\u001b[0m      function"
     ]
    }
   ],
   "source": [
    "np.linspace?"
   ]
  },
  {
   "cell_type": "code",
   "execution_count": 14,
   "metadata": {
    "colab": {
     "base_uri": "https://localhost:8080/"
    },
    "executionInfo": {
     "elapsed": 49,
     "status": "ok",
     "timestamp": 1702080099128,
     "user": {
      "displayName": "Luis",
      "userId": "05605313541880881378"
     },
     "user_tz": 360
    },
    "id": "VGkq69SIrWZc",
    "outputId": "26074c48-6f4b-4166-eb89-0ed8fc403094"
   },
   "outputs": [
    {
     "name": "stdout",
     "output_type": "stream",
     "text": [
      "[ 0.   0.5  1.   1.5  2.   2.5  3.   3.5  4.   4.5  5.   5.5  6.   6.5\n",
      "  7.   7.5  8.   8.5  9.   9.5 10. ]\n"
     ]
    }
   ],
   "source": [
    "#El tercer argumento de linspace representa la cantidad de datos deseados en el arreglo\n",
    "arr3 = np.linspace(0,10,21) #Arreglo entre 0 y 10 (con 10), con 21 valores\n",
    "print(arr3)"
   ]
  },
  {
   "cell_type": "markdown",
   "metadata": {
    "id": "YuLmPhIcXZXe"
   },
   "source": [
    "La diferencia entre arange y linspace es que en el primero se define el intervalo o espaciado entre valores; mientras que con linspace se define la cantidad de valores\n"
   ]
  },
  {
   "cell_type": "markdown",
   "metadata": {
    "id": "WJdOXFdv6U50"
   },
   "source": [
    "### Arreglos matriciales\n",
    "\n",
    "Con las funciones anteriores se pueden crear matrices, pero existen también funciones para crear matrices con características específicas.\n",
    "\n",
    "| Comando | Resultado |\n",
    "| :---: | :---: |\n",
    "| identity() | Crea una matriz identidad|\n",
    "| eye() |Crea una matriz con unos en una diagonal (offset)|\n",
    "| diag() |Crea una matriz con un arreglo arbitrario en la diagonal|\n"
   ]
  },
  {
   "cell_type": "code",
   "execution_count": 15,
   "metadata": {
    "colab": {
     "base_uri": "https://localhost:8080/"
    },
    "executionInfo": {
     "elapsed": 61,
     "status": "ok",
     "timestamp": 1702080099610,
     "user": {
      "displayName": "Luis",
      "userId": "05605313541880881378"
     },
     "user_tz": 360
    },
    "id": "Kl1wmT7V6WzT",
    "outputId": "e1a26608-8086-41e8-97f0-d55534c06b09"
   },
   "outputs": [
    {
     "name": "stdout",
     "output_type": "stream",
     "text": [
      "[[1. 0. 0. 0.]\n",
      " [0. 1. 0. 0.]\n",
      " [0. 0. 1. 0.]\n",
      " [0. 0. 0. 1.]]\n"
     ]
    }
   ],
   "source": [
    "identidad = np.identity(4)\n",
    "print(identidad)"
   ]
  },
  {
   "cell_type": "code",
   "execution_count": 16,
   "metadata": {
    "colab": {
     "base_uri": "https://localhost:8080/"
    },
    "executionInfo": {
     "elapsed": 57,
     "status": "ok",
     "timestamp": 1702080099610,
     "user": {
      "displayName": "Luis",
      "userId": "05605313541880881378"
     },
     "user_tz": 360
    },
    "id": "oCEoQUIErgCb",
    "outputId": "2bc6950b-80a7-43b1-e3a6-28d5fce125fa"
   },
   "outputs": [
    {
     "name": "stdout",
     "output_type": "stream",
     "text": [
      "[[0. 1. 0. 0.]\n",
      " [0. 0. 1. 0.]\n",
      " [0. 0. 0. 1.]\n",
      " [0. 0. 0. 0.]]\n"
     ]
    },
    {
     "name": "stdout",
     "output_type": "stream",
     "text": [
      "\u001b[1;31mSignature:\u001b[0m \u001b[0mnp\u001b[0m\u001b[1;33m.\u001b[0m\u001b[0meye\u001b[0m\u001b[1;33m(\u001b[0m\u001b[0mN\u001b[0m\u001b[1;33m,\u001b[0m \u001b[0mM\u001b[0m\u001b[1;33m=\u001b[0m\u001b[1;32mNone\u001b[0m\u001b[1;33m,\u001b[0m \u001b[0mk\u001b[0m\u001b[1;33m=\u001b[0m\u001b[1;36m0\u001b[0m\u001b[1;33m,\u001b[0m \u001b[0mdtype\u001b[0m\u001b[1;33m=\u001b[0m\u001b[1;33m<\u001b[0m\u001b[1;32mclass\u001b[0m \u001b[1;34m'float'\u001b[0m\u001b[1;33m>\u001b[0m\u001b[1;33m,\u001b[0m \u001b[0morder\u001b[0m\u001b[1;33m=\u001b[0m\u001b[1;34m'C'\u001b[0m\u001b[1;33m,\u001b[0m \u001b[1;33m*\u001b[0m\u001b[1;33m,\u001b[0m \u001b[0mlike\u001b[0m\u001b[1;33m=\u001b[0m\u001b[1;32mNone\u001b[0m\u001b[1;33m)\u001b[0m\u001b[1;33m\u001b[0m\u001b[1;33m\u001b[0m\u001b[0m\n",
      "\u001b[1;31mDocstring:\u001b[0m\n",
      "Return a 2-D array with ones on the diagonal and zeros elsewhere.\n",
      "\n",
      "Parameters\n",
      "----------\n",
      "N : int\n",
      "  Number of rows in the output.\n",
      "M : int, optional\n",
      "  Number of columns in the output. If None, defaults to `N`.\n",
      "k : int, optional\n",
      "  Index of the diagonal: 0 (the default) refers to the main diagonal,\n",
      "  a positive value refers to an upper diagonal, and a negative value\n",
      "  to a lower diagonal.\n",
      "dtype : data-type, optional\n",
      "  Data-type of the returned array.\n",
      "order : {'C', 'F'}, optional\n",
      "    Whether the output should be stored in row-major (C-style) or\n",
      "    column-major (Fortran-style) order in memory.\n",
      "\n",
      "    .. versionadded:: 1.14.0\n",
      "like : array_like, optional\n",
      "    Reference object to allow the creation of arrays which are not\n",
      "    NumPy arrays. If an array-like passed in as ``like`` supports\n",
      "    the ``__array_function__`` protocol, the result will be defined\n",
      "    by it. In this case, it ensures the creation of an array object\n",
      "    compatible with that passed in via this argument.\n",
      "\n",
      "    .. versionadded:: 1.20.0\n",
      "\n",
      "Returns\n",
      "-------\n",
      "I : ndarray of shape (N,M)\n",
      "  An array where all elements are equal to zero, except for the `k`-th\n",
      "  diagonal, whose values are equal to one.\n",
      "\n",
      "See Also\n",
      "--------\n",
      "identity : (almost) equivalent function\n",
      "diag : diagonal 2-D array from a 1-D array specified by the user.\n",
      "\n",
      "Examples\n",
      "--------\n",
      ">>> np.eye(2, dtype=int)\n",
      "array([[1, 0],\n",
      "       [0, 1]])\n",
      ">>> np.eye(3, k=1)\n",
      "array([[0.,  1.,  0.],\n",
      "       [0.,  0.,  1.],\n",
      "       [0.,  0.,  0.]])\n",
      "\u001b[1;31mFile:\u001b[0m      c:\\users\\pelot\\appdata\\local\\packages\\pythonsoftwarefoundation.python.3.11_qbz5n2kfra8p0\\localcache\\local-packages\\python311\\site-packages\\numpy\\lib\\twodim_base.py\n",
      "\u001b[1;31mType:\u001b[0m      function"
     ]
    }
   ],
   "source": [
    "np.eye?\n",
    "offset = np.eye(4, k=1)\n",
    "print(offset)"
   ]
  },
  {
   "cell_type": "markdown",
   "metadata": {
    "id": "KQm5oan-WRKV"
   },
   "source": [
    "El parámetro k hace la diagonal superior (k=1), inferior (k=-1) o principal."
   ]
  },
  {
   "cell_type": "code",
   "execution_count": 17,
   "metadata": {
    "colab": {
     "base_uri": "https://localhost:8080/"
    },
    "executionInfo": {
     "elapsed": 66,
     "status": "ok",
     "timestamp": 1702080099623,
     "user": {
      "displayName": "Luis",
      "userId": "05605313541880881378"
     },
     "user_tz": 360
    },
    "id": "L74PlLcLrjqb",
    "outputId": "897d230d-af4e-4ee3-8e02-ef44a83af98c"
   },
   "outputs": [
    {
     "name": "stdout",
     "output_type": "stream",
     "text": [
      "[[1 0 0 0]\n",
      " [0 2 0 0]\n",
      " [0 0 3 0]\n",
      " [0 0 0 4]]\n"
     ]
    }
   ],
   "source": [
    "diagonal = np.diag(np.arange(1,5,1))\n",
    "print(diagonal)"
   ]
  },
  {
   "cell_type": "markdown",
   "metadata": {
    "id": "HIA5cAXy6rz8"
   },
   "source": [
    "### *List comprehension* y creación de arreglos\n",
    "\n",
    "Se puede crear un arreglo a partir de listas directamente obtenidas de *list comprehension*."
   ]
  },
  {
   "cell_type": "code",
   "execution_count": 18,
   "metadata": {
    "colab": {
     "base_uri": "https://localhost:8080/"
    },
    "executionInfo": {
     "elapsed": 62,
     "status": "ok",
     "timestamp": 1702080099623,
     "user": {
      "displayName": "Luis",
      "userId": "05605313541880881378"
     },
     "user_tz": 360
    },
    "id": "hKpIvkTr6vHL",
    "outputId": "25603c83-fda6-498c-ecb4-f3ea183a1cb0"
   },
   "outputs": [
    {
     "name": "stdout",
     "output_type": "stream",
     "text": [
      "[20.6116, 712336, 0.0529]\n",
      "[2.06116e+01 7.12336e+05 5.29000e-02]\n"
     ]
    }
   ],
   "source": [
    "a = [4.54,844,0.23]\n",
    "print([i**2 for i in a])\n",
    "print(np.array([i**2 for i in a]))"
   ]
  },
  {
   "cell_type": "markdown",
   "metadata": {
    "id": "VYMVrH716zvU"
   },
   "source": [
    "## Comandos útiles para trabajar con arreglos de NumPy\n",
    "\n",
    "Los arreglos de NumPy están acompañados de varias funciones y atributos que permiten manipularlos.\n",
    "\n",
    "| Comando | Resultado |\n",
    "| :---: | :---: |\n",
    "| shape | Retorna una tupla con el número de elementos por dimensión|\n",
    "| ndim | Dice el número de dimensiones|\n",
    "| size | Dice cuántos elementos hay en un arreglo|\n",
    "| dtype | Dice el tipo de datos que guarda un arreglo|\n",
    "| T | Retorna la transpuesta de un arreglo|\n",
    "|flatten() | Retorna el arreglo colapsado en una dimensión|\n",
    "| fill() | Rellena el arreglo con el valor especificado|\n",
    "| reshape() | Retorna un arreglo con el shape especificado|\n",
    "| resize() | Cambia el tamaño y shape del arreglo|\n",
    "| where() | Retorna los índices donde se cumplen las condiciones dadas|"
   ]
  },
  {
   "cell_type": "code",
   "execution_count": 19,
   "metadata": {
    "colab": {
     "base_uri": "https://localhost:8080/"
    },
    "executionInfo": {
     "elapsed": 60,
     "status": "ok",
     "timestamp": 1702080099623,
     "user": {
      "displayName": "Luis",
      "userId": "05605313541880881378"
     },
     "user_tz": 360
    },
    "id": "IMPxVAjU_v90",
    "outputId": "47b65774-69d8-4e47-e6b4-befa5d7ca4d3"
   },
   "outputs": [
    {
     "data": {
      "text/plain": [
       "array([1, 2, 3])"
      ]
     },
     "execution_count": 19,
     "metadata": {},
     "output_type": "execute_result"
    }
   ],
   "source": [
    "arr = np.array([1,2,3]) #Array de dimension 1x3\n",
    "arr"
   ]
  },
  {
   "cell_type": "code",
   "execution_count": 20,
   "metadata": {
    "colab": {
     "base_uri": "https://localhost:8080/"
    },
    "executionInfo": {
     "elapsed": 60,
     "status": "ok",
     "timestamp": 1702080099624,
     "user": {
      "displayName": "Luis",
      "userId": "05605313541880881378"
     },
     "user_tz": 360
    },
    "id": "vBGwRVKSL6Al",
    "outputId": "a8af6512-b281-4b3a-ce55-72d220cdaecc"
   },
   "outputs": [
    {
     "name": "stdout",
     "output_type": "stream",
     "text": [
      "[[1]\n",
      " [2]\n",
      " [3]]\n"
     ]
    }
   ],
   "source": [
    "arr = arr.reshape([3,1]) #Otra forma de crear un array 3x1\n",
    "print(arr)"
   ]
  },
  {
   "cell_type": "markdown",
   "metadata": {
    "id": "AJSlLZOabKWt"
   },
   "source": [
    "en reshape se especifica una tupla con la cantidad de [filas, columnas]"
   ]
  },
  {
   "cell_type": "code",
   "execution_count": 21,
   "metadata": {
    "colab": {
     "base_uri": "https://localhost:8080/"
    },
    "executionInfo": {
     "elapsed": 57,
     "status": "ok",
     "timestamp": 1702080099624,
     "user": {
      "displayName": "Luis",
      "userId": "05605313541880881378"
     },
     "user_tz": 360
    },
    "id": "Kn6ziMbvj6zl",
    "outputId": "d06c18f1-2863-44aa-efab-233935d87738"
   },
   "outputs": [
    {
     "data": {
      "text/plain": [
       "array([[1, 2, 3]])"
      ]
     },
     "execution_count": 21,
     "metadata": {},
     "output_type": "execute_result"
    }
   ],
   "source": [
    "arr.T"
   ]
  },
  {
   "cell_type": "markdown",
   "metadata": {
    "id": "xkUf_s_7CE4C"
   },
   "source": [
    "Algunas de estas funciones son muy útiles para entender las características de los objetos con los que estamos trabajando."
   ]
  },
  {
   "cell_type": "code",
   "execution_count": 22,
   "metadata": {
    "colab": {
     "base_uri": "https://localhost:8080/"
    },
    "executionInfo": {
     "elapsed": 54,
     "status": "ok",
     "timestamp": 1702080099624,
     "user": {
      "displayName": "Luis",
      "userId": "05605313541880881378"
     },
     "user_tz": 360
    },
    "id": "M0MVWUO_7YF3",
    "outputId": "668736de-7eda-450b-a242-1a7e655b8802"
   },
   "outputs": [
    {
     "name": "stdout",
     "output_type": "stream",
     "text": [
      "Matriz: \n",
      " [[1. 0. 0.]\n",
      " [0. 1. 0.]\n",
      " [0. 0. 1.]] \n",
      "\n",
      "Número de elementos:  9 \n",
      "\n",
      "Forma (filas,columnas):  (3, 3) \n",
      "\n",
      "Cantidad de dimensiones:  2\n"
     ]
    }
   ],
   "source": [
    "ident = np.identity(3) #Creando una matriz identidad de 3x3\n",
    "\n",
    "print('Matriz: \\n',ident,'\\n')\n",
    "print('Número de elementos: ',ident.size,'\\n')\n",
    "print('Forma (filas,columnas): ',ident.shape, '\\n')\n",
    "print('Cantidad de dimensiones: ', ident.ndim)"
   ]
  },
  {
   "cell_type": "markdown",
   "metadata": {
    "id": "Vi7dbd06ECoZ"
   },
   "source": [
    "Otras nos permiten modificar la estructura del arreglo."
   ]
  },
  {
   "cell_type": "code",
   "execution_count": 23,
   "metadata": {
    "colab": {
     "base_uri": "https://localhost:8080/"
    },
    "executionInfo": {
     "elapsed": 52,
     "status": "ok",
     "timestamp": 1702080099624,
     "user": {
      "displayName": "Luis",
      "userId": "05605313541880881378"
     },
     "user_tz": 360
    },
    "id": "0vB-u9xaApGj",
    "outputId": "505d2476-6333-4bd0-c786-31fa58950a30"
   },
   "outputs": [
    {
     "name": "stdout",
     "output_type": "stream",
     "text": [
      "[[3. 3. 3. 3.]\n",
      " [3. 3. 3. 3.]\n",
      " [3. 3. 3. 3.]]\n"
     ]
    }
   ],
   "source": [
    "print(arr1)"
   ]
  },
  {
   "cell_type": "code",
   "execution_count": 24,
   "metadata": {
    "colab": {
     "base_uri": "https://localhost:8080/"
    },
    "executionInfo": {
     "elapsed": 49,
     "status": "ok",
     "timestamp": 1702080099624,
     "user": {
      "displayName": "Luis",
      "userId": "05605313541880881378"
     },
     "user_tz": 360
    },
    "id": "ESNvQolRDtMq",
    "outputId": "b41df4cc-ba06-4975-a4bc-1bd239b1a7a0"
   },
   "outputs": [
    {
     "name": "stdout",
     "output_type": "stream",
     "text": [
      "[[3. 3.]\n",
      " [3. 3.]\n",
      " [3. 3.]\n",
      " [3. 3.]\n",
      " [3. 3.]\n",
      " [3. 3.]\n",
      " [3. 3.]]\n"
     ]
    }
   ],
   "source": [
    "arr2 = np.resize(arr1,(7,2)) #Corta o agrega elementos según el tamaño especificado\n",
    "print(arr2)"
   ]
  },
  {
   "cell_type": "code",
   "execution_count": 25,
   "metadata": {
    "colab": {
     "base_uri": "https://localhost:8080/"
    },
    "executionInfo": {
     "elapsed": 48,
     "status": "ok",
     "timestamp": 1702080099625,
     "user": {
      "displayName": "Luis",
      "userId": "05605313541880881378"
     },
     "user_tz": 360
    },
    "id": "2uy7Yi3xNwBy",
    "outputId": "af68b28f-a6fc-46d7-a8a4-8f4d5c3a9743"
   },
   "outputs": [
    {
     "data": {
      "text/plain": [
       "array([[3., 3., 3., 3.],\n",
       "       [3., 3., 3., 3.],\n",
       "       [3., 3., 3., 3.]])"
      ]
     },
     "execution_count": 25,
     "metadata": {},
     "output_type": "execute_result"
    }
   ],
   "source": [
    "arr1 #resize() no modifica el arreglo original"
   ]
  },
  {
   "cell_type": "markdown",
   "metadata": {
    "id": "U9EsdqNhEG7R"
   },
   "source": [
    "Se pueden hacer operaciones sofisticadas como la búsqueda en arreglos según ciertas condiciones y la aplicación de operaciones sobre los elementos que cumplen la condición."
   ]
  },
  {
   "cell_type": "code",
   "execution_count": 26,
   "metadata": {
    "colab": {
     "base_uri": "https://localhost:8080/"
    },
    "executionInfo": {
     "elapsed": 275,
     "status": "ok",
     "timestamp": 1702080293597,
     "user": {
      "displayName": "Luis",
      "userId": "05605313541880881378"
     },
     "user_tz": 360
    },
    "id": "yGnaaIhcN3mB",
    "outputId": "b27de438-3091-4a7c-c450-33175d8e9b26"
   },
   "outputs": [
    {
     "data": {
      "text/plain": [
       "array([[0.99064913, 0.49181502, 0.94119724],\n",
       "       [0.86076607, 0.27144198, 0.47449709],\n",
       "       [0.52302016, 0.12036819, 0.57399903]])"
      ]
     },
     "execution_count": 26,
     "metadata": {},
     "output_type": "execute_result"
    }
   ],
   "source": [
    "original = np.random.rand(3,3) #matriz 3x3 con números aleatorios entre 0 y 1\n",
    "original"
   ]
  },
  {
   "cell_type": "code",
   "execution_count": 27,
   "metadata": {
    "colab": {
     "base_uri": "https://localhost:8080/"
    },
    "executionInfo": {
     "elapsed": 16,
     "status": "ok",
     "timestamp": 1702080944327,
     "user": {
      "displayName": "Luis",
      "userId": "05605313541880881378"
     },
     "user_tz": 360
    },
    "id": "WkG6XICLN9cx",
    "outputId": "52c1bce5-b8f5-4338-b45b-ff9649e8ac64"
   },
   "outputs": [
    {
     "data": {
      "text/plain": [
       "(array([0, 1, 1, 2], dtype=int64), array([1, 1, 2, 1], dtype=int64))"
      ]
     },
     "execution_count": 27,
     "metadata": {},
     "output_type": "execute_result"
    }
   ],
   "source": [
    "np.where(original < 0.5) #Retorna los índices donde los valores son menores a 0.5, como array([filas]), array([columnas])"
   ]
  },
  {
   "cell_type": "code",
   "execution_count": 28,
   "metadata": {
    "executionInfo": {
     "elapsed": 4,
     "status": "ok",
     "timestamp": 1702081954866,
     "user": {
      "displayName": "Luis",
      "userId": "05605313541880881378"
     },
     "user_tz": 360
    },
    "id": "jbXlS__T_VMM"
   },
   "outputs": [
    {
     "name": "stdout",
     "output_type": "stream",
     "text": [
      "\u001b[1;31mDocstring:\u001b[0m\n",
      "where(condition, [x, y], /)\n",
      "\n",
      "Return elements chosen from `x` or `y` depending on `condition`.\n",
      "\n",
      ".. note::\n",
      "    When only `condition` is provided, this function is a shorthand for\n",
      "    ``np.asarray(condition).nonzero()``. Using `nonzero` directly should be\n",
      "    preferred, as it behaves correctly for subclasses. The rest of this\n",
      "    documentation covers only the case where all three arguments are\n",
      "    provided.\n",
      "\n",
      "Parameters\n",
      "----------\n",
      "condition : array_like, bool\n",
      "    Where True, yield `x`, otherwise yield `y`.\n",
      "x, y : array_like\n",
      "    Values from which to choose. `x`, `y` and `condition` need to be\n",
      "    broadcastable to some shape.\n",
      "\n",
      "Returns\n",
      "-------\n",
      "out : ndarray\n",
      "    An array with elements from `x` where `condition` is True, and elements\n",
      "    from `y` elsewhere.\n",
      "\n",
      "See Also\n",
      "--------\n",
      "choose\n",
      "nonzero : The function that is called when x and y are omitted\n",
      "\n",
      "Notes\n",
      "-----\n",
      "If all the arrays are 1-D, `where` is equivalent to::\n",
      "\n",
      "    [xv if c else yv\n",
      "     for c, xv, yv in zip(condition, x, y)]\n",
      "\n",
      "Examples\n",
      "--------\n",
      ">>> a = np.arange(10)\n",
      ">>> a\n",
      "array([0, 1, 2, 3, 4, 5, 6, 7, 8, 9])\n",
      ">>> np.where(a < 5, a, 10*a)\n",
      "array([ 0,  1,  2,  3,  4, 50, 60, 70, 80, 90])\n",
      "\n",
      "This can be used on multidimensional arrays too:\n",
      "\n",
      ">>> np.where([[True, False], [True, True]],\n",
      "...          [[1, 2], [3, 4]],\n",
      "...          [[9, 8], [7, 6]])\n",
      "array([[1, 8],\n",
      "       [3, 4]])\n",
      "\n",
      "The shapes of x, y, and the condition are broadcast together:\n",
      "\n",
      ">>> x, y = np.ogrid[:3, :4]\n",
      ">>> np.where(x < y, x, 10 + y)  # both x and 10+y are broadcast\n",
      "array([[10,  0,  0,  0],\n",
      "       [10, 11,  1,  1],\n",
      "       [10, 11, 12,  2]])\n",
      "\n",
      ">>> a = np.array([[0, 1, 2],\n",
      "...               [0, 2, 4],\n",
      "...               [0, 3, 6]])\n",
      ">>> np.where(a < 4, a, -1)  # -1 is broadcast\n",
      "array([[ 0,  1,  2],\n",
      "       [ 0,  2, -1],\n",
      "       [ 0,  3, -1]])\n",
      "\u001b[1;31mType:\u001b[0m      function"
     ]
    }
   ],
   "source": [
    "np.where?"
   ]
  },
  {
   "cell_type": "code",
   "execution_count": 29,
   "metadata": {
    "colab": {
     "base_uri": "https://localhost:8080/"
    },
    "executionInfo": {
     "elapsed": 309,
     "status": "ok",
     "timestamp": 1702082039578,
     "user": {
      "displayName": "Luis",
      "userId": "05605313541880881378"
     },
     "user_tz": 360
    },
    "id": "IdC6ymM98Uds",
    "outputId": "df4c83f8-fe3f-4d8b-f4b9-be97391d0c15"
   },
   "outputs": [
    {
     "data": {
      "text/plain": [
       "array([[0.97220888, 0.24188202, 0.83376169],\n",
       "       [0.63775728, 0.07368075, 0.22514749],\n",
       "       [0.14307221, 0.0144885 , 0.18911827]])"
      ]
     },
     "execution_count": 29,
     "metadata": {},
     "output_type": "execute_result"
    }
   ],
   "source": [
    "#Para los números que cumplen la condición calculamos el cuadrado, para los otros el cubo\n",
    "\n",
    "np.where(original < 0.5, original**2, original**3)"
   ]
  },
  {
   "cell_type": "code",
   "execution_count": 30,
   "metadata": {
    "colab": {
     "base_uri": "https://localhost:8080/"
    },
    "executionInfo": {
     "elapsed": 342,
     "status": "ok",
     "timestamp": 1702082797775,
     "user": {
      "displayName": "Luis",
      "userId": "05605313541880881378"
     },
     "user_tz": 360
    },
    "id": "RmKQgS-BOaEJ",
    "outputId": "d3c34566-9305-4c8e-ed47-5cc691eb8312"
   },
   "outputs": [
    {
     "data": {
      "text/plain": [
       "array([[0.99064913, 0.49181502, 0.94119724],\n",
       "       [0.86076607, 0.27144198, 0.47449709],\n",
       "       [0.52302016, 0.12036819, 0.57399903]])"
      ]
     },
     "execution_count": 30,
     "metadata": {},
     "output_type": "execute_result"
    }
   ],
   "source": [
    "#Tal vez solamente necesitamos calcular el cuadrado de los que cumplen\n",
    "\n",
    "np.where(original < 0, original**2, original)"
   ]
  },
  {
   "cell_type": "markdown",
   "metadata": {
    "id": "lmJNfDYZo9ib"
   },
   "source": [
    "## <font color='purple'>**Ejercicio**</font>\n",
    "\n",
    "Suponga que usted quiere graficar los valores de un modelo que depende de dos variables $X$ y $Y$ usando Python. Para ello, usted desea generar los valores de entrada de $X_0$ de $X_1$  **en dos columnas separadas de un solo arreglo**, considerando lo siguiente:\n",
    "\n",
    "* El modelo es válido para $300 \\leq X \\leq 540$ y $300 \\leq Y \\leq 540$.\n",
    "* Usted sabe que necesita 100 valores o más de ambas variables para obtener una buena resolución en la respuesta del modelo.\n",
    "\n",
    "¿De qué forma podría crear este arreglo?\n"
   ]
  },
  {
   "cell_type": "code",
   "execution_count": 31,
   "metadata": {
    "colab": {
     "base_uri": "https://localhost:8080/"
    },
    "executionInfo": {
     "elapsed": 18,
     "status": "ok",
     "timestamp": 1702083967270,
     "user": {
      "displayName": "Luis",
      "userId": "05605313541880881378"
     },
     "user_tz": 360
    },
    "id": "ExEwbUuhC2Ra",
    "outputId": "3d293796-3eec-4309-cf2d-ec3168b51bd6"
   },
   "outputs": [
    {
     "name": "stdout",
     "output_type": "stream",
     "text": [
      "[[300.         300.        ]\n",
      " [302.42424242 302.42424242]\n",
      " [304.84848485 304.84848485]\n",
      " [307.27272727 307.27272727]\n",
      " [309.6969697  309.6969697 ]\n",
      " [312.12121212 312.12121212]\n",
      " [314.54545455 314.54545455]\n",
      " [316.96969697 316.96969697]\n",
      " [319.39393939 319.39393939]\n",
      " [321.81818182 321.81818182]\n",
      " [324.24242424 324.24242424]\n",
      " [326.66666667 326.66666667]\n",
      " [329.09090909 329.09090909]\n",
      " [331.51515152 331.51515152]\n",
      " [333.93939394 333.93939394]\n",
      " [336.36363636 336.36363636]\n",
      " [338.78787879 338.78787879]\n",
      " [341.21212121 341.21212121]\n",
      " [343.63636364 343.63636364]\n",
      " [346.06060606 346.06060606]\n",
      " [348.48484848 348.48484848]\n",
      " [350.90909091 350.90909091]\n",
      " [353.33333333 353.33333333]\n",
      " [355.75757576 355.75757576]\n",
      " [358.18181818 358.18181818]\n",
      " [360.60606061 360.60606061]\n",
      " [363.03030303 363.03030303]\n",
      " [365.45454545 365.45454545]\n",
      " [367.87878788 367.87878788]\n",
      " [370.3030303  370.3030303 ]\n",
      " [372.72727273 372.72727273]\n",
      " [375.15151515 375.15151515]\n",
      " [377.57575758 377.57575758]\n",
      " [380.         380.        ]\n",
      " [382.42424242 382.42424242]\n",
      " [384.84848485 384.84848485]\n",
      " [387.27272727 387.27272727]\n",
      " [389.6969697  389.6969697 ]\n",
      " [392.12121212 392.12121212]\n",
      " [394.54545455 394.54545455]\n",
      " [396.96969697 396.96969697]\n",
      " [399.39393939 399.39393939]\n",
      " [401.81818182 401.81818182]\n",
      " [404.24242424 404.24242424]\n",
      " [406.66666667 406.66666667]\n",
      " [409.09090909 409.09090909]\n",
      " [411.51515152 411.51515152]\n",
      " [413.93939394 413.93939394]\n",
      " [416.36363636 416.36363636]\n",
      " [418.78787879 418.78787879]\n",
      " [421.21212121 421.21212121]\n",
      " [423.63636364 423.63636364]\n",
      " [426.06060606 426.06060606]\n",
      " [428.48484848 428.48484848]\n",
      " [430.90909091 430.90909091]\n",
      " [433.33333333 433.33333333]\n",
      " [435.75757576 435.75757576]\n",
      " [438.18181818 438.18181818]\n",
      " [440.60606061 440.60606061]\n",
      " [443.03030303 443.03030303]\n",
      " [445.45454545 445.45454545]\n",
      " [447.87878788 447.87878788]\n",
      " [450.3030303  450.3030303 ]\n",
      " [452.72727273 452.72727273]\n",
      " [455.15151515 455.15151515]\n",
      " [457.57575758 457.57575758]\n",
      " [460.         460.        ]\n",
      " [462.42424242 462.42424242]\n",
      " [464.84848485 464.84848485]\n",
      " [467.27272727 467.27272727]\n",
      " [469.6969697  469.6969697 ]\n",
      " [472.12121212 472.12121212]\n",
      " [474.54545455 474.54545455]\n",
      " [476.96969697 476.96969697]\n",
      " [479.39393939 479.39393939]\n",
      " [481.81818182 481.81818182]\n",
      " [484.24242424 484.24242424]\n",
      " [486.66666667 486.66666667]\n",
      " [489.09090909 489.09090909]\n",
      " [491.51515152 491.51515152]\n",
      " [493.93939394 493.93939394]\n",
      " [496.36363636 496.36363636]\n",
      " [498.78787879 498.78787879]\n",
      " [501.21212121 501.21212121]\n",
      " [503.63636364 503.63636364]\n",
      " [506.06060606 506.06060606]\n",
      " [508.48484848 508.48484848]\n",
      " [510.90909091 510.90909091]\n",
      " [513.33333333 513.33333333]\n",
      " [515.75757576 515.75757576]\n",
      " [518.18181818 518.18181818]\n",
      " [520.60606061 520.60606061]\n",
      " [523.03030303 523.03030303]\n",
      " [525.45454545 525.45454545]\n",
      " [527.87878788 527.87878788]\n",
      " [530.3030303  530.3030303 ]\n",
      " [532.72727273 532.72727273]\n",
      " [535.15151515 535.15151515]\n",
      " [537.57575758 537.57575758]\n",
      " [540.         540.        ]]\n"
     ]
    }
   ],
   "source": [
    "import numpy as np\n",
    "ar=np.empty([100,2])\n",
    "ar1=np.linspace(300,540,100) #se crea X y Y\n",
    "\n",
    "ar.ndim\n",
    "ar.size\n",
    "\n",
    "#arreglo = np.array([ar1],[ar1])  no sirve, no se pueden combinar así\n",
    "#ar.fill(ar1) no sirve porque solo se puede llenar así con un escalar\n",
    "\n",
    "arreglo=np.column_stack((ar1,ar1)) #operación para combinar 2 arreglos 1-dim en 1 2-dim, uniéndolos como columnas\n",
    "print(arreglo)"
   ]
  },
  {
   "cell_type": "markdown",
   "metadata": {
    "id": "Rg--ARE_8dt0"
   },
   "source": [
    "## Operaciones con arreglos de NumPy\n",
    "\n",
    "* Se pueden hacer operaciones tanto con escalares como entre matrices y vectores.\n",
    "* Estas operaciones se realizan según las reglas de álgebra lineal."
   ]
  },
  {
   "cell_type": "code",
   "execution_count": 32,
   "metadata": {
    "colab": {
     "base_uri": "https://localhost:8080/"
    },
    "executionInfo": {
     "elapsed": 5,
     "status": "ok",
     "timestamp": 1702105955891,
     "user": {
      "displayName": "Luis",
      "userId": "05605313541880881378"
     },
     "user_tz": 360
    },
    "id": "K-4Tv9DBLLdl",
    "outputId": "6c1670e3-cb18-4d6f-d967-bf35ac3ff4ed"
   },
   "outputs": [
    {
     "name": "stdout",
     "output_type": "stream",
     "text": [
      "[[1 2]\n",
      " [3 4]] \n",
      "\n",
      "[[2 4]\n",
      " [6 8]] \n",
      "\n",
      " [[0.5 1. ]\n",
      " [1.5 2. ]] \n",
      "\n",
      " [[-9 -8]\n",
      " [-7 -6]] \n",
      "\n",
      " [[6 7]\n",
      " [8 9]] \n",
      "\n"
     ]
    }
   ],
   "source": [
    "import numpy as np\n",
    "arr = np.array([[1,2],[3,4]])\n",
    "print(arr, '\\n')\n",
    "\n",
    "print(arr*2, '\\n\\n', arr/2, '\\n\\n', arr-10,'\\n\\n', arr+5, '\\n') #Elemento por elemento"
   ]
  },
  {
   "cell_type": "code",
   "execution_count": 33,
   "metadata": {
    "colab": {
     "base_uri": "https://localhost:8080/"
    },
    "executionInfo": {
     "elapsed": 181,
     "status": "ok",
     "timestamp": 1702106025099,
     "user": {
      "displayName": "Luis",
      "userId": "05605313541880881378"
     },
     "user_tz": 360
    },
    "id": "HosH2r6t8q_r",
    "outputId": "a3d522c1-d9b7-46e1-e22f-4c108957a300"
   },
   "outputs": [
    {
     "name": "stdout",
     "output_type": "stream",
     "text": [
      "[[2 2]\n",
      " [2 2]] \n",
      "\n"
     ]
    },
    {
     "data": {
      "text/plain": [
       "array([[2, 4],\n",
       "       [6, 8]])"
      ]
     },
     "execution_count": 33,
     "metadata": {},
     "output_type": "execute_result"
    }
   ],
   "source": [
    "print(np.full([2,2],2), '\\n')\n",
    "arr * np.full([2,2],2) # Multiplicación de arreglos"
   ]
  },
  {
   "cell_type": "code",
   "execution_count": 34,
   "metadata": {
    "colab": {
     "base_uri": "https://localhost:8080/"
    },
    "executionInfo": {
     "elapsed": 214,
     "status": "ok",
     "timestamp": 1702106861420,
     "user": {
      "displayName": "Luis",
      "userId": "05605313541880881378"
     },
     "user_tz": 360
    },
    "id": "avFdfjI0LeW8",
    "outputId": "ec7a45c7-4e26-4bce-dea7-d889de634b02"
   },
   "outputs": [
    {
     "name": "stdout",
     "output_type": "stream",
     "text": [
      "[[1. 0.]\n",
      " [0. 1.]]\n"
     ]
    },
    {
     "name": "stdout",
     "output_type": "stream",
     "text": [
      "\u001b[1;31mDocstring:\u001b[0m\n",
      "dot(a, b, out=None)\n",
      "\n",
      "Dot product of two arrays. Specifically,\n",
      "\n",
      "- If both `a` and `b` are 1-D arrays, it is inner product of vectors\n",
      "  (without complex conjugation).\n",
      "\n",
      "- If both `a` and `b` are 2-D arrays, it is matrix multiplication,\n",
      "  but using :func:`matmul` or ``a @ b`` is preferred.\n",
      "\n",
      "- If either `a` or `b` is 0-D (scalar), it is equivalent to\n",
      "  :func:`multiply` and using ``numpy.multiply(a, b)`` or ``a * b`` is\n",
      "  preferred.\n",
      "\n",
      "- If `a` is an N-D array and `b` is a 1-D array, it is a sum product over\n",
      "  the last axis of `a` and `b`.\n",
      "\n",
      "- If `a` is an N-D array and `b` is an M-D array (where ``M>=2``), it is a\n",
      "  sum product over the last axis of `a` and the second-to-last axis of\n",
      "  `b`::\n",
      "\n",
      "    dot(a, b)[i,j,k,m] = sum(a[i,j,:] * b[k,:,m])\n",
      "\n",
      "It uses an optimized BLAS library when possible (see `numpy.linalg`).\n",
      "\n",
      "Parameters\n",
      "----------\n",
      "a : array_like\n",
      "    First argument.\n",
      "b : array_like\n",
      "    Second argument.\n",
      "out : ndarray, optional\n",
      "    Output argument. This must have the exact kind that would be returned\n",
      "    if it was not used. In particular, it must have the right type, must be\n",
      "    C-contiguous, and its dtype must be the dtype that would be returned\n",
      "    for `dot(a,b)`. This is a performance feature. Therefore, if these\n",
      "    conditions are not met, an exception is raised, instead of attempting\n",
      "    to be flexible.\n",
      "\n",
      "Returns\n",
      "-------\n",
      "output : ndarray\n",
      "    Returns the dot product of `a` and `b`.  If `a` and `b` are both\n",
      "    scalars or both 1-D arrays then a scalar is returned; otherwise\n",
      "    an array is returned.\n",
      "    If `out` is given, then it is returned.\n",
      "\n",
      "Raises\n",
      "------\n",
      "ValueError\n",
      "    If the last dimension of `a` is not the same size as\n",
      "    the second-to-last dimension of `b`.\n",
      "\n",
      "See Also\n",
      "--------\n",
      "vdot : Complex-conjugating dot product.\n",
      "tensordot : Sum products over arbitrary axes.\n",
      "einsum : Einstein summation convention.\n",
      "matmul : '@' operator as method with out parameter.\n",
      "linalg.multi_dot : Chained dot product.\n",
      "\n",
      "Examples\n",
      "--------\n",
      ">>> np.dot(3, 4)\n",
      "12\n",
      "\n",
      "Neither argument is complex-conjugated:\n",
      "\n",
      ">>> np.dot([2j, 3j], [2j, 3j])\n",
      "(-13+0j)\n",
      "\n",
      "For 2-D arrays it is the matrix product:\n",
      "\n",
      ">>> a = [[1, 0], [0, 1]]\n",
      ">>> b = [[4, 1], [2, 2]]\n",
      ">>> np.dot(a, b)\n",
      "array([[4, 1],\n",
      "       [2, 2]])\n",
      "\n",
      ">>> a = np.arange(3*4*5*6).reshape((3,4,5,6))\n",
      ">>> b = np.arange(3*4*5*6)[::-1].reshape((5,4,6,3))\n",
      ">>> np.dot(a, b)[2,3,2,1,2,2]\n",
      "499128\n",
      ">>> sum(a[2,3,2,:] * b[1,2,:,2])\n",
      "499128\n",
      "\u001b[1;31mType:\u001b[0m      function"
     ]
    }
   ],
   "source": [
    "print(np.identity(2))\n",
    "arr.dot(np.identity(2)) # Multiplicación de matrices\n",
    "np.dot?"
   ]
  },
  {
   "cell_type": "markdown",
   "metadata": {
    "id": "SkashJmKcYNK"
   },
   "source": [
    "## <font color='purple'> **Analicemos las funciones de NumPy vistas hasta ahora. ¿Cómo crearía un arreglo de elementos aleatorios tipo float entre 0 y 100?**</font>"
   ]
  },
  {
   "cell_type": "code",
   "execution_count": 35,
   "metadata": {
    "colab": {
     "base_uri": "https://localhost:8080/"
    },
    "executionInfo": {
     "elapsed": 184,
     "status": "ok",
     "timestamp": 1702106923863,
     "user": {
      "displayName": "Luis",
      "userId": "05605313541880881378"
     },
     "user_tz": 360
    },
    "id": "18Ip1uhxmp65",
    "outputId": "f36d76b3-285e-4b8b-98c6-3bbd109add4b"
   },
   "outputs": [
    {
     "name": "stdout",
     "output_type": "stream",
     "text": [
      "[31.1560081  79.00688682 97.31398743 46.74496361 77.62609301 68.77945641\n",
      " 62.22457131 26.98163512 93.91829438 79.10129703]\n"
     ]
    }
   ],
   "source": [
    "a = np.random.rand(10)*100\n",
    "print(a)"
   ]
  },
  {
   "cell_type": "markdown",
   "metadata": {
    "id": "A6GE8pHz8vVc"
   },
   "source": [
    "### Operadores de reducción\n",
    "\n",
    "En general, son operaciones que tienen como objetivo reducir las dimensiones del arreglo. *Ejemplo*: Producto punto.\n",
    "\n",
    "| Comando | Resultado que retorna |\n",
    "|:----------:|:------------:|\n",
    "| argmax() | Índice donde ocurren los valores máximos |\n",
    "| min()    | Valor mínimo |\n",
    "| argmin() | Índice donde ocurren los valores mínimos |\n",
    "| conj()   | Conjugado complejo de todos los elementos |\\\n",
    "| round()  | Valor redondeado de cada elemento |\n",
    "| trace()  | Suma de las diagonales del arreglo |\n",
    "| sum()    | Suma del arreglo |\n",
    "| cumsum() | Suma acumulativa |\n",
    "| mean()   | Media aritmética |\n",
    "| var()    | Varianza|\n",
    "| std()    | Desviación estándar |\n",
    "| prod()   | Producto |\n",
    "| cumprod()| Producto acumulativo |\n"
   ]
  },
  {
   "cell_type": "code",
   "execution_count": 36,
   "metadata": {
    "colab": {
     "base_uri": "https://localhost:8080/"
    },
    "executionInfo": {
     "elapsed": 4,
     "status": "ok",
     "timestamp": 1702107150969,
     "user": {
      "displayName": "Luis",
      "userId": "05605313541880881378"
     },
     "user_tz": 360
    },
    "id": "_ANBIV0QbWCC",
    "outputId": "4a6ce2a5-e283-4bad-90d6-4662383627b6"
   },
   "outputs": [
    {
     "data": {
      "text/plain": [
       "array([[ 1,  2,  3,  4],\n",
       "       [ 5,  6,  7,  8],\n",
       "       [ 9, 10, 11, 12]])"
      ]
     },
     "execution_count": 36,
     "metadata": {},
     "output_type": "execute_result"
    }
   ],
   "source": [
    "a = np.array([[1,2,3,4], [5,6,7,8], [9,10,11,12]])\n",
    "a"
   ]
  },
  {
   "cell_type": "code",
   "execution_count": 37,
   "metadata": {
    "colab": {
     "base_uri": "https://localhost:8080/"
    },
    "executionInfo": {
     "elapsed": 216,
     "status": "ok",
     "timestamp": 1702107152635,
     "user": {
      "displayName": "Luis",
      "userId": "05605313541880881378"
     },
     "user_tz": 360
    },
    "id": "5gl7tjuaQcv1",
    "outputId": "7c683031-8de2-4a28-f626-025162551f04"
   },
   "outputs": [
    {
     "data": {
      "text/plain": [
       "479001600"
      ]
     },
     "execution_count": 37,
     "metadata": {},
     "output_type": "execute_result"
    }
   ],
   "source": [
    "a.prod() #Producto de todos los elementos de un arreglo, en este caso sería 12!"
   ]
  },
  {
   "cell_type": "code",
   "execution_count": 38,
   "metadata": {
    "colab": {
     "base_uri": "https://localhost:8080/"
    },
    "executionInfo": {
     "elapsed": 47,
     "status": "ok",
     "timestamp": 1702080099969,
     "user": {
      "displayName": "Luis",
      "userId": "05605313541880881378"
     },
     "user_tz": 360
    },
    "id": "dEYOzM7JQlY8",
    "outputId": "2b5697ad-5e32-4a0a-8e38-b56f8e65d83e"
   },
   "outputs": [
    {
     "data": {
      "text/plain": [
       "array([[1. +2.j, 2. +2.j],\n",
       "       [1. -2.j, 5.-12.j]])"
      ]
     },
     "execution_count": 38,
     "metadata": {},
     "output_type": "execute_result"
    }
   ],
   "source": [
    "b = np.array([[1+2j,2+2j],[1-2j,5-12j]]) #Matriz con números complejos\n",
    "b"
   ]
  },
  {
   "cell_type": "code",
   "execution_count": 39,
   "metadata": {
    "colab": {
     "base_uri": "https://localhost:8080/"
    },
    "executionInfo": {
     "elapsed": 43,
     "status": "ok",
     "timestamp": 1702080099969,
     "user": {
      "displayName": "Luis",
      "userId": "05605313541880881378"
     },
     "user_tz": 360
    },
    "id": "OkYep1lZbvIT",
    "outputId": "395f3d3d-e7da-46f9-b186-efc63e357bd0"
   },
   "outputs": [
    {
     "data": {
      "text/plain": [
       "array([[1. -2.j, 2. -2.j],\n",
       "       [1. +2.j, 5.+12.j]])"
      ]
     },
     "execution_count": 39,
     "metadata": {},
     "output_type": "execute_result"
    }
   ],
   "source": [
    "b.conj() #Conjugado del complejo"
   ]
  },
  {
   "cell_type": "code",
   "execution_count": 40,
   "metadata": {
    "colab": {
     "base_uri": "https://localhost:8080/"
    },
    "executionInfo": {
     "elapsed": 39,
     "status": "ok",
     "timestamp": 1702080099969,
     "user": {
      "displayName": "Luis",
      "userId": "05605313541880881378"
     },
     "user_tz": 360
    },
    "id": "ycFlNZc49Ob7",
    "outputId": "e647c51b-e1c0-44ed-d68e-441024b080d5"
   },
   "outputs": [
    {
     "name": "stdout",
     "output_type": "stream",
     "text": [
      "Media:  392.84999999999997\n",
      "Desviación estándar:  12.48384556136449\n"
     ]
    }
   ],
   "source": [
    "datos = np.array([402.23,384.60,384.21,409.58,374.42,402.06])\n",
    "\n",
    "#Estadísticos descriptivos\n",
    "\n",
    "print('Media: ', np.mean(datos))\n",
    "print('Desviación estándar: ',np.std(datos))"
   ]
  },
  {
   "cell_type": "markdown",
   "metadata": {
    "id": "w-lnVyiv9jVs"
   },
   "source": [
    "## Indexación y slicing\n",
    "\n",
    "* Se puede acceder al índice o posición del elemento de un array con la sintaxis **[fila,columna]**.\n",
    "* El slicing se consigue con **[inicio:final:step,inicio:final:step]** en el orden **[filas,columnas]**."
   ]
  },
  {
   "cell_type": "code",
   "execution_count": 41,
   "metadata": {
    "colab": {
     "base_uri": "https://localhost:8080/"
    },
    "executionInfo": {
     "elapsed": 204,
     "status": "ok",
     "timestamp": 1702107745514,
     "user": {
      "displayName": "Luis",
      "userId": "05605313541880881378"
     },
     "user_tz": 360
    },
    "id": "e8rb7m8hiepx",
    "outputId": "3e14647a-ba72-4956-efec-4c5c339a0322"
   },
   "outputs": [
    {
     "name": "stdout",
     "output_type": "stream",
     "text": [
      "[[0.33415237 0.10803672 0.97748072 0.21766711 0.14734943 0.88349474]\n",
      " [0.86802533 0.23722861 0.79639135 0.68277971 0.3978155  0.04966406]\n",
      " [0.79716856 0.84269802 0.79180095 0.67469531 0.55133977 0.00151649]\n",
      " [0.02530874 0.39855002 0.39956013 0.64669555 0.79620757 0.19306552]\n",
      " [0.69670782 0.33224828 0.08399762 0.25048955 0.38690204 0.68083299]\n",
      " [0.28872571 0.04079114 0.79805717 0.93406369 0.34301116 0.33852948]]\n"
     ]
    }
   ],
   "source": [
    "A = np.random.rand(6,6)\n",
    "print(A)"
   ]
  },
  {
   "cell_type": "code",
   "execution_count": 42,
   "metadata": {
    "colab": {
     "base_uri": "https://localhost:8080/"
    },
    "executionInfo": {
     "elapsed": 181,
     "status": "ok",
     "timestamp": 1702107747770,
     "user": {
      "displayName": "Luis",
      "userId": "05605313541880881378"
     },
     "user_tz": 360
    },
    "id": "kgalf3-WjmL-",
    "outputId": "ff0df985-eb54-4db3-b110-7d25a7d532fa"
   },
   "outputs": [
    {
     "data": {
      "text/plain": [
       "array([0.97748072, 0.79639135, 0.79180095, 0.39956013, 0.08399762,\n",
       "       0.79805717])"
      ]
     },
     "execution_count": 42,
     "metadata": {},
     "output_type": "execute_result"
    }
   ],
   "source": [
    "A[:, 2] #Extraer la tercera columna (índice 2)"
   ]
  },
  {
   "cell_type": "code",
   "execution_count": 43,
   "metadata": {
    "colab": {
     "base_uri": "https://localhost:8080/"
    },
    "executionInfo": {
     "elapsed": 6,
     "status": "ok",
     "timestamp": 1702107878709,
     "user": {
      "displayName": "Luis",
      "userId": "05605313541880881378"
     },
     "user_tz": 360
    },
    "id": "8XbRMMwUimeU",
    "outputId": "fa0f5da6-f4e9-413e-eed6-31175c7b9e28"
   },
   "outputs": [
    {
     "data": {
      "text/plain": [
       "array([[0.33415237, 0.10803672],\n",
       "       [0.86802533, 0.23722861]])"
      ]
     },
     "execution_count": 43,
     "metadata": {},
     "output_type": "execute_result"
    }
   ],
   "source": [
    "A[0:2,0:2]\n",
    "A[:2, :2] #es lo mismo"
   ]
  },
  {
   "cell_type": "code",
   "execution_count": 44,
   "metadata": {
    "colab": {
     "base_uri": "https://localhost:8080/"
    },
    "executionInfo": {
     "elapsed": 164,
     "status": "ok",
     "timestamp": 1702108001792,
     "user": {
      "displayName": "Luis",
      "userId": "05605313541880881378"
     },
     "user_tz": 360
    },
    "id": "B2PQOv2ui1eo",
    "outputId": "fb4cc552-728b-4b39-b577-353a97eea1f7"
   },
   "outputs": [
    {
     "data": {
      "text/plain": [
       "array([[0.38690204, 0.68083299],\n",
       "       [0.34301116, 0.33852948]])"
      ]
     },
     "execution_count": 44,
     "metadata": {},
     "output_type": "execute_result"
    }
   ],
   "source": [
    "A[4:6, 4:6]\n",
    "A[-2:, -2:]"
   ]
  },
  {
   "cell_type": "code",
   "execution_count": 45,
   "metadata": {
    "colab": {
     "base_uri": "https://localhost:8080/"
    },
    "executionInfo": {
     "elapsed": 24,
     "status": "ok",
     "timestamp": 1702080099971,
     "user": {
      "displayName": "Luis",
      "userId": "05605313541880881378"
     },
     "user_tz": 360
    },
    "id": "H4lYevbZ9t76",
    "outputId": "ba648d0c-06ce-4811-a1e8-6a04f2b537a8"
   },
   "outputs": [
    {
     "name": "stdout",
     "output_type": "stream",
     "text": [
      "[[ 1  2  3  4]\n",
      " [ 5  6  7  8]\n",
      " [ 9 10 11 12]] \n",
      "\n",
      "6\n"
     ]
    },
    {
     "data": {
      "text/plain": [
       "array([[ 1,  2],\n",
       "       [ 5,  6],\n",
       "       [ 9, 10]])"
      ]
     },
     "execution_count": 45,
     "metadata": {},
     "output_type": "execute_result"
    }
   ],
   "source": [
    "print(a,'\\n')\n",
    "print(a[1,1]) #se indica índice, devuelve valor en esa posición\n",
    "\n",
    "a[:, 0:2] #todas las filas, primera y segunda columna"
   ]
  },
  {
   "cell_type": "markdown",
   "metadata": {
    "id": "TVn5O-MvgYMp"
   },
   "source": [
    "¡Cuidado! Al hacer *slicing*, no se copian los datos subyacentes."
   ]
  },
  {
   "cell_type": "code",
   "execution_count": 46,
   "metadata": {
    "colab": {
     "base_uri": "https://localhost:8080/"
    },
    "executionInfo": {
     "elapsed": 173,
     "status": "ok",
     "timestamp": 1702109800483,
     "user": {
      "displayName": "Luis",
      "userId": "05605313541880881378"
     },
     "user_tz": 360
    },
    "id": "WfMwM_3I9wca",
    "outputId": "480a4fc3-5103-48fa-a399-d0734a9cfb1d"
   },
   "outputs": [
    {
     "data": {
      "text/plain": [
       "array([1, 2, 3])"
      ]
     },
     "execution_count": 46,
     "metadata": {},
     "output_type": "execute_result"
    }
   ],
   "source": [
    "original = np.array([1,2,3])\n",
    "original"
   ]
  },
  {
   "cell_type": "code",
   "execution_count": 47,
   "metadata": {
    "colab": {
     "base_uri": "https://localhost:8080/"
    },
    "executionInfo": {
     "elapsed": 4,
     "status": "ok",
     "timestamp": 1702109832577,
     "user": {
      "displayName": "Luis",
      "userId": "05605313541880881378"
     },
     "user_tz": 360
    },
    "id": "NlNNeK3ekV7i",
    "outputId": "1b9805cc-fbd0-4330-efa7-59ed0f5efdb9"
   },
   "outputs": [
    {
     "data": {
      "text/plain": [
       "array([1, 2])"
      ]
     },
     "execution_count": 47,
     "metadata": {},
     "output_type": "execute_result"
    }
   ],
   "source": [
    "trozo_Dif = original.copy()[:2]\n",
    "trozo_Dif"
   ]
  },
  {
   "cell_type": "code",
   "execution_count": 48,
   "metadata": {
    "executionInfo": {
     "elapsed": 178,
     "status": "ok",
     "timestamp": 1702109878689,
     "user": {
      "displayName": "Luis",
      "userId": "05605313541880881378"
     },
     "user_tz": 360
    },
    "id": "W741-7HAka3x"
   },
   "outputs": [],
   "source": [
    "trozo_Dif[0] = 9"
   ]
  },
  {
   "cell_type": "code",
   "execution_count": 49,
   "metadata": {
    "colab": {
     "base_uri": "https://localhost:8080/"
    },
    "executionInfo": {
     "elapsed": 184,
     "status": "ok",
     "timestamp": 1702109876093,
     "user": {
      "displayName": "Luis",
      "userId": "05605313541880881378"
     },
     "user_tz": 360
    },
    "id": "a8DjaER9kgLi",
    "outputId": "7052fea2-2f60-4f7f-ec7c-8086b44b54c2"
   },
   "outputs": [
    {
     "data": {
      "text/plain": [
       "array([1, 2, 3])"
      ]
     },
     "execution_count": 49,
     "metadata": {},
     "output_type": "execute_result"
    }
   ],
   "source": [
    "original"
   ]
  },
  {
   "cell_type": "code",
   "execution_count": 50,
   "metadata": {
    "colab": {
     "base_uri": "https://localhost:8080/"
    },
    "executionInfo": {
     "elapsed": 169,
     "status": "ok",
     "timestamp": 1702109886850,
     "user": {
      "displayName": "Luis",
      "userId": "05605313541880881378"
     },
     "user_tz": 360
    },
    "id": "p1PHff6U93c6",
    "outputId": "0e958201-0aac-4ad7-ef6d-dc0169a4b216"
   },
   "outputs": [
    {
     "data": {
      "text/plain": [
       "array([1, 2])"
      ]
     },
     "execution_count": 50,
     "metadata": {},
     "output_type": "execute_result"
    }
   ],
   "source": [
    "trozo = original[:2]\n",
    "trozo"
   ]
  },
  {
   "cell_type": "code",
   "execution_count": 51,
   "metadata": {
    "colab": {
     "base_uri": "https://localhost:8080/"
    },
    "executionInfo": {
     "elapsed": 187,
     "status": "ok",
     "timestamp": 1702109891649,
     "user": {
      "displayName": "Luis",
      "userId": "05605313541880881378"
     },
     "user_tz": 360
    },
    "id": "QyaWoDoZ95TS",
    "outputId": "f378da45-35f1-40e4-d344-8450fc97a9ad"
   },
   "outputs": [
    {
     "data": {
      "text/plain": [
       "array([9, 2])"
      ]
     },
     "execution_count": 51,
     "metadata": {},
     "output_type": "execute_result"
    }
   ],
   "source": [
    "trozo[0] = 9 #modificar el primer elemento\n",
    "trozo"
   ]
  },
  {
   "cell_type": "code",
   "execution_count": 52,
   "metadata": {
    "colab": {
     "base_uri": "https://localhost:8080/"
    },
    "executionInfo": {
     "elapsed": 185,
     "status": "ok",
     "timestamp": 1702109930114,
     "user": {
      "displayName": "Luis",
      "userId": "05605313541880881378"
     },
     "user_tz": 360
    },
    "id": "WkK9POqs99FK",
    "outputId": "4e4a04b8-778b-4d10-b827-339dabd62614"
   },
   "outputs": [
    {
     "data": {
      "text/plain": [
       "array([9, 2, 3])"
      ]
     },
     "execution_count": 52,
     "metadata": {},
     "output_type": "execute_result"
    }
   ],
   "source": [
    "original #¡Cambiamos el arreglo original!"
   ]
  },
  {
   "cell_type": "markdown",
   "metadata": {
    "id": "3YWOORCJf2TD"
   },
   "source": [
    "Los subarreglos que se extraen a través de *slicing* son vistas (views) de los datos originales. Hacen referencia a los mismos datos en memoria.\n",
    "\n"
   ]
  },
  {
   "cell_type": "code",
   "execution_count": 53,
   "metadata": {
    "colab": {
     "base_uri": "https://localhost:8080/"
    },
    "executionInfo": {
     "elapsed": 199,
     "status": "ok",
     "timestamp": 1702111069657,
     "user": {
      "displayName": "Luis",
      "userId": "05605313541880881378"
     },
     "user_tz": 360
    },
    "id": "HCm3ADdsgKhJ",
    "outputId": "a4c755c7-46c2-4125-c8fc-49930bd07b6c"
   },
   "outputs": [
    {
     "name": "stdout",
     "output_type": "stream",
     "text": [
      "[1 2 3]\n",
      "[9 2]\n"
     ]
    }
   ],
   "source": [
    "original = np.array([1,2,3])\n",
    "trozo = original[:2]\n",
    "\n",
    "modificado = np.copy(trozo) #básicamente una copia de la copia\n",
    "modificado[0] = 9\n",
    "\n",
    "print(original)\n",
    "print(modificado)"
   ]
  },
  {
   "cell_type": "markdown",
   "metadata": {
    "id": "3IHbO-mwVp3C"
   },
   "source": [
    "## Broadcasting\n",
    "\n",
    "*   Existen maneras de realizar cálculos con arreglos de diferente dimensionalidad en NumPy.\n",
    "*   Se puede pensar en la analogía de una transmisión de datos a todos los elementos de un arreglo.\n",
    "\n",
    "<center> <img src=\"https://numpy.org/doc/stable/_images/broadcasting_1.png\" alt=\"image info\" width=\"500\"/> </center>\n",
    "\n",
    "\n",
    "El tema broadcasting es un poco complejo pero útil, ya que puede reducir la cantidad de líneas de código en un cálculo. En el sitio oficial de [NumPy](https://numpy.org/doc/stable/user/basics.broadcasting.html) existe una explicación detallada de esta funcionalidad.\n",
    "\n",
    "### Ejemplos:\n"
   ]
  },
  {
   "cell_type": "code",
   "execution_count": 54,
   "metadata": {
    "colab": {
     "base_uri": "https://localhost:8080/"
    },
    "executionInfo": {
     "elapsed": 175,
     "status": "ok",
     "timestamp": 1702111185509,
     "user": {
      "displayName": "Luis",
      "userId": "05605313541880881378"
     },
     "user_tz": 360
    },
    "id": "TWNcGS4gWTMV",
    "outputId": "5f4c2a2b-6d29-4f8f-955d-f17b04c7cfc5"
   },
   "outputs": [
    {
     "name": "stdout",
     "output_type": "stream",
     "text": [
      "[2 4 6]\n"
     ]
    }
   ],
   "source": [
    "a = np.array([1,2,3])\n",
    "b = 2\n",
    "print(a*b)"
   ]
  },
  {
   "cell_type": "code",
   "execution_count": 55,
   "metadata": {
    "colab": {
     "base_uri": "https://localhost:8080/",
     "height": 322
    },
    "executionInfo": {
     "elapsed": 196,
     "status": "error",
     "timestamp": 1702111561783,
     "user": {
      "displayName": "Luis",
      "userId": "05605313541880881378"
     },
     "user_tz": 360
    },
    "id": "WYl3uQTeX-JG",
    "outputId": "78075d0a-c42a-4747-a9ed-339034b731d0"
   },
   "outputs": [
    {
     "name": "stdout",
     "output_type": "stream",
     "text": [
      "[[1. 1. 1. 1. 1.]\n",
      " [1. 1. 1. 1. 1.]\n",
      " [1. 1. 1. 1. 1.]] \n",
      "\n",
      "[1 2 3] \n",
      "\n"
     ]
    },
    {
     "ename": "ValueError",
     "evalue": "operands could not be broadcast together with shapes (3,5) (3,) ",
     "output_type": "error",
     "traceback": [
      "\u001b[1;31m---------------------------------------------------------------------------\u001b[0m",
      "\u001b[1;31mValueError\u001b[0m                                Traceback (most recent call last)",
      "Cell \u001b[1;32mIn[55], line 5\u001b[0m\n\u001b[0;32m      3\u001b[0m \u001b[38;5;28mprint\u001b[39m(a, \u001b[38;5;124m'\u001b[39m\u001b[38;5;130;01m\\n\u001b[39;00m\u001b[38;5;124m'\u001b[39m)\n\u001b[0;32m      4\u001b[0m \u001b[38;5;28mprint\u001b[39m(b, \u001b[38;5;124m'\u001b[39m\u001b[38;5;130;01m\\n\u001b[39;00m\u001b[38;5;124m'\u001b[39m)\n\u001b[1;32m----> 5\u001b[0m \u001b[38;5;28mprint\u001b[39m(\u001b[43ma\u001b[49m\u001b[38;5;241;43m+\u001b[39;49m\u001b[43mb\u001b[49m)\n",
      "\u001b[1;31mValueError\u001b[0m: operands could not be broadcast together with shapes (3,5) (3,) "
     ]
    }
   ],
   "source": [
    "a = np.ones((3,5))\n",
    "b = np.array([1,2,3])\n",
    "print(a, '\\n')\n",
    "print(b, '\\n')\n",
    "print(a+b)"
   ]
  },
  {
   "cell_type": "code",
   "execution_count": 56,
   "metadata": {
    "colab": {
     "base_uri": "https://localhost:8080/"
    },
    "executionInfo": {
     "elapsed": 8,
     "status": "ok",
     "timestamp": 1702111246978,
     "user": {
      "displayName": "Luis",
      "userId": "05605313541880881378"
     },
     "user_tz": 360
    },
    "id": "nZWBvQ0uWood",
    "outputId": "c54f7d6e-2075-4a8e-aea2-e958feadbc03"
   },
   "outputs": [
    {
     "name": "stdout",
     "output_type": "stream",
     "text": [
      "[[1. 1. 1. 1. 1.]\n",
      " [1. 1. 1. 1. 1.]\n",
      " [1. 1. 1. 1. 1.]] \n",
      "\n",
      "[[1]\n",
      " [2]\n",
      " [3]] \n",
      "\n",
      "[[2. 2. 2. 2. 2.]\n",
      " [3. 3. 3. 3. 3.]\n",
      " [4. 4. 4. 4. 4.]]\n"
     ]
    }
   ],
   "source": [
    "# Para que el broadcasting funcione debe haber la misma cantidad de dimensiones\n",
    "a = np.ones((3,5))\n",
    "b = np.array([[1],[2],[3]]) # dims (3,1)\n",
    "print(a, '\\n')\n",
    "print(b, '\\n')\n",
    "print(a+b)"
   ]
  },
  {
   "cell_type": "markdown",
   "metadata": {
    "id": "M1jiyXDx-Dqb"
   },
   "source": [
    "## Manejo de archivos con NumPy\n",
    "\n",
    "* NumPy permite cargar datos de un archivo de texto con la función. Los datos se guardan en un array.\n",
    "* **loadtxt()** es una de las funciones más usadas.\n",
    "\n"
   ]
  },
  {
   "cell_type": "code",
   "execution_count": 54,
   "metadata": {
    "colab": {
     "base_uri": "https://localhost:8080/"
    },
    "executionInfo": {
     "elapsed": 16716,
     "status": "ok",
     "timestamp": 1702111324713,
     "user": {
      "displayName": "Luis",
      "userId": "05605313541880881378"
     },
     "user_tz": 360
    },
    "id": "tn1Ie9CMbcs5",
    "outputId": "cac9e239-9d45-4491-9795-d1a9f1ee7cf9"
   },
   "outputs": [
    {
     "name": "stdout",
     "output_type": "stream",
     "text": [
      "Mounted at /content/drive\n"
     ]
    }
   ],
   "source": [
    "from google.colab import drive\n",
    "drive.mount('/content/drive')"
   ]
  },
  {
   "cell_type": "code",
   "execution_count": 72,
   "metadata": {
    "executionInfo": {
     "elapsed": 165,
     "status": "ok",
     "timestamp": 1702111815117,
     "user": {
      "displayName": "Luis",
      "userId": "05605313541880881378"
     },
     "user_tz": 360
    },
    "id": "jjHkChMl-aLS"
   },
   "outputs": [],
   "source": [
    "datos = np.loadtxt(open('/content/drive/MyDrive/TallerPythonCENAT/entrada.csv','r'),delimiter=',')"
   ]
  },
  {
   "cell_type": "code",
   "execution_count": 63,
   "metadata": {
    "colab": {
     "base_uri": "https://localhost:8080/"
    },
    "executionInfo": {
     "elapsed": 164,
     "status": "ok",
     "timestamp": 1702111681770,
     "user": {
      "displayName": "Luis",
      "userId": "05605313541880881378"
     },
     "user_tz": 360
    },
    "id": "LXKR7t_eWHzV",
    "outputId": "deb87bb3-5272-4d7f-eb17-495c8bd50829"
   },
   "outputs": [
    {
     "data": {
      "text/plain": [
       "array([[0.56445312, 0.7857666 , 0.66238403, 0.381073  , 0.76885986],\n",
       "       [0.70596313, 0.89736938, 0.90246582, 0.88717651, 0.21951294],\n",
       "       [0.00320435, 0.88973999, 0.27859497, 0.18301392, 0.10778809],\n",
       "       [0.36602783, 0.15338135, 0.62615967,        nan, 0.98999023],\n",
       "       [0.19818115, 0.00131226, 0.20666504, 0.55252075, 0.71081543],\n",
       "       [0.90380859, 0.05490112, 0.70968628, 0.02615356, 0.91934204],\n",
       "       [0.15689087, 0.85852051, 0.51434326, 0.75436401, 0.4425354 ],\n",
       "       [0.56121826, 0.93249512, 0.30606079, 0.21484375, 0.42486572],\n",
       "       [0.41104126, 0.82803345, 0.27801514,        nan, 0.85632324],\n",
       "       [0.84790039, 0.80950928, 0.49990845, 0.05026245, 0.99301147]])"
      ]
     },
     "execution_count": 63,
     "metadata": {},
     "output_type": "execute_result"
    }
   ],
   "source": [
    "datos"
   ]
  },
  {
   "cell_type": "code",
   "execution_count": 70,
   "metadata": {
    "colab": {
     "base_uri": "https://localhost:8080/"
    },
    "executionInfo": {
     "elapsed": 210,
     "status": "ok",
     "timestamp": 1702111808348,
     "user": {
      "displayName": "Luis",
      "userId": "05605313541880881378"
     },
     "user_tz": 360
    },
    "id": "eOFpWqsGSILx",
    "outputId": "4ecd57d0-1e20-4cff-c25a-d66b8e57ce9a"
   },
   "outputs": [
    {
     "data": {
      "text/plain": [
       "array([[0.44517542, 0.03622507, 0.45460427, 0.7433174 , 0.84309871],\n",
       "       [0.95068848, 0.23430989, 0.8424288 , 0.16172064, 0.95882326],\n",
       "       [0.39609452, 0.92656382, 0.71717729, 0.86854131, 0.66523334],\n",
       "       [0.74914502, 0.96565787, 0.55322761, 0.46351241, 0.65181725],\n",
       "       [0.641125  , 0.90996343, 0.52727141,        nan, 0.92537735],\n",
       "       [0.92081507, 0.89972733, 0.70704204, 0.22419289, 0.99649961]])"
      ]
     },
     "execution_count": 70,
     "metadata": {},
     "output_type": "execute_result"
    }
   ],
   "source": [
    "np.sqrt(datos)"
   ]
  },
  {
   "cell_type": "markdown",
   "metadata": {
    "id": "Dkhe-laY-j48"
   },
   "source": [
    "Con **skiprows** se puede omitir tantas filas como se desee."
   ]
  },
  {
   "cell_type": "code",
   "execution_count": 67,
   "metadata": {
    "colab": {
     "base_uri": "https://localhost:8080/"
    },
    "executionInfo": {
     "elapsed": 175,
     "status": "ok",
     "timestamp": 1702111790398,
     "user": {
      "displayName": "Luis",
      "userId": "05605313541880881378"
     },
     "user_tz": 360
    },
    "id": "Zl_WkifC-cRy",
    "outputId": "11ba706d-0fc1-4ac9-f0ed-7ad9bd96d8b5"
   },
   "outputs": [
    {
     "data": {
      "text/plain": [
       "array([[0.19818115, 0.00131226, 0.20666504, 0.55252075, 0.71081543],\n",
       "       [0.90380859, 0.05490112, 0.70968628, 0.02615356, 0.91934204],\n",
       "       [0.15689087, 0.85852051, 0.51434326, 0.75436401, 0.4425354 ],\n",
       "       [0.56121826, 0.93249512, 0.30606079, 0.21484375, 0.42486572],\n",
       "       [0.41104126, 0.82803345, 0.27801514,        nan, 0.85632324],\n",
       "       [0.84790039, 0.80950928, 0.49990845, 0.05026245, 0.99301147]])"
      ]
     },
     "execution_count": 67,
     "metadata": {},
     "output_type": "execute_result"
    }
   ],
   "source": [
    "datos = np.loadtxt(open('/content/drive/MyDrive/TallerPythonCENAT/entrada.csv','r'),delimiter=',',skiprows=4) #Ignora las primeras 4 filas\n",
    "datos"
   ]
  },
  {
   "cell_type": "markdown",
   "metadata": {
    "id": "bWANdpa2-qlz"
   },
   "source": [
    "### Archivos con encabezados\n",
    "\n",
    "Para cargar datos con encabezados en las columnas se utiliza **genfromtxt()**. Con esta función también se pueden leer archivos sin encabezado usando **names=False**."
   ]
  },
  {
   "cell_type": "code",
   "execution_count": 81,
   "metadata": {
    "colab": {
     "base_uri": "https://localhost:8080/"
    },
    "executionInfo": {
     "elapsed": 167,
     "status": "ok",
     "timestamp": 1702112246793,
     "user": {
      "displayName": "Luis",
      "userId": "05605313541880881378"
     },
     "user_tz": 360
    },
    "id": "b1a9-yue-xe6",
    "outputId": "09253e48-491d-4ae2-a890-9aab247d172b"
   },
   "outputs": [
    {
     "data": {
      "text/plain": [
       "array([(1990.,  5.,  6.,  1., 56., 3., 9.7489, -83.7534),\n",
       "       (1991.,  4., 30.,  1., 55., 5., 9.7489, -83.7534),\n",
       "       (1992.,  8., 31.,  2., 44., 3., 9.7489, -83.7534),\n",
       "       (1993.,  7.,  3.,  3., 21., 4., 9.7489, -83.7534),\n",
       "       (1993.,  9., 24.,  4., 39., 5., 9.7489, -83.7534),\n",
       "       (1993., 11., 15.,  5., 17., 3., 9.7489, -83.7534),\n",
       "       (1993.,  1., 16.,  8., 45., 7., 9.7489, -83.7534),\n",
       "       (1997.,  2., 22.,  9., 44., 4., 9.7489, -83.7534),\n",
       "       (1998.,  3., 12., 15., 54., 2., 9.7489, -83.7534),\n",
       "       (1999., 11., 13., 15., 21., 3., 9.7489, -83.7534),\n",
       "       (2000.,  2., 14., 16., 10., 8., 9.7489, -83.7534)],\n",
       "      dtype=[('anio', '<f8'), ('mes', '<f8'), ('dia', '<f8'), ('hora', '<f8'), ('minuto', '<f8'), ('escala', '<f8'), ('latitud', '<f8'), ('longitud', '<f8')])"
      ]
     },
     "execution_count": 81,
     "metadata": {},
     "output_type": "execute_result"
    }
   ],
   "source": [
    "#datos2 = np.loadtxt(open('/content/drive/MyDrive/TallerPythonCENAT/sismos.csv','r'),delimiter=',')\n",
    "#datos2\n",
    "#como hay encabezados, en vez de loadtxt se usa genfromtxt\n",
    "\n",
    "datos2 = np.genfromtxt(\"/content/drive/MyDrive/TallerPythonCENAT/sismos.csv\", dtype=float, delimiter=',', names=True)\n",
    "np.genfromtxt?\n",
    "datos2"
   ]
  },
  {
   "cell_type": "markdown",
   "metadata": {
    "id": "RvNQvOnj-z6L"
   },
   "source": [
    " * Se puede acceder a los nombres con el atributo **dtype.names**.\n",
    " * Para conocer los datos se puede usar el nombre de las columnas en vez del índice."
   ]
  },
  {
   "cell_type": "code",
   "execution_count": 82,
   "metadata": {
    "colab": {
     "base_uri": "https://localhost:8080/"
    },
    "executionInfo": {
     "elapsed": 168,
     "status": "ok",
     "timestamp": 1702112322439,
     "user": {
      "displayName": "Luis",
      "userId": "05605313541880881378"
     },
     "user_tz": 360
    },
    "id": "NCV81WnM-zDa",
    "outputId": "692e96dc-733a-4c0f-e1fc-e9d5c5127816"
   },
   "outputs": [
    {
     "data": {
      "text/plain": [
       "('anio', 'mes', 'dia', 'hora', 'minuto', 'escala', 'latitud', 'longitud')"
      ]
     },
     "execution_count": 82,
     "metadata": {},
     "output_type": "execute_result"
    }
   ],
   "source": [
    "datos2.dtype.names\n"
   ]
  },
  {
   "cell_type": "code",
   "execution_count": 85,
   "metadata": {
    "colab": {
     "base_uri": "https://localhost:8080/"
    },
    "executionInfo": {
     "elapsed": 174,
     "status": "ok",
     "timestamp": 1702112344300,
     "user": {
      "displayName": "Luis",
      "userId": "05605313541880881378"
     },
     "user_tz": 360
    },
    "id": "M7adEjvGTTjn",
    "outputId": "c2f9e2fc-7766-46b0-9531-c5978a7c3fda"
   },
   "outputs": [
    {
     "data": {
      "text/plain": [
       "array([3., 5., 3., 4., 5., 3., 7., 4., 2., 3., 8.])"
      ]
     },
     "execution_count": 85,
     "metadata": {},
     "output_type": "execute_result"
    }
   ],
   "source": [
    "datos2['escala']"
   ]
  },
  {
   "cell_type": "markdown",
   "metadata": {
    "id": "F2KYejOF--Vb"
   },
   "source": [
    "### Guardar datos\n",
    "**savetxt()** sirve para guardar datos."
   ]
  },
  {
   "cell_type": "code",
   "execution_count": 87,
   "metadata": {
    "colab": {
     "base_uri": "https://localhost:8080/"
    },
    "executionInfo": {
     "elapsed": 4,
     "status": "ok",
     "timestamp": 1702112399088,
     "user": {
      "displayName": "Luis",
      "userId": "05605313541880881378"
     },
     "user_tz": 360
    },
    "id": "oaIKl5np-7-6",
    "outputId": "df25f9de-7dda-48f4-cf64-4263033febf1"
   },
   "outputs": [
    {
     "data": {
      "text/plain": [
       "array([0.0000e+00, 1.0000e-02, 2.0000e-02, ..., 9.9997e+02, 9.9998e+02,\n",
       "       9.9999e+02])"
      ]
     },
     "execution_count": 87,
     "metadata": {},
     "output_type": "execute_result"
    }
   ],
   "source": [
    "arr = np.arange(0, 1000, 0.01)\n",
    "arr"
   ]
  },
  {
   "cell_type": "code",
   "execution_count": 88,
   "metadata": {
    "executionInfo": {
     "elapsed": 179,
     "status": "ok",
     "timestamp": 1702112437693,
     "user": {
      "displayName": "Luis",
      "userId": "05605313541880881378"
     },
     "user_tz": 360
    },
    "id": "4YupjLQWTnXU"
   },
   "outputs": [],
   "source": [
    "np.savetxt('salida.csv',arr, delimiter=',', fmt='%.2f') #fmt indica el formato de los decimales para cada float"
   ]
  },
  {
   "cell_type": "markdown",
   "metadata": {
    "id": "U7EKVd0vzwjf"
   },
   "source": [
    "*Pregunta: todo esto se aplica de la misma manera en un IDE o editor de código regular?*"
   ]
  },
  {
   "cell_type": "code",
   "execution_count": 89,
   "metadata": {
    "executionInfo": {
     "elapsed": 182,
     "status": "ok",
     "timestamp": 1702112515611,
     "user": {
      "displayName": "Luis",
      "userId": "05605313541880881378"
     },
     "user_tz": 360
    },
    "id": "rxTXPH1bnPAe"
   },
   "outputs": [],
   "source": [
    "np.linalg?"
   ]
  }
 ],
 "metadata": {
  "colab": {
   "provenance": [
    {
     "file_id": "1uolsj1IxW0fyw2V_Uyrm-Gef8KJ9Ofw5",
     "timestamp": 1702079689182
    }
   ]
  },
  "kernelspec": {
   "display_name": "Python 3 (ipykernel)",
   "language": "python",
   "name": "python3"
  },
  "language_info": {
   "codemirror_mode": {
    "name": "ipython",
    "version": 3
   },
   "file_extension": ".py",
   "mimetype": "text/x-python",
   "name": "python",
   "nbconvert_exporter": "python",
   "pygments_lexer": "ipython3",
   "version": "3.11.8"
  }
 },
 "nbformat": 4,
 "nbformat_minor": 0
}
