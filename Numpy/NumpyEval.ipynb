{
  "cells": [
    {
      "cell_type": "code",
      "execution_count": null,
      "metadata": {
        "id": "-oBQ0YjpoIpU"
      },
      "outputs": [],
      "source": [
        "# celda para acceder a archivos en Google Drive\n",
        "from google.colab import drive\n",
        "drive.mount('/content/drive')"
      ]
    },
    {
      "cell_type": "markdown",
      "metadata": {
        "id": "BCS0l7SbrORr"
      },
      "source": [
        "# Evaluación: NumPy y SciPy\n",
        "\n",
        "## <font color='purple'>**Ejercicio 1**</font>\n",
        "\n"
      ]
    },
    {
      "cell_type": "code",
      "execution_count": null,
      "metadata": {
        "id": "HlS8yAFyaSaD"
      },
      "outputs": [],
      "source": [
        "import numpy as np\n",
        "numbers = np.arange(15)\n",
        "print(numbers)\n",
        "\n",
        "# Del arreglo \"numbers\" extraiga los últimos dos elementos\n",
        "\n",
        "# Del arreglo \"numbers\" extraiga todos los números excepto los últimos dos elementos\n",
        "\n",
        "# Obtenga de \"numbers\", a partir del segundo elemento, los elementos cada 2 posiciones (Por ejemplo: [0 1 2 3 4 5 6 7 8] -> [1 3 5 7])"
      ]
    },
    {
      "cell_type": "code",
      "execution_count": null,
      "metadata": {
        "id": "17N62rpEq03x"
      },
      "outputs": [],
      "source": [
        "print('últimos dos elementos:', numbers[-2:])\n",
        "print('todos excepto los últimos dos:', numbers[:-2])\n",
        "print('cada dos posiciones:', numbers[1::2])"
      ]
    },
    {
      "cell_type": "code",
      "execution_count": null,
      "metadata": {
        "id": "dMlplAutj4mK"
      },
      "outputs": [],
      "source": [
        "import numpy as np"
      ]
    },
    {
      "cell_type": "code",
      "execution_count": null,
      "metadata": {
        "id": "-9RyWr0HY3jJ"
      },
      "outputs": [],
      "source": [
        "#Crear un arreglo de NumPy a partir de una lista de números de Python\n",
        "\n",
        "#Crear un arreglo 1D de NumPY con 10 números flotantes (con decimales dtype=float) inicializada con ceros\n",
        "\n",
        "#Crear un arreglo 2D de NumPy con forma 3x3 con números flotantes\n",
        "\n",
        "#Crear un arreglo con 12 números aleatorios\n"
      ]
    },
    {
      "cell_type": "code",
      "execution_count": null,
      "metadata": {
        "id": "e9M8UUk-80Mw"
      },
      "outputs": [],
      "source": [
        "lista1=[1,2,3,4,5]\n",
        "ar1=np.array(lista1)\n",
        "print('arreglo 1:', ar1)\n",
        "\n",
        "ar2=np.linspace(0,0.99,10)\n",
        "print('arreglo 2:', ar2)\n",
        "\n",
        "ar3=np.array([[1.,2,3],[4,5,6],[7,8,9]])\n",
        "print('arreglo 3: \\n', ar3,)\n",
        "\n",
        "ar4=np.random.random(12)\n",
        "print('arreglo 4:', ar4)"
      ]
    },
    {
      "cell_type": "code",
      "execution_count": null,
      "metadata": {
        "id": "SvM-7wMHfwa8"
      },
      "outputs": [],
      "source": [
        "import numpy as np\n",
        "arrayToMatrix = np.arange(36)\n",
        "arrayToMatrix\n",
        "# Convierta el arreglo arrayToMatrix a una matrix de forma 6x6\n",
        "\n",
        "# Utilizando indexacion, extraiga la tercera fila de la matriz resultante (recuerde que se indexa a partir de 0)\n",
        "\n",
        "# Utilizando slicing extraiga los elementos 14, 15, 20, 21 en una matrix 2x2\n"
      ]
    },
    {
      "cell_type": "code",
      "execution_count": null,
      "metadata": {
        "id": "04YT483FAEUs"
      },
      "outputs": [],
      "source": [
        "matriz=arrayToMatrix.reshape([6,6])\n",
        "print('Matriz generada a partir del arreglo: \\n', matriz, '\\n')\n",
        "\n",
        "print('Segunda fila extraída: ' ,matriz[2,:], '\\n')\n",
        "\n",
        "slice=matriz.copy()[2:4,2:4]\n",
        "print('Elementos específicos: \\n', slice)"
      ]
    }
  ],
  "metadata": {
    "colab": {
      "provenance": []
    },
    "kernelspec": {
      "display_name": "Python 3",
      "name": "python3"
    },
    "language_info": {
      "codemirror_mode": {
        "name": "ipython",
        "version": 3
      },
      "file_extension": ".py",
      "mimetype": "text/x-python",
      "name": "python",
      "nbconvert_exporter": "python",
      "pygments_lexer": "ipython3",
      "version": "3.11.8"
    }
  },
  "nbformat": 4,
  "nbformat_minor": 0
}