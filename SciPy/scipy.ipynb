{
  "cells": [
    {
      "cell_type": "markdown",
      "metadata": {
        "id": "Qbs1H-YCQSMh"
      },
      "source": [
        "<div align=\"center\">\n",
        "    <h1>Taller de Computación Científica en Python - 2025</h1>\n",
        "    <img src=\"https://www.iycr2014.org/__data/assets/image/0014/133052/logo_cenat.png\" alt=\"Logo CENAT\" style=\"width: 200px;\"/>\n",
        "    \n",
        "</div>\n",
        "\n",
        "---\n",
        "\n",
        "\n",
        "## Herramientas de computación científica con SciPy\n",
        "\n",
        "<center> <img src=\"https://interactivechaos.com/sites/default/files/inline-images/portada_tutorial_scipy.jpg\" alt=\"image info\" width=\"300\"/> </center>\n",
        "\n",
        "\"*SciPy (pronounced “Sigh Pie”) is a Python-based ecosystem of open-source software for mathematics, science, and engineering.*\" —http://www.scipy.org\n",
        "       \n",
        "    \n",
        "* Contiene funciones que ayudan a abordar problemas comunes de la computación científica.\n",
        "* Trabaja en conjunto con NumPy.\n",
        "* Entre sus módulos están:\n",
        "\n",
        "<div align=\"center\">\n",
        "\n",
        "| Nombre       | Funciones relacionadas                       |\n",
        "| :---:        | :---:                                        |\n",
        "| misc         | Funciones no clasificadas                    |\n",
        "| special      | Funciones especiales                         |\n",
        "| fftpack      | Transformada de Fourier                      |\n",
        "| integrate    | Integración y ecuaciones diferenciales       |\n",
        "| interpolate  | Interpolación                                |\n",
        "| io           | Input/Output, entrada y salida de datos      |\n",
        "| linalg       | Álgebra lineal                               |\n",
        "| ndimage      | Imágenes n-dimensionales                     |\n",
        "| optimize     | Optimización                                 |\n",
        "| signal       | Procesamiento de señales                     |\n",
        "| stats        | Estadística                                  |\n",
        "| spatial      | Estructuras de datos espaciales              |\n",
        "| constants    | Constantes matemáticas y físicas             |\n",
        "\n",
        "</div>\n",
        "\n",
        "\n",
        "\n",
        "### Antes de implementar una rutina en su código, verifique si no existe ya una implementación en SciPy.\n",
        "\n",
        "- Los submódulos son independientes entre si.\n",
        "\n",
        "### Módulo scipy.linalg: Álgebra lineal\n",
        "    \n",
        "- Tiene operaciones *built-in* para trabajar con matrices.\n",
        "- Posee métodos para calcular productos matriciales, de Kronecker, internos y externos, entre otros.\n",
        "- Podemos determinar los valores propios y calcular funciones trigonométricas para matrices.\n",
        "- También tiene funciones para crear matrices especiales. *Ejemplo:* circulante, convolución.\n",
        "\n",
        "---\n",
        "\n",
        "**Realizado por:**  \n",
        "Johansell Villalobos y Julián Sánchez"
      ]
    },
    {
      "cell_type": "code",
      "source": [
        "!git clone https://github.com/jkhansell/sc_notebooks"
      ],
      "metadata": {
        "id": "r38TNvTPYwFs"
      },
      "execution_count": null,
      "outputs": []
    },
    {
      "cell_type": "code",
      "execution_count": null,
      "metadata": {
        "id": "L8Tm8ioeSMm4"
      },
      "outputs": [],
      "source": [
        "import numpy as np\n",
        "from scipy import linalg as la"
      ]
    },
    {
      "cell_type": "code",
      "execution_count": null,
      "metadata": {
        "id": "3RMg0pJpnfPM"
      },
      "outputs": [],
      "source": [
        "la?"
      ]
    },
    {
      "cell_type": "code",
      "execution_count": null,
      "metadata": {
        "id": "GVU_ITH-SOw6"
      },
      "outputs": [],
      "source": [
        "matriz = np.random.rand(5,5)*10\n",
        "matriz = matriz.astype(int)\n",
        "print(matriz)"
      ]
    },
    {
      "cell_type": "code",
      "execution_count": null,
      "metadata": {
        "id": "tkOdjA7JXeg5"
      },
      "outputs": [],
      "source": [
        "la.det(matriz) #Calcula el determinante de una matriz cuadrada"
      ]
    },
    {
      "cell_type": "code",
      "execution_count": null,
      "metadata": {
        "id": "AK5Ns7wIXjqP"
      },
      "outputs": [],
      "source": [
        "la.inv(matriz) #Calcula la inversa de una matriz cuadrada"
      ]
    },
    {
      "cell_type": "code",
      "execution_count": null,
      "metadata": {
        "id": "R1ugnUmwo9Jt"
      },
      "outputs": [],
      "source": [
        "la.tril(matriz)"
      ]
    },
    {
      "cell_type": "code",
      "execution_count": null,
      "metadata": {
        "id": "oUUx9I28pV82"
      },
      "outputs": [],
      "source": [
        "la.triu(matriz)"
      ]
    },
    {
      "cell_type": "code",
      "execution_count": null,
      "metadata": {
        "id": "lZj4pq0QSQuu"
      },
      "outputs": [],
      "source": [
        "vector = np.array([2,2,1])\n",
        "la.norm(vector) #Calcula la norma del vector"
      ]
    },
    {
      "cell_type": "markdown",
      "metadata": {
        "id": "OQvc-mwvobtE"
      },
      "source": [
        "También es posible calcular diferentes normas para un mismo arreglo."
      ]
    },
    {
      "cell_type": "code",
      "execution_count": null,
      "metadata": {
        "id": "wFIum_cTogwT"
      },
      "outputs": [],
      "source": [
        "?la.norm"
      ]
    },
    {
      "cell_type": "code",
      "execution_count": null,
      "metadata": {
        "id": "FJCgOkYNozZz"
      },
      "outputs": [],
      "source": [
        "vector2 = np.array([[2,2,1],\n",
        "                    [3,4,1]])\n",
        "la.norm(vector2, axis=0) #Norma a lo largo de las columnas"
      ]
    },
    {
      "cell_type": "markdown",
      "metadata": {
        "id": "Fx5Yt90dSUjZ"
      },
      "source": [
        "## Solución de sistemas de ecuaciones\n",
        "\n",
        "Un problema común es la resolución de sistemas lineales de tipo $$Ax = b$$\n",
        "\n",
        "donde $A$ es una matriz cuadrada y $det(A)\\neq0$\n",
        "\n",
        "Por ejemplo el sistema:\n",
        "\n",
        "$$\\begin{array}{lcl} 2x + 3y & = & 6 \\\\ 4x + 9y & = & 15 \\end{array}$$\n",
        "\n",
        "$$\\begin{bmatrix}\n",
        "    2 & 4 \\\\\n",
        "    4 & 9\n",
        "\\end{bmatrix}\n",
        "\\begin{bmatrix}\n",
        "    x \\\\\n",
        "    y\n",
        "\\end{bmatrix} =\n",
        "\\begin{bmatrix}\n",
        "    6 \\\\\n",
        "    15\n",
        "\\end{bmatrix}$$"
      ]
    },
    {
      "cell_type": "code",
      "execution_count": null,
      "metadata": {
        "id": "Ubt0NIZwSWxT"
      },
      "outputs": [],
      "source": [
        "#Primero definimos la matriz de coeficientes\n",
        "matA = np.array([[2,3],\n",
        "                 [4,9]])\n",
        "\n",
        "#Luego, definimos el vector b o matriz de resultados\n",
        "vectB = np.array([6,15]).reshape(2,1)\n",
        "print(matA)\n",
        "print(vectB)"
      ]
    },
    {
      "cell_type": "code",
      "execution_count": null,
      "metadata": {
        "id": "mTIBZzI6YL4H"
      },
      "outputs": [],
      "source": [
        "#Finalmente, hacemos uso de la función solve de linalg\n",
        "la.solve(matA, vectB)"
      ]
    },
    {
      "cell_type": "markdown",
      "metadata": {
        "id": "t-GXwfvJSa1N"
      },
      "source": [
        "SciPy incluye otros métodos de resolución de sistemas de ecuaciones como factorización LU o el método de Cholesky. Se pueden consultar [aquí](https://docs.scipy.org/doc/scipy/reference/linalg.html#module-scipy.linalg).\n",
        "\n",
        "## Álgebra lineal para manipular objetos"
      ]
    },
    {
      "cell_type": "code",
      "execution_count": null,
      "metadata": {
        "id": "7tq5QxWGuqMw"
      },
      "outputs": [],
      "source": [
        "from scipy import misc\n",
        "import matplotlib.pyplot as plt"
      ]
    },
    {
      "cell_type": "code",
      "execution_count": null,
      "metadata": {
        "id": "XuclJEuKYf3I"
      },
      "outputs": [],
      "source": [
        "mapache = misc.face() #Devuelve un array que corresponde a la imagen de la cara de un mapache\n",
        "plt.imshow(mapache) #Comando solo para mostrar la imagen"
      ]
    },
    {
      "cell_type": "markdown",
      "metadata": {
        "id": "0DLXIkSy0Ei0"
      },
      "source": [
        "La imagen del mapache es una matriz, veamos cuáles son sus características."
      ]
    },
    {
      "cell_type": "code",
      "execution_count": null,
      "metadata": {
        "id": "Flxpd4Qw0Udt"
      },
      "outputs": [],
      "source": [
        "print('Forma: ',mapache.shape,'\\nTamaño: ',mapache.size, '\\nDimensiones: ', mapache.ndim)"
      ]
    },
    {
      "cell_type": "markdown",
      "metadata": {
        "id": "oIMrBDMU1MQ8"
      },
      "source": [
        "La forma indica que el objeto se compone de tres matrices, cada una con forma 768 x 1024. Estas tres matrices representan un canal de color RGB.\n",
        "\n",
        "Lo que haremos será cambiar el color de la imagen a escala de grises usando la fórmula\n",
        "\n",
        "$\\mathrm{Gris} = 0.2126R+0.7152G+0.0722B$"
      ]
    },
    {
      "cell_type": "code",
      "execution_count": null,
      "metadata": {
        "id": "7np2QrMQlTis"
      },
      "outputs": [],
      "source": [
        "mapache[:,:,0] #Note de una de las matrices que cada valor en la matriz representa el valor R, G o B del pixel"
      ]
    },
    {
      "cell_type": "code",
      "execution_count": null,
      "metadata": {
        "id": "W3Ml8H3cyAzH"
      },
      "outputs": [],
      "source": [
        "mapache_gris = mapache.dot([0.2126, 0.7152, 0.0722]) #Multiplicamos cada canal de color por los valores de la fórmula\n",
        "\n",
        "plt.imshow(mapache_gris,cmap='gray')"
      ]
    },
    {
      "cell_type": "markdown",
      "metadata": {
        "id": "LJVfs7WmivtL"
      },
      "source": [
        "Ahora utilizaremos descomposición en valores singulares (SVD) en esta matriz para extraer las principales características y luego reconstruir la imagen a partir de ellas.\n",
        "\n",
        "$$U\\Sigma V^T=A$$\n",
        "\n",
        "donde $U$ y $V^T$ son matrices cuadradas y $\\Sigma$ es la matriz con los valores singulares de $A$. Estos valores pueden ser utilizados como medida de la \"importancia\" de las características de la matriz $A$.\n",
        "\n",
        "En esencia, estamos usando SVD para comprimir una imagen"
      ]
    },
    {
      "cell_type": "code",
      "execution_count": null,
      "metadata": {
        "id": "PMt8MEb7rrxG"
      },
      "outputs": [],
      "source": [
        "la.svd?"
      ]
    },
    {
      "cell_type": "code",
      "execution_count": null,
      "metadata": {
        "id": "55tkjpXJit8R"
      },
      "outputs": [],
      "source": [
        "U,s,Vt = la.svd(mapache_gris) #Singular Value Decomposition"
      ]
    },
    {
      "cell_type": "code",
      "execution_count": null,
      "metadata": {
        "id": "mBb0il6KcD5g"
      },
      "outputs": [],
      "source": [
        "print(s.shape,'\\n',s.ndim) #Análisis de s"
      ]
    },
    {
      "cell_type": "code",
      "execution_count": null,
      "metadata": {
        "id": "teaTE0QqdO4n"
      },
      "outputs": [],
      "source": [
        "s"
      ]
    },
    {
      "cell_type": "markdown",
      "metadata": {
        "id": "N8doH-_zux21"
      },
      "source": [
        "s no es la matriz $\\Sigma$ que buscamos, ya que debería ser una matriz diagonal. Por lo que debemos construirla con los valores de s."
      ]
    },
    {
      "cell_type": "code",
      "execution_count": null,
      "metadata": {
        "id": "0PKTzYuYu-9u"
      },
      "outputs": [],
      "source": [
        "Sigma = np.diag(s) #Construimos una matriz con s como diagonal\n",
        "#Computacionalmente es más económico almacenar solo un vector que una matriz diagonal"
      ]
    },
    {
      "cell_type": "markdown",
      "metadata": {
        "id": "Iey6RsvLv7lU"
      },
      "source": [
        "Ahora que tenemos la aproximación, reconstruiremos la imagen."
      ]
    },
    {
      "cell_type": "code",
      "execution_count": null,
      "metadata": {
        "id": "T_NwsNuYpyd-"
      },
      "outputs": [],
      "source": [
        "from matplotlib import pyplot as plt\n",
        "\n",
        "plt.plot(s)\n",
        "plt.show()"
      ]
    },
    {
      "cell_type": "markdown",
      "metadata": {
        "id": "bkSlEjYbvrfN"
      },
      "source": [
        "Noten que aunque tenemos 768 valores singulares, la mayoría de ellos tienen un valor pequeño. Por eso, tendría sentido utilizar sólo algunos de ellos para reconstruir una versión más \"económica\"de la imagen."
      ]
    },
    {
      "cell_type": "code",
      "execution_count": null,
      "metadata": {
        "id": "Az6uRFOSwI2R"
      },
      "outputs": [],
      "source": [
        "k = 100 #k representa la cantidad de valores singulares en s que vale la pena utilizar en la aproximación"
      ]
    },
    {
      "cell_type": "code",
      "execution_count": null,
      "metadata": {
        "id": "qUNF90qPeXXB"
      },
      "outputs": [],
      "source": [
        "mapache_grisR = np.matmul(np.matmul(U,Sigma[:,:k]),Vt[:k,:]) #Multiplicación de matrices en NumPy\n",
        "plt.imshow(mapache_grisR,cmap='gray')"
      ]
    },
    {
      "cell_type": "code",
      "execution_count": null,
      "metadata": {
        "id": "Prl_VlXRw9Z2"
      },
      "outputs": [],
      "source": [
        "plt.imshow(mapache_grisR,cmap='gray')"
      ]
    },
    {
      "cell_type": "markdown",
      "metadata": {
        "id": "S9MehjFL0Dbo"
      },
      "source": [
        "## <font color='purple'>**Ejercicio**</font>\n",
        "\n",
        "Suponga que usted quiere construir una versión no tan \"económica\" de la imagen y por lo tanto quiere utilizar más valores singulares de s. Si la precisión de los valores de s es 1000, no se necesitan valores más pequeños que eso, ¿de qué manera podría determinarse el valor de k?"
      ]
    },
    {
      "cell_type": "code",
      "execution_count": null,
      "metadata": {
        "id": "UQJskMZYdVak"
      },
      "outputs": [],
      "source": [
        "a = np.where(s>1000)\n",
        "print(a)"
      ]
    },
    {
      "cell_type": "code",
      "execution_count": null,
      "metadata": {
        "id": "nJG1Ac9mshPl"
      },
      "outputs": [],
      "source": [
        "np.where?"
      ]
    },
    {
      "cell_type": "markdown",
      "metadata": {
        "id": "h_ZDM1JgSei_"
      },
      "source": [
        "# Módulo scipy.integrate: Integración y EDO\n",
        "\n",
        "Por motivos históricos, a la integración numérica se le conoce también como cuadratura numérica (*quadrature*).\n",
        "\n",
        "A pesar de que hay muchos ejemplos de integrales que se pueden calcular analíticamente, en muchos casos es necesario recurrir a los métodos numéricos para aproximar una solución.\n",
        "\n",
        "\n",
        "La integración numérica en SciPy se categoriza en dos tipos:\n",
        "\n",
        "* Rutinas que evalúan el integrando como una función de Python (*Gaussian quadrature*)\n",
        "  * quad, quadrature, fixed_quad\n",
        "* Rutinas que toman un arreglo con muestras del integrando en puntos dados (*Newton-Cotes*)\n",
        "  * trapz, simps, romb\n",
        "\n",
        "\n",
        "### Funciones lambda o anónimas en Python\n",
        "\n",
        "* Una función anónima es lo que este término dice, una función **sin nombre**.\n",
        "* A diferencia de las funciones tradicionales, **no se usa def para definirlas** y **se escriben en una sola expresión**.\n",
        "* Generalmente se usan para escribir operaciones simples."
      ]
    },
    {
      "cell_type": "code",
      "execution_count": null,
      "metadata": {
        "id": "YcIdRh_pSwBG"
      },
      "outputs": [],
      "source": [
        "def al_cuadrado(x): #Función tradicional\n",
        "    return x**2\n",
        "\n",
        "al_cuadrado(2)"
      ]
    },
    {
      "cell_type": "code",
      "execution_count": null,
      "metadata": {
        "id": "zgV_cWo_Sz4Y"
      },
      "outputs": [],
      "source": [
        "def al_cuadrado(x): return x**2 #Escrito en una sola línea\n",
        "\n",
        "al_cuadrado(2)"
      ]
    },
    {
      "cell_type": "code",
      "execution_count": null,
      "metadata": {
        "id": "QZs26wAeS1op"
      },
      "outputs": [],
      "source": [
        "lambda x: x**2 #Notación anterior simplificada, es una función lambda"
      ]
    },
    {
      "cell_type": "code",
      "execution_count": null,
      "metadata": {
        "id": "nH1Ad6XkS4Vd"
      },
      "outputs": [],
      "source": [
        "quad_lambda = lambda x: x**2 #Hay que guardarlo en una variable\n",
        "quad_lambda(2) #Se llama de la misma forma que las funciones tradicionales"
      ]
    },
    {
      "cell_type": "code",
      "execution_count": null,
      "metadata": {
        "id": "EQ460YNzy0UW"
      },
      "outputs": [],
      "source": [
        "cos2 = lambda x: np.cos(x)**2"
      ]
    },
    {
      "cell_type": "markdown",
      "metadata": {
        "id": "wDrXD5O2S9il"
      },
      "source": [
        "Las funciones lambda son muy útiles cuando se quiere integrar un $f(x)$.\n",
        "\n",
        "## Integración\n",
        "\n",
        "Suponga que quiere saber el valor de la integral\n",
        "$ y = \\int_{0}^{1} f(x)dx $ siendo $ f(x) = \\frac{4}{(1+x^2)} $\n",
        ".\n",
        "-  La función anónima es $f(x)$.\n",
        "- Del módulo **integrate** se usa **quad()** para calcular la integral simple."
      ]
    },
    {
      "cell_type": "code",
      "execution_count": null,
      "metadata": {
        "id": "3-2-vORuS5rp"
      },
      "outputs": [],
      "source": [
        "from scipy import integrate\n",
        "\n",
        "integrate.quad?\n",
        "funcionPI = lambda x: 4/(1+x**2) #El primer argumento de quad debe ser un objeto \"llamable\" (función, método o instancia de clase)\n",
        "\n",
        "a = integrate.quad(funcionPI, 0,1) # Los argumentos 2 y 3 son los límites de integración (Pueden ser +-inf)"
      ]
    },
    {
      "cell_type": "code",
      "execution_count": null,
      "metadata": {
        "id": "F5jW0xIqzg01"
      },
      "outputs": [],
      "source": [
        "print(a[0])\n",
        "print(a[1])"
      ]
    },
    {
      "cell_type": "markdown",
      "metadata": {
        "id": "Czc4rPdYCKYc"
      },
      "source": [
        "El resultado anterior es una tupla cuya primera entrada es la solución y la segunda un número muy cercano a cero, ¿por qué? Porque quad() retorna tanto el resultado como el **error absoluto** en el valor de la integral."
      ]
    },
    {
      "cell_type": "code",
      "execution_count": null,
      "metadata": {
        "id": "tCu31yn28E94"
      },
      "outputs": [],
      "source": [
        "integrate.quadrature(funcionPI, 0, 1) #Cuadratura gaussiana"
      ]
    },
    {
      "cell_type": "markdown",
      "metadata": {
        "id": "9sLaa-RH83UY"
      },
      "source": [
        "¿Cómo integraríamos usando el método de los trapezoides?\n",
        "\n",
        "<center> <img src=\"https://pythonnumericalmethods.berkeley.edu/_images/21.03.1-Trapezoid_integral.png\" alt=\"image info\" width=\"350\"/> </center>\n",
        "\n",
        "Debemos calcular $f(x)$ para cada $x$."
      ]
    },
    {
      "cell_type": "code",
      "execution_count": null,
      "metadata": {
        "id": "wbMgU0gO_lgO"
      },
      "outputs": [],
      "source": [
        "x = np.linspace(0,1,500) #Creamos una serie de puntos entre 0 y 1\n",
        "y = funcionPI(x) #Determinamos y = f(x) para cada x creado\n",
        "\n",
        "integrate.trapz?\n",
        "pi = integrate.trapz(y,x) #Atención que el orden es y,x"
      ]
    },
    {
      "cell_type": "code",
      "execution_count": null,
      "metadata": {
        "id": "in_iHaXk0A1O"
      },
      "outputs": [],
      "source": [
        "pi"
      ]
    },
    {
      "cell_type": "markdown",
      "metadata": {
        "id": "Mm0Fd9OuTTLG"
      },
      "source": [
        "### Solución de integrales múltiples\n",
        "\n",
        "Así como se puede resolver una integral sencilla, **dblquad()**, **tplquad()** y **nquad()** permiten resolver integrales dobles, triples y múltiples con integrate."
      ]
    },
    {
      "cell_type": "code",
      "execution_count": null,
      "metadata": {
        "id": "rHExJobCTgJ3"
      },
      "outputs": [],
      "source": [
        "vol_cubo = lambda x,y,z: 1\n",
        "v = integrate.tplquad(vol_cubo,0,2,0,2,0,2) #Volumen de un cubo con arista igual a 2\n",
        "print(v)"
      ]
    },
    {
      "cell_type": "markdown",
      "metadata": {
        "id": "wJV07FZKTk9s"
      },
      "source": [
        "## Ecuaciones diferenciales\n",
        "\n",
        "* El módulo integrate de SciPy también incluye rutinas para la integración de ecuaciones diferenciales ordinarias (ODE).\n",
        "* **solve_ivp()** es una función para resolver problemas de valor inicial en sistemas de ecuaciones diferenciales ordinarias.\n",
        "* SciPy.integrate cuenta con otros *solvers* (Runge-Kutta, BDF, LSODA, entre otros).\n",
        "\n",
        "Suponga que tiene un circuito RC. La respuesta natural de un circuito se refiere al comportamiento del circuito, sin fuentes externas de excitación.\n",
        "\n",
        "<center> <img src=\"https://www.norwegiancreations.com/wp-content/uploads/2018/05/RC_nat_graph-1140x760.png\" alt=\"Curva de respuesta natural de un circuito RC ante un impulso unitario\" width=\"500\"/> </center>\n",
        "\n",
        "Aplicando la ley de corriente de Kirchhoff podemos describir el valor de la caída de potencial en el capacitor con la ecuación diferencial de primer orden:\n",
        "\n",
        "$$\\frac{dv(t)}{dt}=-\\frac{1}{RC}v(t)$$"
      ]
    },
    {
      "cell_type": "code",
      "execution_count": null,
      "metadata": {
        "id": "MFZsXjx9TuUu"
      },
      "outputs": [],
      "source": [
        "from scipy import integrate\n",
        "import matplotlib.pyplot as plt\n",
        "import numpy as np\n",
        "\n",
        "def modelo_RC(t,v,r,c): #r y c son parámetros del modelo\n",
        "    k = 1/(r*c)\n",
        "    dvdt = -k * v\n",
        "    return dvdt\n",
        "\n",
        "v0 = [15] #Valor inicial\n",
        "t = [0,2] #Span de tiempo\n",
        "teval = np.linspace(0,2,11) #Tiempo donde se evalúan las soluciones\n",
        "\n",
        "sol = integrate.solve_ivp(modelo_RC,t,v0,t_eval=teval,args=[4,0.1])\n",
        "sol"
      ]
    },
    {
      "cell_type": "code",
      "execution_count": null,
      "metadata": {
        "id": "Wr7QvqbAKSAX"
      },
      "outputs": [],
      "source": [
        "?integrate.solve_ivp"
      ]
    },
    {
      "cell_type": "code",
      "execution_count": null,
      "metadata": {
        "id": "6-0et7GmKHrn"
      },
      "outputs": [],
      "source": [
        "#Graficamos solamente para ver los resultados\n",
        "\n",
        "plt.xlabel('t[s]')\n",
        "plt.ylabel('Capacitor voltage [V]')\n",
        "plt.plot(sol.t,sol.y.flatten(), marker='.') #la solución del model es un objeto compuesto"
      ]
    },
    {
      "cell_type": "markdown",
      "metadata": {
        "id": "hPpfRzR-vDjN"
      },
      "source": [
        "### ¿Qué pasa si necesitamos más de una salida?\n",
        "\n",
        "El modelo debe editarse para que produzca dos salidas."
      ]
    },
    {
      "cell_type": "code",
      "execution_count": null,
      "metadata": {
        "id": "yvDWvqOTvlKr"
      },
      "outputs": [],
      "source": [
        "def model(t,output):\n",
        "    A, B = output\n",
        "    dAdt = A*B\n",
        "    dBdt = A*B - B\n",
        "    return dAdt, dBdt\n",
        "\n",
        "output0 = [0.5,3] #Condiciones iniciales para A y B\n",
        "t = [0,4]\n",
        "teval = np.linspace(0,4,100)\n",
        "\n",
        "sol = integrate.solve_ivp(model, t, output0, t_eval=teval)\n",
        "print(sol)"
      ]
    },
    {
      "cell_type": "code",
      "execution_count": null,
      "metadata": {
        "id": "fzTPnZGe1Ktt"
      },
      "outputs": [],
      "source": [
        "import numpy as np\n",
        "from scipy.integrate import solve_ivp\n",
        "import matplotlib.pyplot as plt\n",
        "\n",
        "def lorenz(t, state, sigma, rho, beta):\n",
        "    x, y, z = state\n",
        "    dxdt = sigma * (y - x)\n",
        "    dydt = x * (rho - z) - y\n",
        "    dzdt = x * y - beta * z\n",
        "    return [dxdt, dydt, dzdt]\n",
        "\n",
        "# Define the Lorenz parameters\n",
        "sigma = 10.0\n",
        "rho = 28.0\n",
        "beta = 8.0 / 3.0\n",
        "\n",
        "# Define the initial state [x, y, z]\n",
        "initial_state = [1.0, 1.0, 1.0]\n",
        "\n",
        "# Define the time span for integration\n",
        "t_start = 0.0\n",
        "t_end = 50.0\n",
        "t_eval = np.linspace(t_start, t_end, 10000)\n",
        "\n",
        "# Solve the Lorenz equations using solve_ivp\n",
        "solution = solve_ivp(lorenz, [t_start, t_end], initial_state, args=(sigma, rho, beta), t_eval=t_eval)\n",
        "\n",
        "# Extract the solution\n",
        "x, y, z = solution.y\n",
        "\n",
        "# Plot the Lorenz attractor\n",
        "fig = plt.figure()\n",
        "ax = fig.add_subplot(111, projection='3d')\n",
        "ax.plot(x, y, z, lw=0.5)\n",
        "ax.set_xlabel('X')\n",
        "ax.set_ylabel('Y')\n",
        "ax.set_zlabel('Z')\n",
        "ax.set_title('Lorenz Attractor')\n",
        "plt.show()"
      ]
    },
    {
      "cell_type": "markdown",
      "metadata": {
        "id": "LJ8-FD_m6XtH"
      },
      "source": [
        "# Módulo scipy.interpolate: Interpolación\n",
        "\n",
        "* Comprende diversos métodos de interpolación. *Ejemplos*: *spline*, multivariada, suavizado.\n",
        "* También tiene funciones para trabajar con interpolantes polinómicos de Lagrange y Taylor.\n",
        "* El submódulo **interp1d** es uno de los más convenientes."
      ]
    },
    {
      "cell_type": "code",
      "execution_count": null,
      "metadata": {
        "id": "kBk3Iofq7nMR"
      },
      "outputs": [],
      "source": [
        "import numpy as np\n",
        "datos = np.genfromtxt('./sc_notebooks/Scipy/meteorologia.csv', delimiter=',', names=True)\n",
        "datos"
      ]
    },
    {
      "cell_type": "code",
      "execution_count": null,
      "metadata": {
        "id": "r_qvdekc_j1R"
      },
      "outputs": [],
      "source": [
        "from scipy.interpolate import interp1d\n",
        "import matplotlib.pyplot as plt\n",
        "\n",
        "f = interp1d(datos['Mes'],datos['Temperaturac']) #Interpola una función 1-D, el método se cambia con kind\n",
        "x = np.linspace(1,12,12)\n",
        "plt.plot(datos['Mes'],datos['Temperaturac'],'o',x,f(x),'-')\n",
        "plt.show()\n",
        "\n",
        "print('Valor real en setiembre: 23 °C \\nValor interpolado: ',f(9),'°C')"
      ]
    },
    {
      "cell_type": "code",
      "execution_count": null,
      "metadata": {
        "id": "b0wnVP6N3wJL"
      },
      "outputs": [],
      "source": [
        "interp1d?"
      ]
    },
    {
      "cell_type": "code",
      "execution_count": null,
      "metadata": {
        "id": "JKNwW2js6b70"
      },
      "outputs": [],
      "source": [
        "A, nu, k = 10, 4, 2\n",
        "\n",
        "def f(x, A, nu, k):\n",
        "    return A * np.exp(-k*x) * np.cos(2*np.pi * nu * x)\n",
        "\n",
        "xmax, nx = 0.5, 8\n",
        "x = np.linspace(0, xmax, nx)\n",
        "y = f(x, A, nu, k)\n",
        "\n",
        "f_nearest = interp1d(x, y, kind='nearest')\n",
        "f_linear  = interp1d(x, y)\n",
        "f_cubic   = interp1d(x, y, kind='cubic')\n",
        "\n",
        "x2 = np.linspace(0, xmax, 100)\n",
        "plt.plot(x, y, 'o', label='data points')\n",
        "plt.plot(x2, f(x2, A, nu, k), label='exact')\n",
        "plt.plot(x2, f_nearest(x2), label='nearest')\n",
        "plt.plot(x2, f_linear(x2), label='linear')\n",
        "plt.plot(x2, f_cubic(x2), label='cubic')\n",
        "plt.legend()\n",
        "plt.show()"
      ]
    },
    {
      "cell_type": "markdown",
      "metadata": {
        "id": "AtBhJXY17T2b"
      },
      "source": [
        "Ejemplo tomado de [Learning Scientific Programming with Python](https://scipython.com/book/chapter-8-scipy/examples/scipyinterpolateinterp1d/)"
      ]
    },
    {
      "cell_type": "markdown",
      "metadata": {
        "id": "-OsYx3Pn25ER"
      },
      "source": [
        "### ¿Qué sucede si tenemos ruido en nuestros datos? ¿Podemos interpolar?\n",
        "\n",
        "La respuesta es sí. Las funciones *spline* son particularmente buenas para estos casos. Usando el *smoothing factor* podemos evitar que el polinomio interpolador pase por todos los puntos, ignorando un poco el ruido.\n",
        "\n",
        "#### ¿Cómo agregar ruido artificial a mis datos?\n",
        "\n",
        "Con NumPy, podemos usar el módulo random para añadir ruido.\n",
        "\n",
        "Supongamos que estamos midiendo una señal sinusoidal."
      ]
    },
    {
      "cell_type": "code",
      "execution_count": null,
      "metadata": {
        "id": "oHwV8kAK3-Sg"
      },
      "outputs": [],
      "source": [
        "import numpy as np\n",
        "\n",
        "x = np.arange(0,4*np.pi,0.1)\n",
        "y = np.cos(x)\n",
        "y"
      ]
    },
    {
      "cell_type": "code",
      "execution_count": null,
      "metadata": {
        "id": "unRGqESE4aM_"
      },
      "outputs": [],
      "source": [
        "y_ruido = y + np.random.normal(0, 0.05, y.shape) #Agregarmos ruido simplemente añadiendo datos obtenidos de una distribución normal\n",
        "y_ruido"
      ]
    },
    {
      "cell_type": "code",
      "execution_count": null,
      "metadata": {
        "id": "NcVPT7Cq5SN4"
      },
      "outputs": [],
      "source": [
        "y_ruido2 = y + np.log(1.05) #Agregamos ruido con una función\n",
        "y_ruido2"
      ]
    },
    {
      "cell_type": "code",
      "execution_count": null,
      "metadata": {
        "id": "Q2NLMN3r6YHf"
      },
      "outputs": [],
      "source": [
        "plt.plot(x,y_ruido)\n",
        "plt.show()"
      ]
    },
    {
      "cell_type": "markdown",
      "metadata": {
        "id": "7Bn0Q06zLnZV"
      },
      "source": [
        "Ahora vamos a interpolar valores para la señal con ruido, que fue la que medimos en nuestro experimento."
      ]
    },
    {
      "cell_type": "code",
      "execution_count": null,
      "metadata": {
        "id": "JHeEPIbxMTzU"
      },
      "outputs": [],
      "source": [
        "from scipy.interpolate import UnivariateSpline\n",
        "\n",
        "plt.plot(x,y_ruido,'.')\n",
        "plt.show()\n",
        "\n",
        "fr = UnivariateSpline(x,y,s=0.2) #El smoothing factor distinto de cero hace que no pase por todos los puntos, 'cancelando' el ruido\n",
        "frx = np.linspace(x.min(),x.max(),100)"
      ]
    },
    {
      "cell_type": "code",
      "execution_count": null,
      "metadata": {
        "id": "bhr4j3C-MxT7"
      },
      "outputs": [],
      "source": [
        "plt.plot(x,y_ruido,'.',frx,fr(frx))\n",
        "plt.show()"
      ]
    },
    {
      "cell_type": "markdown",
      "metadata": {
        "id": "Q9i8Fo85jWnt"
      },
      "source": [
        "# Módulo scipy.optimize: Optimización\n",
        "\n",
        "Provee funciones para maximizar o minimizar funciones objetivo y encontrar raíces.\n",
        "\n"
      ]
    },
    {
      "cell_type": "code",
      "execution_count": null,
      "metadata": {
        "id": "YJxUkDCagPeM"
      },
      "outputs": [],
      "source": [
        "import numpy as np\n",
        "from scipy import optimize\n",
        "import matplotlib.pyplot as plt\n",
        "from mpl_toolkits.mplot3d import Axes3D\n",
        "\n",
        "def f(ent):\n",
        "  x,y = ent\n",
        "  return x/np.exp(x**2 + y**2) #Función que queremos minimizar\n",
        "\n",
        "x = np.arange(-2,2,0.1)\n",
        "y = np.arange(-2,2,0.1)\n",
        "entt = np.meshgrid(x,y)\n",
        "z= f(entt)\n",
        "\n",
        "plt.imshow(z)\n",
        "plt.colorbar()\n",
        "plt.show()\n",
        "\n",
        "fig = plt.figure()\n",
        "ax = fig.add_subplot(111, projection='3d')\n",
        "ax.plot_surface(entt[0], entt[1], z)\n",
        "plt.show()"
      ]
    },
    {
      "cell_type": "code",
      "execution_count": null,
      "metadata": {
        "id": "ley8eUXR_DGG"
      },
      "outputs": [],
      "source": [
        "optimize.minimize?"
      ]
    },
    {
      "cell_type": "code",
      "execution_count": null,
      "metadata": {
        "id": "Q1OW5DtFkDIQ"
      },
      "outputs": [],
      "source": [
        "ent0 = [0,0]\n",
        "min = optimize.minimize(f,x0=ent0) #Para el algoritmo debemos dar una condición inicial x0 para todas las variables\n",
        "min"
      ]
    },
    {
      "cell_type": "code",
      "execution_count": null,
      "metadata": {
        "id": "ZNHrPJaDiQmS"
      },
      "outputs": [],
      "source": [
        "min = optimize.minimize(f,x0=ent0,method='Nelder-Mead') #Cambiamos de algoritmo\n",
        "min"
      ]
    },
    {
      "cell_type": "markdown",
      "metadata": {
        "id": "DJK9RWbm50HZ"
      },
      "source": [
        "# Módulo scipy.signal: Procesamiento de señales\n",
        "\n",
        "* Contiene filtros y algunas técnicas de diseño de filtros.\n",
        "* También cuenta con algunos métodos de interpolación.\n"
      ]
    },
    {
      "cell_type": "code",
      "execution_count": null,
      "metadata": {
        "id": "ysqjEWSGKEqo"
      },
      "outputs": [],
      "source": [
        "from scipy.io import wavfile\n",
        "import numpy as np\n",
        "import matplotlib.pyplot as plt\n",
        "\n",
        "samplerate, data = wavfile.read('./sc_notebooks/SciPy/pajarito.wav') #Devuelve la cantidad de muestras por segundo y los datos\n",
        "\n",
        "#Datos tienen forma (número de datos, número de canales)\n",
        "print('Muestras por segundo: %d \\nNúmero de datos: %d\\nNúmero de canales: %d' %(samplerate,data.shape[0],data.shape[1]))"
      ]
    },
    {
      "cell_type": "code",
      "execution_count": null,
      "metadata": {
        "id": "UB3GtYWYaoT1"
      },
      "outputs": [],
      "source": [
        "length = data.shape[0] / samplerate #Longitud del audio en segundos\n",
        "time = np.linspace(0., length, data.shape[0]) #Creamos tantos datos de tiempo como muestras\n",
        "plt.plot(time, data[:,0]) #Ploteamos solo un canal\n",
        "plt.show()"
      ]
    },
    {
      "cell_type": "markdown",
      "metadata": {
        "id": "9ECC4YhoZZSG"
      },
      "source": [
        "Podemos aplicar una transformada de Fourier para ver el dominio de la frecuencia. Esto lo logramos con el módulo scipy.fft."
      ]
    },
    {
      "cell_type": "code",
      "execution_count": null,
      "metadata": {
        "id": "x4AtOFAxZefK"
      },
      "outputs": [],
      "source": [
        "from scipy.fft import fft, fftfreq\n",
        "\n",
        "yf = fft(data[:,0])\n",
        "xf = fftfreq(data.shape[0], 1/samplerate) #Valores de frecuencia\n",
        "\n",
        "plt.plot(xf, np.abs(yf)) #Se utiliza el valor absoluto porque porque los valores de yf son complejos\n",
        "plt.minorticks_on()\n",
        "plt.show()\n"
      ]
    },
    {
      "cell_type": "code",
      "execution_count": null,
      "metadata": {
        "id": "PEdyKSoThrsJ"
      },
      "outputs": [],
      "source": [
        "from scipy.signal import butter,sosfilt\n",
        "\n",
        "#sos =  butter(2,1000,'hp',output='sos',fs=samplerate) #Filtro paso alto de orden 2, Butterworth\n",
        "sos =  butter(1,0.09,'hp',output='sos') #Filtro paso alto de orden 1, Butterworth\n",
        "filtered = sosfilt(sos, data[:,0])\n",
        "plt.plot(time, filtered)\n",
        "plt.show()\n",
        "\n",
        "wavfile.write(\"pajarito_filt.wav\", samplerate, filtered.astype(np.int16))"
      ]
    },
    {
      "cell_type": "code",
      "execution_count": null,
      "metadata": {
        "id": "5VO_xe_Dzuon"
      },
      "outputs": [],
      "source": [
        "from scipy.fft import fft, fftfreq\n",
        "\n",
        "yff = fft(filtered)\n",
        "\n",
        "plt.plot(xf, np.abs(yff))\n",
        "plt.minorticks_on()\n",
        "plt.show()"
      ]
    },
    {
      "cell_type": "markdown",
      "metadata": {
        "id": "DmDClvdFUWTl"
      },
      "source": [
        "# Módulo scipy.stats: Estadística\n",
        "\n",
        "Ofrece clases para representar variables aleatorias con gran variedad de distribuciones de probabilidad. Estas variables aleatorias pueden ser utilizadas para:\n",
        "\n",
        "* Realizar estadística descriptiva.\n",
        "* Generar muestras aleatorias que sigan la distribución asociada a la variable aleatoria."
      ]
    },
    {
      "cell_type": "code",
      "execution_count": null,
      "metadata": {
        "id": "zhM_9IZ7PORC"
      },
      "outputs": [],
      "source": [
        "from scipy import stats\n",
        "\n",
        "variableDistNormal = stats.norm(1,0.5) #Creamos una variable aleatoria normalmente distribuida (mean, std)\n",
        "print(variableDistNormal) #Esto retorna un objeto de Python, no un arreglo de muestras\n",
        "variableDistNormal.mean()\n"
      ]
    },
    {
      "cell_type": "markdown",
      "metadata": {
        "id": "ceYjt0nMPwVS"
      },
      "source": [
        "Es posible utilizar estadística descriptiva sobre esta variable aleatoria."
      ]
    },
    {
      "cell_type": "code",
      "execution_count": null,
      "metadata": {
        "id": "Snq5Lhm8Ujim"
      },
      "outputs": [],
      "source": [
        "print('Media: ',variableDistNormal.mean())\n",
        "print('Mediana: ',variableDistNormal.median())\n",
        "print('Varianza: ',variableDistNormal.var())"
      ]
    },
    {
      "cell_type": "markdown",
      "metadata": {
        "id": "iCODEiEHP01S"
      },
      "source": [
        "Además, con una variable aleatoria podemos evaluar su función de densidad de probabilidad."
      ]
    },
    {
      "cell_type": "code",
      "execution_count": null,
      "metadata": {
        "id": "Mb31x0C_U7vw"
      },
      "outputs": [],
      "source": [
        "variableDistNormal.pdf([0,1,2]) #Recibe como parámetro un arreglo de valores donde evaluar la función"
      ]
    },
    {
      "cell_type": "code",
      "execution_count": null,
      "metadata": {
        "id": "ryTwBEJ_P8q5"
      },
      "outputs": [],
      "source": [
        "variableDistNormal.cdf([0,1,2]) #Función de distribución acumulada"
      ]
    },
    {
      "cell_type": "markdown",
      "metadata": {
        "id": "h6cbSuWMQENo"
      },
      "source": [
        "## Muestras aleatorias de una distribución\n",
        "\n",
        "Podemos generar muestras aleatorias que sigan la distribución asociada a la variable aleatoria que creamos. La funcion **rvs()** de stats nos permite realizar esta tarea."
      ]
    },
    {
      "cell_type": "code",
      "execution_count": null,
      "metadata": {
        "id": "BedFplRVU9Px"
      },
      "outputs": [],
      "source": [
        "variableDistNormal.rvs()"
      ]
    },
    {
      "cell_type": "markdown",
      "metadata": {
        "id": "q0O5QsI6VBhD"
      },
      "source": [
        "### *stats* permite representar distribuciones continuas, multivariadas y discretas. Posee alrededor de 80 de ellas. Se pueden consultar [aquí](https://docs.scipy.org/doc/scipy/reference/stats.html)."
      ]
    },
    {
      "cell_type": "markdown",
      "metadata": {
        "id": "7BaMUqxdQoyw"
      },
      "source": [
        "## Estadística descriptiva de un conjunto de datos\n",
        "\n",
        "Tomemos los datos meteorológicos que utilizamos anteriormente. ¿Qué podemos decir de ellos?"
      ]
    },
    {
      "cell_type": "code",
      "execution_count": null,
      "metadata": {
        "id": "PBzjF_Y2VT8A"
      },
      "outputs": [],
      "source": [
        "datos"
      ]
    },
    {
      "cell_type": "code",
      "execution_count": null,
      "metadata": {
        "id": "COBA20JaSSjo"
      },
      "outputs": [],
      "source": [
        "stats.describe(datos['Dias_Llovidos']) #Descripción general de los datos"
      ]
    },
    {
      "cell_type": "code",
      "execution_count": null,
      "metadata": {
        "id": "gAAoGw87V8Fm"
      },
      "outputs": [],
      "source": [
        "stats.mode(datos['Humedad']) #La moda, el valor más repetido"
      ]
    },
    {
      "cell_type": "markdown",
      "metadata": {
        "id": "bwX9wXZ5YG87"
      },
      "source": [
        "También podemos obtener la frecuencia acumulada de los datos."
      ]
    },
    {
      "cell_type": "code",
      "execution_count": null,
      "metadata": {
        "id": "QB7wAQoOWc9N"
      },
      "outputs": [],
      "source": [
        "cdf = stats.cumfreq(datos['Precipitacionmm'], numbins=4) #numbins es la cantidad de categorías\n",
        "cdf"
      ]
    },
    {
      "cell_type": "markdown",
      "metadata": {
        "id": "bK-IeDRRVoSJ"
      },
      "source": [
        "# Módulo scipy.sparse: Matrices dispersas\n",
        "    \n",
        "## ¿Qué es una matriz dispersa?\n",
        "\n",
        "* Es una matriz en la cual **la mayoría de sus entradas son cero**.\n",
        "* Se utilizan en la solución de ecuaciones diferenciales en áreas como la ingeniería, así como en el análisis numérico y la teoría de grafos o redes.\n",
        "* La representación de estas matrices se puede dar en distintos formatos. *Ejemplo:* COO, CSR, CSC.\n",
        "\n",
        "$$M = \\begin{bmatrix} 1 & 0 & 0 & 0 & 0 \\\\ 2 & 0 & 0 & 0 & 0 \\\\ 0 & 0 & 0 & 4 & 0 \\\\ 0 & 0 & 0 & 3 & 0 \\\\  0 & 0 & 0 & 0 & 5\\end{bmatrix}$$"
      ]
    },
    {
      "cell_type": "code",
      "execution_count": null,
      "metadata": {
        "id": "YhNVdr-pVv87"
      },
      "outputs": [],
      "source": [
        "from scipy import sparse\n",
        "\n",
        "ind_f = np.array([0,1,3,2,4]) #Indices de las filas\n",
        "ind_c = np.array([0,0,3,3,4]) #Indices de las columnas\n",
        "datos = np.array([1,2,3,4,5]) #Datos\n",
        "mat = sparse.coo_matrix((datos,(ind_f,ind_c))) #Crea una matriz dispersa en formato COO (COOrdinate)\n",
        "\n",
        "print(mat)"
      ]
    },
    {
      "cell_type": "code",
      "execution_count": null,
      "metadata": {
        "id": "67zmbEZi-61f"
      },
      "outputs": [],
      "source": [
        "mat.toarray() #Imprime la matriz creada como un array, mas sencillo de visualizar"
      ]
    },
    {
      "cell_type": "code",
      "execution_count": null,
      "metadata": {
        "id": "-tvY20XQVzdN"
      },
      "outputs": [],
      "source": [
        "#Noten que el resultado es una estructura de datos que representa la matriz\n",
        "#Estos objetos tienen atributos que podemos extraer\n",
        "\n",
        "print(mat.shape)\n",
        "print(mat.size)\n",
        "print(mat.nnz) #Número de valores que no son cero\n",
        "print(mat.data)"
      ]
    },
    {
      "cell_type": "markdown",
      "metadata": {
        "id": "boLf8dqnV3tr"
      },
      "source": [
        "**find()** devuelve los valores y los índices de los elementos que no son cero en la matriz."
      ]
    },
    {
      "cell_type": "code",
      "execution_count": null,
      "metadata": {
        "id": "XDn6NGsWV7Ac"
      },
      "outputs": [],
      "source": [
        "sparse.find(mat)"
      ]
    },
    {
      "cell_type": "markdown",
      "metadata": {
        "id": "YtgwF6SyV_FF"
      },
      "source": [
        "También se pueden generar matrices dispersas aleatorias, hacer operaciones como el producto de Kronecker, comprobar si una matriz es de cierto tipo o incluso salvar y cargar una matriz en un archivo formato **.npz**. Más información de este formato [aquí](https://imageio.readthedocs.io/en/stable/format_npz.html).\n",
        "\n",
        "\\\\\n",
        "![image.png](data:image/png;base64,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)"
      ]
    },
    {
      "cell_type": "code",
      "execution_count": null,
      "metadata": {
        "id": "12bjuvhQ_b7l"
      },
      "outputs": [],
      "source": [
        "A = sparse.rand(3,3,density=0.25, format='coo') #Se crean dos matrices aleatorias de 3x3 con cierta densidad y formato COO\n",
        "B = sparse.rand(3,3,density=0.4, format='coo')\n",
        "print(A.toarray(),'\\n')\n",
        "print(B.toarray(),'\\n')"
      ]
    },
    {
      "cell_type": "code",
      "execution_count": null,
      "metadata": {
        "id": "_nMb0djT_oUc"
      },
      "outputs": [],
      "source": [
        "C = sparse.kron(A,B,format='coo') #Calcula el producto de Kronecker entre A y B, lo guarda en formato COO\n",
        "print(C)\n",
        "print(C.toarray(),'\\n')"
      ]
    },
    {
      "cell_type": "code",
      "execution_count": null,
      "metadata": {
        "id": "RLRIIUdnV8mV"
      },
      "outputs": [],
      "source": [
        "sparse.save_npz('C.npz', C) #Guarda el producto anterior en el archivo C.npz\n",
        "C_archivo = sparse.load_npz('C.npz') #Carga la matriz de C.npz nuevamente\n",
        "\n",
        "print(C_archivo)\n",
        "\n",
        "print(sparse.issparse(C_archivo)) #No comprueba si la matriz es dispersa, comprueba si es un objeto sparse"
      ]
    },
    {
      "cell_type": "markdown",
      "metadata": {
        "id": "FaG3GvNCWHoW"
      },
      "source": [
        "*sparse* tiene además dos submódulos:\n",
        "\n",
        "* *csgraph*, algoritmos de grafos basados en representaciones de matrices dispersas.\n",
        "* *linalg*, álgebra lineal para matrices dispersas.\n",
        "\n",
        "### Para explorar más de _sparse_, se puede consultar [aquí](https://docs.scipy.org/doc/scipy/reference/sparse.html)\n",
        "\n",
        "## Grafos\n",
        "\n",
        "Un grafo es un conjunto de **vértices** (también llamados **nodos**) que se conectan entre sí a través de **aristas**. A las aristas se les puede asignar un valor llamado **peso**.\n",
        "\n",
        "<center> <img src=\"https://1.bp.blogspot.com/-3elxtb5XHS0/YPujqjqBWOI/AAAAAAAA8_c/92zjDP1MgJUX6FOf4ICxwLW_NUoAHJGaACLcBGAsYHQ/s940/GRAPH.jpg\" alt=\"image info\" width=\"300\"/> </center>\n",
        "\n",
        "Un grafo es una buena representación para sistemas que se basan en redes. Por ejemplo:\n",
        "\n",
        "* Movilidad entre ciudades.\n",
        "* Células y sus interacciones.\n",
        "* Contactos sociales.\n",
        "* Átomos, moléculas y sus interacciones.\n",
        "* Procesamiento del lenguaje.\n",
        "\n",
        "Una de las representaciones de los grafos es a través de matrices. Estas pueden ser tanto densas como dispersas.\n",
        "\n",
        "Los nodos se ubican en columnas y filas de la matriz, y cada entrada corresponde al peso de la relación entre ambos nodos.\n",
        "\n",
        "Determinemos si esta matriz es densa o dispersa.\n",
        "\n",
        "\n"
      ]
    },
    {
      "cell_type": "code",
      "execution_count": null,
      "metadata": {
        "id": "J53EP3kTBvJp"
      },
      "outputs": [],
      "source": [
        "filas =    [0,1,1,1,2,2,3,3,3,3,4,4,5,5]\n",
        "columnas = [1,0,2,3,1,3,1,2,4,5,3,5,3,4]\n",
        "valores =  [1,1,1,1,1,1,1,1,1,1,1,1,1,1]\n",
        "\n",
        "m_grafo = sparse.coo_matrix((valores,(filas,columnas)), shape=(6,6))\n",
        "\n",
        "no_cero= m_grafo.nnz #Elementos que no son cero\n",
        "\n",
        "densidad = no_cero / np.prod(m_grafo.shape) #Elementos que no son cero/total de elementos\n",
        "print(densidad) # Podemos decir que la matriz es ligeramente dispersa, ya que su densidad es menor al 50%"
      ]
    },
    {
      "cell_type": "markdown",
      "metadata": {
        "id": "T1zCAuybI4BX"
      },
      "source": [
        "Teniendo la representación matricial de un grafo, podemos usar sparse para aplicar algoritmos comunes aplicados a los grafos. Entre ellos están:\n",
        "\n",
        "* Determinar el camino más corto entre nodos (Dijkstra, Bellman-Ford, etc.)\n",
        "* Búsqueda de anchura o BFS.\n",
        "* Árbol recubridor mínimo o MST (Kruskal).\n",
        "\n",
        "Todos estos algoritmos son importantes en el diseño de redes (cableado telefónico, eléctrico, TV, hidráulica, entre otros).\n",
        "\n",
        "Utilicemos un algoritmo de sparse para calcular el camino más corto entre el vértice 3 y el vértice 1 de nuestro grafo."
      ]
    },
    {
      "cell_type": "code",
      "execution_count": null,
      "metadata": {
        "id": "qYxLCaoRZrij"
      },
      "outputs": [],
      "source": [
        "dist_min=sparse.csgraph.shortest_path?"
      ]
    },
    {
      "cell_type": "code",
      "execution_count": null,
      "metadata": {
        "id": "ThG7YRxlLRsj"
      },
      "outputs": [],
      "source": [
        "#Devuelve la distancia más pequeña entre el nodo 1 y el 3\n",
        "dist_min=sparse.csgraph.shortest_path(m_grafo, directed=False, indices=0)\n",
        "print(dist_min)\n",
        "dist_min[3]"
      ]
    }
  ],
  "metadata": {
    "colab": {
      "provenance": []
    },
    "kernelspec": {
      "display_name": "Python 3",
      "name": "python3"
    },
    "language_info": {
      "codemirror_mode": {
        "name": "ipython",
        "version": 3
      },
      "file_extension": ".py",
      "mimetype": "text/x-python",
      "name": "python",
      "nbconvert_exporter": "python",
      "pygments_lexer": "ipython3",
      "version": "3.11.8"
    }
  },
  "nbformat": 4,
  "nbformat_minor": 0
}