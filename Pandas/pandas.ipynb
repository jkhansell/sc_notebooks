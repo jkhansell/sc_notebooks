{
  "cells": [
    {
      "cell_type": "markdown",
      "metadata": {
        "id": "dPng8tG7ZjC3"
      },
      "source": [
        "<div align=\"center\">\n",
        "    <h1>Taller de Computación Científica en Python - 2025</h1>\n",
        "    <img src=\"https://www.iycr2014.org/__data/assets/image/0014/133052/logo_cenat.png\" alt=\"Logo CENAT\" style=\"width: 200px;\"/>\n",
        "    \n",
        "</div>\n",
        "\n",
        "---\n",
        "\n",
        "## Manipulación de datos con Pandas\n",
        "\n",
        "<center> <img src=\"https://upload.wikimedia.org/wikipedia/commons/thumb/e/ed/Pandas_logo.svg/1200px-Pandas_logo.svg.png\" alt=\"image info\" width=\"400\"/> </center>\n",
        "\n",
        "* Biblioteca diseñada para análisis y manipulación de datos.\n",
        "* El nombre viene de **PANel DAta**, que es un término común para conjuntos de datos multidimensionales usualmente utilizados en estadística.\n",
        "* Construida sobre NumPy.\n",
        "* Implementa muchas operaciones de datos que pueden resultar familiares a usuarios de bases de datos o hojas de cálculo.\n",
        "\n",
        "Pandas se importa como cualquier módulo ya visto.\n",
        "\n",
        "---\n",
        "\n",
        "**Realizado por:**  \n",
        "Johansell Villalobos y Julián Sánchez"
      ]
    },
    {
      "cell_type": "code",
      "source": [
        "!git clone https://github.com/jkhansell/sc_notebooks"
      ],
      "metadata": {
        "id": "LrUGkQ4KWUlt",
        "outputId": "40e95ee8-9016-4124-e414-3d15119c531b",
        "colab": {
          "base_uri": "https://localhost:8080/"
        }
      },
      "execution_count": 3,
      "outputs": [
        {
          "output_type": "stream",
          "name": "stdout",
          "text": [
            "Cloning into 'sc_notebooks'...\n",
            "remote: Enumerating objects: 54, done.\u001b[K\n",
            "remote: Counting objects: 100% (54/54), done.\u001b[K\n",
            "remote: Compressing objects: 100% (47/47), done.\u001b[K\n",
            "remote: Total 54 (delta 8), reused 48 (delta 5), pack-reused 0 (from 0)\u001b[K\n",
            "Receiving objects: 100% (54/54), 10.56 MiB | 9.44 MiB/s, done.\n",
            "Resolving deltas: 100% (8/8), done.\n"
          ]
        }
      ]
    },
    {
      "cell_type": "code",
      "execution_count": null,
      "metadata": {
        "id": "Aaflwam3l4iL"
      },
      "outputs": [],
      "source": [
        "# celda para acceder a archivos en Google Drive\n",
        "from google.colab import drive\n",
        "drive.mount('/content/drive')"
      ]
    },
    {
      "cell_type": "code",
      "execution_count": null,
      "metadata": {
        "id": "wZu_xRTSZrb8"
      },
      "outputs": [],
      "source": [
        "import numpy as np\n",
        "import pandas as pd #pd es una convención\n",
        "pd.__version__"
      ]
    },
    {
      "cell_type": "code",
      "execution_count": null,
      "metadata": {
        "id": "wSp1xB3TaTg9"
      },
      "outputs": [],
      "source": [
        "?pd"
      ]
    },
    {
      "cell_type": "markdown",
      "metadata": {
        "id": "AAunRfjvaWlr"
      },
      "source": [
        "* Los datos en Pandas se manejan a través de dos importantes objetos o estructuras: **Series** y **DataFrame**.\n",
        "* Ambas estructuras pueden ser vistas como versiones *mejoradas* de estructuras NumPy.\n",
        "\n",
        "# Series\n",
        "\n",
        "* Una serie es un arreglo **unidimensional** de datos indexados.\n",
        "* Los valores que se guardan en esta estructura tienen un índice, tal y como en el caso de las listas y los arreglos.\n",
        "* La creación de una serie se basa en el comando:\n",
        "\n",
        "```\n",
        "pd.Series(estructura_de_datos,index=lista_de_indices)\n",
        "```\n",
        "## Series a partir de listas\n"
      ]
    },
    {
      "cell_type": "code",
      "execution_count": null,
      "metadata": {
        "id": "anIwckSs9bNu"
      },
      "outputs": [],
      "source": [
        "a = [10,20.45,3,'cuatro',True,6.0]\n",
        "b = [10, 1, 0, 1]"
      ]
    },
    {
      "cell_type": "code",
      "execution_count": null,
      "metadata": {
        "id": "NWYDnnbraUB1"
      },
      "outputs": [],
      "source": [
        "s1 = pd.Series(a) #El índice por defecto empezará en cero\n",
        "s1"
      ]
    },
    {
      "cell_type": "code",
      "execution_count": null,
      "metadata": {
        "id": "G7ntPaq64owV"
      },
      "outputs": [],
      "source": [
        "s2 = pd.Series(b)\n",
        "s2.values.dtype"
      ]
    },
    {
      "cell_type": "markdown",
      "metadata": {
        "id": "BfPJOR0-asRt"
      },
      "source": [
        "Como se puede observar, una serie de Pandas engloba tanto a una secuencia de valores como una secuencia de índices."
      ]
    },
    {
      "cell_type": "code",
      "execution_count": null,
      "metadata": {
        "id": "V4n0qPvoapnF"
      },
      "outputs": [],
      "source": [
        "s1.values #Tipo de dato, arreglos de NumPy"
      ]
    },
    {
      "cell_type": "code",
      "execution_count": null,
      "metadata": {
        "id": "yYOhB2HWGHt4"
      },
      "outputs": [],
      "source": [
        "s1.index"
      ]
    },
    {
      "cell_type": "markdown",
      "metadata": {
        "id": "hjbunHR2axyl"
      },
      "source": [
        "## Series a partir de diccionarios\n",
        "\n",
        "Si se usa un diccionario para construir la serie, las llaves se toman como índices y los valores los números de la serie."
      ]
    },
    {
      "cell_type": "code",
      "execution_count": null,
      "metadata": {
        "id": "hS0Prs4oa1Rr"
      },
      "outputs": [],
      "source": [
        "dicc = {'a':1,\n",
        "        'b':2,\n",
        "        'c':3}\n",
        "\n",
        "s2 = pd.Series(dicc)\n",
        "s2"
      ]
    },
    {
      "cell_type": "code",
      "execution_count": null,
      "metadata": {
        "id": "qcWafROb9_F2"
      },
      "outputs": [],
      "source": [
        "s2.index"
      ]
    },
    {
      "cell_type": "markdown",
      "metadata": {
        "id": "FPwaC8bGjLg4"
      },
      "source": [
        "Con **index**, se puede cambiar el orden en que se insertan los datos en la serie."
      ]
    },
    {
      "cell_type": "code",
      "execution_count": null,
      "metadata": {
        "id": "N6tEpEQzjJyI"
      },
      "outputs": [],
      "source": [
        "s3 = pd.Series(dicc,index=['c','a','b'])\n",
        "s3"
      ]
    },
    {
      "cell_type": "markdown",
      "metadata": {
        "id": "ADZc_KlZa6zh"
      },
      "source": [
        "* Para acceder a un dato específico de la serie, hay que acceder al índice del mismo como con arreglos y listas.\n",
        "* Al igual que con estas estructuras, a las series se les puede hacer *slicing*."
      ]
    },
    {
      "cell_type": "code",
      "execution_count": null,
      "metadata": {
        "id": "aV0k27BEa-o-"
      },
      "outputs": [],
      "source": [
        "print(s3['b'], s3[2], s3[-1])"
      ]
    },
    {
      "cell_type": "markdown",
      "metadata": {
        "id": "XfHaWOdUbBg9"
      },
      "source": [
        "**La diferencia entre un objeto Series de Pandas y un array de NumPy es la presencia de los índices.** En NumPy los índices están implícitamente definidos y son números enteros, en Pandas Series los índices se pueden definir además explícitamente.\n",
        "\n",
        "En Pandas Series también podemos indexar y manipular como si se tratara de la estructura original."
      ]
    },
    {
      "cell_type": "code",
      "execution_count": null,
      "metadata": {
        "id": "S-zNctRPkzD5"
      },
      "outputs": [],
      "source": [
        "codigos = pd.Series({'San José':1,'Alajuela':2,'Cartago':3,'Heredia':4}) #Creamos una serie a partir de un diccionario"
      ]
    },
    {
      "cell_type": "code",
      "execution_count": null,
      "metadata": {
        "id": "dmRokhsF508O"
      },
      "outputs": [],
      "source": [
        "codigos[1] == codigos[\"Alajuela\"]"
      ]
    },
    {
      "cell_type": "code",
      "execution_count": null,
      "metadata": {
        "id": "HMvHKSqcGvKJ"
      },
      "outputs": [],
      "source": [
        "'Guanacaste' not in codigos #Buscamos por índice"
      ]
    },
    {
      "cell_type": "code",
      "execution_count": null,
      "metadata": {
        "id": "jOHRdvdPG0_v"
      },
      "outputs": [],
      "source": [
        "codigos.keys() #Imprimimos las claves del diccionario original"
      ]
    },
    {
      "cell_type": "code",
      "execution_count": null,
      "metadata": {
        "id": "jblNljABG6ph"
      },
      "outputs": [],
      "source": [
        "list(codigos.items()) #Lista de elementos con los pares clave-valor del diccionario"
      ]
    },
    {
      "cell_type": "code",
      "execution_count": null,
      "metadata": {
        "id": "0e4J4z9RHATP"
      },
      "outputs": [],
      "source": [
        "codigos['Guanacaste'] = 5 #Añadimos un nuevo elemento como en los diccionarios\n",
        "codigos"
      ]
    },
    {
      "cell_type": "code",
      "execution_count": null,
      "metadata": {
        "id": "-amUnaCj6R1Q"
      },
      "outputs": [],
      "source": [
        "# tres maneras de crear una serie:\n",
        "cantones = [\"Canton 1\", \"Canton 2\",\"Canton 3\",\"Canton 4\",\"Canton 5\",\"Canton 6\"]\n",
        "datos = [1, 2, 3, 4, 5, 6]\n",
        "codigos_cantones = {}\n",
        "\n",
        "i = 0\n",
        "for canton in cantones:\n",
        "    codigos_cantones[canton] = datos[i]\n",
        "    i += 1\n",
        "serie = pd.Series(codigos_cantones)\n",
        "print(serie)\n",
        "\n",
        "for i, canton in enumerate(cantones):\n",
        "    codigos_cantones[canton] = datos[i]\n",
        "serie = pd.Series(codigos_cantones)\n",
        "print(serie)\n",
        "\n",
        "for dato, canton in zip(datos, cantones):\n",
        "    codigos_cantones[canton] = dato\n",
        "\n",
        "serie = pd.Series(codigos_cantones)\n",
        "print(serie)"
      ]
    },
    {
      "cell_type": "markdown",
      "metadata": {
        "id": "0UjoV-U7malp"
      },
      "source": [
        "## Filtrando datos por índice y a partir de condicionales\n",
        "\n",
        "Podemos usar una \"máscara\" para encontrar ciertos elementos en nuestros datos."
      ]
    },
    {
      "cell_type": "code",
      "execution_count": null,
      "metadata": {
        "id": "uTSTSxaabLBC"
      },
      "outputs": [],
      "source": [
        "mask = (codigos>2) & (codigos<=5) #Máscara, simplemente una condición\n",
        "codigos[mask] #Devuelve los elementos de la serie que cumplen la condición"
      ]
    },
    {
      "cell_type": "markdown",
      "metadata": {
        "id": "IPK4urB_nlkn"
      },
      "source": [
        "También podemos elegir los elementos por índice."
      ]
    },
    {
      "cell_type": "code",
      "execution_count": null,
      "metadata": {
        "id": "rTcyEUJxBg3y"
      },
      "outputs": [],
      "source": [
        "consulta = (codigos==1)\n",
        "\n",
        "codigos[consulta]"
      ]
    },
    {
      "cell_type": "code",
      "execution_count": null,
      "metadata": {
        "id": "C8yUx6_Ynk9B"
      },
      "outputs": [],
      "source": [
        "codigos[1]"
      ]
    },
    {
      "cell_type": "markdown",
      "metadata": {
        "id": "HsnYrB1HbPfD"
      },
      "source": [
        "# DataFrame\n",
        "\n",
        "* A grandes rasgos, el DataFrame es una tabla de datos.\n",
        "* A diferencia de los *ndarrays* de NumPy, se pueden tener distintos tipos de datos **en las columnas**.\n",
        "* Cada columna es un objeto de tipo Pandas Series.\n",
        "* Las filas se identifican con un **índice** y las columnas con una **etiqueta**.\n",
        "\n",
        "## Creando un DataFrame vacío"
      ]
    },
    {
      "cell_type": "code",
      "execution_count": null,
      "metadata": {
        "id": "vlZOqBvkbaxI"
      },
      "outputs": [],
      "source": [
        "empt_df = pd.DataFrame()\n",
        "empt_df"
      ]
    },
    {
      "cell_type": "markdown",
      "metadata": {
        "id": "n3TAb3_AbfLX"
      },
      "source": [
        "## DataFrame a partir de estructuras de datos\n",
        "\n",
        "Los DataFrame se pueden crear también a partir de listas, diccionarios o incluso arreglos."
      ]
    },
    {
      "cell_type": "code",
      "execution_count": null,
      "metadata": {
        "id": "_LHP5ODeoU9p"
      },
      "outputs": [],
      "source": [
        "cod_df = pd.DataFrame(np.array([['San José',1],['Alajuela',2],['Cartago',3]])) #A partir de una lista\n",
        "cod_df"
      ]
    },
    {
      "cell_type": "markdown",
      "metadata": {
        "id": "4-cMTkGrozro"
      },
      "source": [
        "Cuando no se indican los nombres de las columnas ni los índices, las etiquetas por defecto serán números consecutivos empezando por 0, al igual que los índices."
      ]
    },
    {
      "cell_type": "code",
      "execution_count": null,
      "metadata": {
        "id": "CBQvQ3e49gA7"
      },
      "outputs": [],
      "source": [
        "pd.DataFrame?"
      ]
    },
    {
      "cell_type": "code",
      "execution_count": null,
      "metadata": {
        "id": "Dtjn985Hbcy0"
      },
      "outputs": [],
      "source": [
        "cod_df_dicc = pd.DataFrame({'Nombre':['San José','Alajuela','Cartago'],'Codigo':[1,2,3]}) #A partir de un diccionario\n",
        "cod_df_dicc"
      ]
    },
    {
      "cell_type": "markdown",
      "metadata": {
        "id": "9rQrKaQjpZjY"
      },
      "source": [
        "Creando el DataFrame de la forma anterior, obtenemos los nombres de las columnas a partir de las claves del diccionario.\n",
        "\n",
        "## Asignando el nombre a las columnas y las filas\n",
        "\n",
        "* Al crear el DataFrame, las etiquetas se pueden asignar usando el parámetro **columns**.\n",
        "* Los índices también se pueden asignar con **index**."
      ]
    },
    {
      "cell_type": "code",
      "execution_count": null,
      "metadata": {
        "id": "NmUuBqqebpdT"
      },
      "outputs": [],
      "source": [
        "cod_df_names = pd.DataFrame([['Heredia',4],['Guanacaste',5],['Puntarenas',6]],columns=['Nombre','Código'],index=['P1','P2','P3'])\n",
        "cod_df_names"
      ]
    },
    {
      "cell_type": "markdown",
      "metadata": {
        "id": "WnHPN1NbbtmG"
      },
      "source": [
        "**columns** e **index** son atributos que pueden ser cambiados incluso después de haber creado el DataFrame."
      ]
    },
    {
      "cell_type": "code",
      "execution_count": null,
      "metadata": {
        "id": "MI3gGcSJqfLQ"
      },
      "outputs": [],
      "source": [
        "cod_df #No tenía nombres asignados en filas ni columnas"
      ]
    },
    {
      "cell_type": "code",
      "execution_count": null,
      "metadata": {
        "id": "kyheUZRsbrCa"
      },
      "outputs": [],
      "source": [
        "cod_df.columns = ['Name','Code']\n",
        "cod_df"
      ]
    },
    {
      "cell_type": "markdown",
      "metadata": {
        "id": "iiLcTO3-rINI"
      },
      "source": [
        "Además, podemos realizar operaciones con estos atributos, que devuelven estructuras iterables."
      ]
    },
    {
      "cell_type": "code",
      "execution_count": null,
      "metadata": {
        "id": "sYnbl8h8ThYX"
      },
      "outputs": [],
      "source": [
        "cod_df.index"
      ]
    },
    {
      "cell_type": "code",
      "execution_count": null,
      "metadata": {
        "id": "HSVoW5nPrQVd"
      },
      "outputs": [],
      "source": [
        "cod_df.index = ['P' + str(i) for i in cod_df.index]\n",
        "cod_df"
      ]
    },
    {
      "cell_type": "markdown",
      "metadata": {
        "id": "x8Tt8QCxb17-"
      },
      "source": [
        "## DataFrames a partir de Series"
      ]
    },
    {
      "cell_type": "code",
      "execution_count": null,
      "metadata": {
        "id": "q1RXz7oKb6F6"
      },
      "outputs": [],
      "source": [
        "s1 = pd.Series(['Carmen','Merced','Hospital'],index=[0,1,2])\n",
        "s2 = pd.Series([10101,10102,10104],index=[0,1,3],dtype=object)\n",
        "print(s1, '\\n\\n', s2)"
      ]
    },
    {
      "cell_type": "code",
      "execution_count": null,
      "metadata": {
        "id": "ETooHPVbICYg"
      },
      "outputs": [],
      "source": [
        "cod_distritos = pd.DataFrame({'Distrito':s1,'Código':s2})\n",
        "cod_distritos['Distrito'][3] = \"Centro\"\n",
        "cod_distritos['Código'][2] = 10103\n"
      ]
    },
    {
      "cell_type": "code",
      "execution_count": null,
      "metadata": {
        "id": "3TcWuvAL-hra"
      },
      "outputs": [],
      "source": [
        "cod_distritos"
      ]
    },
    {
      "cell_type": "markdown",
      "metadata": {
        "id": "a9kPoQp1teGq"
      },
      "source": [
        "Notemos que el índice donde se inserta el dato se respeta. Los datos faltantes se rellenan como valores **NaN** o *Not a Number*."
      ]
    },
    {
      "cell_type": "markdown",
      "metadata": {
        "id": "FXdnwTbKt-Ww"
      },
      "source": [
        "# Trabajando los datos con Pandas\n",
        "\n",
        "## ¿Cómo cargar datos desde un archivo?\n",
        "\n",
        "* Con Pandas se pueden cargar datos desde diversos tipos de archivos, incluyendo hojas de Microsoft Excel. Pueden consultar más [aquí](https://pandas.pydata.org/pandas-docs/stable/user_guide/io.html).\n",
        "* Se debe indicar el *path* o dirección del archivo, así como el delimitador de los datos o el nombre de la hoja en algunos casos.\n",
        "* **read_csv()** es una función que permite cargar datos desde un archivo **.csv** y guardarlos en un objeto de Pandas.\n",
        "\n",
        "Usaremos esta función para cargar un archivo con los datos de un estudio de detección de enfermedades del corazón en pacientes. Las variables que contiene este set de datos son:\n",
        "\n",
        "* Edad.\n",
        "* Sexo (H o M).\n",
        "* Tipo de dolor de pecho (escala 0-3).\n",
        "* Presión sanguínea en reposo.\n",
        "* Colesterol sérico (en mg/dL).\n",
        "* Niveles de azúcar en ayunas mayores a > 120 mg/dL (1 = Sí, 0 = No).\n",
        "* Ritmo cardíaco máximo.\n",
        "* Presencia de una enfermedad del corazón (escala 0-4)."
      ]
    },
    {
      "cell_type": "code",
      "execution_count": null,
      "metadata": {
        "id": "xhAjF9WZ-7bp"
      },
      "outputs": [],
      "source": [
        "from google.colab import drive\n",
        "drive.mount('/content/drive')"
      ]
    },
    {
      "cell_type": "code",
      "execution_count": 4,
      "metadata": {
        "colab": {
          "base_uri": "https://localhost:8080/",
          "height": 206
        },
        "id": "X8Xw0YhSulqL",
        "outputId": "41e124a3-6912-40d8-9068-878461ff2014"
      },
      "outputs": [
        {
          "output_type": "execute_result",
          "data": {
            "text/plain": [
              "   63  H  3  145  233  1  150  0\n",
              "0  37  H  2  130  250  0  187  2\n",
              "1  41  M  1  130  204  0  172  1\n",
              "2  56  H  1  120  236  0  178  0\n",
              "3  57  M  0  120  354  0  163  0\n",
              "4  57  H  0  140  192  0  148  0"
            ],
            "text/html": [
              "\n",
              "  <div id=\"df-b275e3b1-a466-40c6-842c-a32241fb55b0\" class=\"colab-df-container\">\n",
              "    <div>\n",
              "<style scoped>\n",
              "    .dataframe tbody tr th:only-of-type {\n",
              "        vertical-align: middle;\n",
              "    }\n",
              "\n",
              "    .dataframe tbody tr th {\n",
              "        vertical-align: top;\n",
              "    }\n",
              "\n",
              "    .dataframe thead th {\n",
              "        text-align: right;\n",
              "    }\n",
              "</style>\n",
              "<table border=\"1\" class=\"dataframe\">\n",
              "  <thead>\n",
              "    <tr style=\"text-align: right;\">\n",
              "      <th></th>\n",
              "      <th>63</th>\n",
              "      <th>H</th>\n",
              "      <th>3</th>\n",
              "      <th>145</th>\n",
              "      <th>233</th>\n",
              "      <th>1</th>\n",
              "      <th>150</th>\n",
              "      <th>0</th>\n",
              "    </tr>\n",
              "  </thead>\n",
              "  <tbody>\n",
              "    <tr>\n",
              "      <th>0</th>\n",
              "      <td>37</td>\n",
              "      <td>H</td>\n",
              "      <td>2</td>\n",
              "      <td>130</td>\n",
              "      <td>250</td>\n",
              "      <td>0</td>\n",
              "      <td>187</td>\n",
              "      <td>2</td>\n",
              "    </tr>\n",
              "    <tr>\n",
              "      <th>1</th>\n",
              "      <td>41</td>\n",
              "      <td>M</td>\n",
              "      <td>1</td>\n",
              "      <td>130</td>\n",
              "      <td>204</td>\n",
              "      <td>0</td>\n",
              "      <td>172</td>\n",
              "      <td>1</td>\n",
              "    </tr>\n",
              "    <tr>\n",
              "      <th>2</th>\n",
              "      <td>56</td>\n",
              "      <td>H</td>\n",
              "      <td>1</td>\n",
              "      <td>120</td>\n",
              "      <td>236</td>\n",
              "      <td>0</td>\n",
              "      <td>178</td>\n",
              "      <td>0</td>\n",
              "    </tr>\n",
              "    <tr>\n",
              "      <th>3</th>\n",
              "      <td>57</td>\n",
              "      <td>M</td>\n",
              "      <td>0</td>\n",
              "      <td>120</td>\n",
              "      <td>354</td>\n",
              "      <td>0</td>\n",
              "      <td>163</td>\n",
              "      <td>0</td>\n",
              "    </tr>\n",
              "    <tr>\n",
              "      <th>4</th>\n",
              "      <td>57</td>\n",
              "      <td>H</td>\n",
              "      <td>0</td>\n",
              "      <td>140</td>\n",
              "      <td>192</td>\n",
              "      <td>0</td>\n",
              "      <td>148</td>\n",
              "      <td>0</td>\n",
              "    </tr>\n",
              "  </tbody>\n",
              "</table>\n",
              "</div>\n",
              "    <div class=\"colab-df-buttons\">\n",
              "\n",
              "  <div class=\"colab-df-container\">\n",
              "    <button class=\"colab-df-convert\" onclick=\"convertToInteractive('df-b275e3b1-a466-40c6-842c-a32241fb55b0')\"\n",
              "            title=\"Convert this dataframe to an interactive table.\"\n",
              "            style=\"display:none;\">\n",
              "\n",
              "  <svg xmlns=\"http://www.w3.org/2000/svg\" height=\"24px\" viewBox=\"0 -960 960 960\">\n",
              "    <path d=\"M120-120v-720h720v720H120Zm60-500h600v-160H180v160Zm220 220h160v-160H400v160Zm0 220h160v-160H400v160ZM180-400h160v-160H180v160Zm440 0h160v-160H620v160ZM180-180h160v-160H180v160Zm440 0h160v-160H620v160Z\"/>\n",
              "  </svg>\n",
              "    </button>\n",
              "\n",
              "  <style>\n",
              "    .colab-df-container {\n",
              "      display:flex;\n",
              "      gap: 12px;\n",
              "    }\n",
              "\n",
              "    .colab-df-convert {\n",
              "      background-color: #E8F0FE;\n",
              "      border: none;\n",
              "      border-radius: 50%;\n",
              "      cursor: pointer;\n",
              "      display: none;\n",
              "      fill: #1967D2;\n",
              "      height: 32px;\n",
              "      padding: 0 0 0 0;\n",
              "      width: 32px;\n",
              "    }\n",
              "\n",
              "    .colab-df-convert:hover {\n",
              "      background-color: #E2EBFA;\n",
              "      box-shadow: 0px 1px 2px rgba(60, 64, 67, 0.3), 0px 1px 3px 1px rgba(60, 64, 67, 0.15);\n",
              "      fill: #174EA6;\n",
              "    }\n",
              "\n",
              "    .colab-df-buttons div {\n",
              "      margin-bottom: 4px;\n",
              "    }\n",
              "\n",
              "    [theme=dark] .colab-df-convert {\n",
              "      background-color: #3B4455;\n",
              "      fill: #D2E3FC;\n",
              "    }\n",
              "\n",
              "    [theme=dark] .colab-df-convert:hover {\n",
              "      background-color: #434B5C;\n",
              "      box-shadow: 0px 1px 3px 1px rgba(0, 0, 0, 0.15);\n",
              "      filter: drop-shadow(0px 1px 2px rgba(0, 0, 0, 0.3));\n",
              "      fill: #FFFFFF;\n",
              "    }\n",
              "  </style>\n",
              "\n",
              "    <script>\n",
              "      const buttonEl =\n",
              "        document.querySelector('#df-b275e3b1-a466-40c6-842c-a32241fb55b0 button.colab-df-convert');\n",
              "      buttonEl.style.display =\n",
              "        google.colab.kernel.accessAllowed ? 'block' : 'none';\n",
              "\n",
              "      async function convertToInteractive(key) {\n",
              "        const element = document.querySelector('#df-b275e3b1-a466-40c6-842c-a32241fb55b0');\n",
              "        const dataTable =\n",
              "          await google.colab.kernel.invokeFunction('convertToInteractive',\n",
              "                                                    [key], {});\n",
              "        if (!dataTable) return;\n",
              "\n",
              "        const docLinkHtml = 'Like what you see? Visit the ' +\n",
              "          '<a target=\"_blank\" href=https://colab.research.google.com/notebooks/data_table.ipynb>data table notebook</a>'\n",
              "          + ' to learn more about interactive tables.';\n",
              "        element.innerHTML = '';\n",
              "        dataTable['output_type'] = 'display_data';\n",
              "        await google.colab.output.renderOutput(dataTable, element);\n",
              "        const docLink = document.createElement('div');\n",
              "        docLink.innerHTML = docLinkHtml;\n",
              "        element.appendChild(docLink);\n",
              "      }\n",
              "    </script>\n",
              "  </div>\n",
              "\n",
              "\n",
              "<div id=\"df-429906ce-cdad-4a63-a62e-1f1eb27ecaf6\">\n",
              "  <button class=\"colab-df-quickchart\" onclick=\"quickchart('df-429906ce-cdad-4a63-a62e-1f1eb27ecaf6')\"\n",
              "            title=\"Suggest charts\"\n",
              "            style=\"display:none;\">\n",
              "\n",
              "<svg xmlns=\"http://www.w3.org/2000/svg\" height=\"24px\"viewBox=\"0 0 24 24\"\n",
              "     width=\"24px\">\n",
              "    <g>\n",
              "        <path d=\"M19 3H5c-1.1 0-2 .9-2 2v14c0 1.1.9 2 2 2h14c1.1 0 2-.9 2-2V5c0-1.1-.9-2-2-2zM9 17H7v-7h2v7zm4 0h-2V7h2v10zm4 0h-2v-4h2v4z\"/>\n",
              "    </g>\n",
              "</svg>\n",
              "  </button>\n",
              "\n",
              "<style>\n",
              "  .colab-df-quickchart {\n",
              "      --bg-color: #E8F0FE;\n",
              "      --fill-color: #1967D2;\n",
              "      --hover-bg-color: #E2EBFA;\n",
              "      --hover-fill-color: #174EA6;\n",
              "      --disabled-fill-color: #AAA;\n",
              "      --disabled-bg-color: #DDD;\n",
              "  }\n",
              "\n",
              "  [theme=dark] .colab-df-quickchart {\n",
              "      --bg-color: #3B4455;\n",
              "      --fill-color: #D2E3FC;\n",
              "      --hover-bg-color: #434B5C;\n",
              "      --hover-fill-color: #FFFFFF;\n",
              "      --disabled-bg-color: #3B4455;\n",
              "      --disabled-fill-color: #666;\n",
              "  }\n",
              "\n",
              "  .colab-df-quickchart {\n",
              "    background-color: var(--bg-color);\n",
              "    border: none;\n",
              "    border-radius: 50%;\n",
              "    cursor: pointer;\n",
              "    display: none;\n",
              "    fill: var(--fill-color);\n",
              "    height: 32px;\n",
              "    padding: 0;\n",
              "    width: 32px;\n",
              "  }\n",
              "\n",
              "  .colab-df-quickchart:hover {\n",
              "    background-color: var(--hover-bg-color);\n",
              "    box-shadow: 0 1px 2px rgba(60, 64, 67, 0.3), 0 1px 3px 1px rgba(60, 64, 67, 0.15);\n",
              "    fill: var(--button-hover-fill-color);\n",
              "  }\n",
              "\n",
              "  .colab-df-quickchart-complete:disabled,\n",
              "  .colab-df-quickchart-complete:disabled:hover {\n",
              "    background-color: var(--disabled-bg-color);\n",
              "    fill: var(--disabled-fill-color);\n",
              "    box-shadow: none;\n",
              "  }\n",
              "\n",
              "  .colab-df-spinner {\n",
              "    border: 2px solid var(--fill-color);\n",
              "    border-color: transparent;\n",
              "    border-bottom-color: var(--fill-color);\n",
              "    animation:\n",
              "      spin 1s steps(1) infinite;\n",
              "  }\n",
              "\n",
              "  @keyframes spin {\n",
              "    0% {\n",
              "      border-color: transparent;\n",
              "      border-bottom-color: var(--fill-color);\n",
              "      border-left-color: var(--fill-color);\n",
              "    }\n",
              "    20% {\n",
              "      border-color: transparent;\n",
              "      border-left-color: var(--fill-color);\n",
              "      border-top-color: var(--fill-color);\n",
              "    }\n",
              "    30% {\n",
              "      border-color: transparent;\n",
              "      border-left-color: var(--fill-color);\n",
              "      border-top-color: var(--fill-color);\n",
              "      border-right-color: var(--fill-color);\n",
              "    }\n",
              "    40% {\n",
              "      border-color: transparent;\n",
              "      border-right-color: var(--fill-color);\n",
              "      border-top-color: var(--fill-color);\n",
              "    }\n",
              "    60% {\n",
              "      border-color: transparent;\n",
              "      border-right-color: var(--fill-color);\n",
              "    }\n",
              "    80% {\n",
              "      border-color: transparent;\n",
              "      border-right-color: var(--fill-color);\n",
              "      border-bottom-color: var(--fill-color);\n",
              "    }\n",
              "    90% {\n",
              "      border-color: transparent;\n",
              "      border-bottom-color: var(--fill-color);\n",
              "    }\n",
              "  }\n",
              "</style>\n",
              "\n",
              "  <script>\n",
              "    async function quickchart(key) {\n",
              "      const quickchartButtonEl =\n",
              "        document.querySelector('#' + key + ' button');\n",
              "      quickchartButtonEl.disabled = true;  // To prevent multiple clicks.\n",
              "      quickchartButtonEl.classList.add('colab-df-spinner');\n",
              "      try {\n",
              "        const charts = await google.colab.kernel.invokeFunction(\n",
              "            'suggestCharts', [key], {});\n",
              "      } catch (error) {\n",
              "        console.error('Error during call to suggestCharts:', error);\n",
              "      }\n",
              "      quickchartButtonEl.classList.remove('colab-df-spinner');\n",
              "      quickchartButtonEl.classList.add('colab-df-quickchart-complete');\n",
              "    }\n",
              "    (() => {\n",
              "      let quickchartButtonEl =\n",
              "        document.querySelector('#df-429906ce-cdad-4a63-a62e-1f1eb27ecaf6 button');\n",
              "      quickchartButtonEl.style.display =\n",
              "        google.colab.kernel.accessAllowed ? 'block' : 'none';\n",
              "    })();\n",
              "  </script>\n",
              "</div>\n",
              "\n",
              "    </div>\n",
              "  </div>\n"
            ],
            "application/vnd.google.colaboratory.intrinsic+json": {
              "type": "dataframe",
              "variable_name": "datosPacientes",
              "summary": "{\n  \"name\": \"datosPacientes\",\n  \"rows\": 302,\n  \"fields\": [\n    {\n      \"column\": \"63\",\n      \"properties\": {\n        \"dtype\": \"number\",\n        \"std\": 9,\n        \"min\": 29,\n        \"max\": 77,\n        \"num_unique_values\": 41,\n        \"samples\": [\n          45,\n          43,\n          49\n        ],\n        \"semantic_type\": \"\",\n        \"description\": \"\"\n      }\n    },\n    {\n      \"column\": \"H\",\n      \"properties\": {\n        \"dtype\": \"category\",\n        \"num_unique_values\": 2,\n        \"samples\": [\n          \"M\",\n          \"H\"\n        ],\n        \"semantic_type\": \"\",\n        \"description\": \"\"\n      }\n    },\n    {\n      \"column\": \"3\",\n      \"properties\": {\n        \"dtype\": \"number\",\n        \"std\": 1,\n        \"min\": 0,\n        \"max\": 3,\n        \"num_unique_values\": 4,\n        \"samples\": [\n          1,\n          3\n        ],\n        \"semantic_type\": \"\",\n        \"description\": \"\"\n      }\n    },\n    {\n      \"column\": \"145\",\n      \"properties\": {\n        \"dtype\": \"number\",\n        \"std\": 17,\n        \"min\": 94,\n        \"max\": 200,\n        \"num_unique_values\": 49,\n        \"samples\": [\n          138,\n          123\n        ],\n        \"semantic_type\": \"\",\n        \"description\": \"\"\n      }\n    },\n    {\n      \"column\": \"233\",\n      \"properties\": {\n        \"dtype\": \"number\",\n        \"std\": 51,\n        \"min\": 126,\n        \"max\": 564,\n        \"num_unique_values\": 152,\n        \"samples\": [\n          277,\n          169\n        ],\n        \"semantic_type\": \"\",\n        \"description\": \"\"\n      }\n    },\n    {\n      \"column\": \"1\",\n      \"properties\": {\n        \"dtype\": \"number\",\n        \"std\": 0,\n        \"min\": 0,\n        \"max\": 1,\n        \"num_unique_values\": 2,\n        \"samples\": [\n          1,\n          0\n        ],\n        \"semantic_type\": \"\",\n        \"description\": \"\"\n      }\n    },\n    {\n      \"column\": \"150\",\n      \"properties\": {\n        \"dtype\": \"number\",\n        \"std\": 22,\n        \"min\": 71,\n        \"max\": 202,\n        \"num_unique_values\": 91,\n        \"samples\": [\n          130,\n          168\n        ],\n        \"semantic_type\": \"\",\n        \"description\": \"\"\n      }\n    },\n    {\n      \"column\": \"0\",\n      \"properties\": {\n        \"dtype\": \"number\",\n        \"std\": 1,\n        \"min\": 0,\n        \"max\": 4,\n        \"num_unique_values\": 5,\n        \"samples\": [\n          1,\n          4\n        ],\n        \"semantic_type\": \"\",\n        \"description\": \"\"\n      }\n    }\n  ]\n}"
            }
          },
          "metadata": {},
          "execution_count": 4
        }
      ],
      "source": [
        "import pandas as pd\n",
        "\n",
        "# from google.colab import files\n",
        "# uploaded = files.upload()\n",
        "\n",
        "datosPacientes = pd.read_csv('./sc_notebooks/Pandas/pacientesCorazon.csv')\n",
        "datosPacientes.head()"
      ]
    },
    {
      "cell_type": "markdown",
      "metadata": {
        "id": "4pgfYs301w1_"
      },
      "source": [
        "* La primera fila es tomada como las etiquetas.\n",
        "* En bases de datos donde no tenemos los nombres de las columnas en los archivos, el parámetro **names** nos permite asignar los nombres.  "
      ]
    },
    {
      "cell_type": "code",
      "execution_count": null,
      "metadata": {
        "id": "yCKexEyz2uzq"
      },
      "outputs": [],
      "source": [
        "nombres_columnas = ['edad', 'sexo', 'tipoDolor', 'presionReposo', 'colesterolSerico','azucarAyunas', 'latidosMax','presencia']"
      ]
    },
    {
      "cell_type": "code",
      "execution_count": null,
      "metadata": {
        "id": "9mimz7bLI2bg"
      },
      "outputs": [],
      "source": [
        "datosPacientesSN = pd.read_csv('pacientesCorazonSN.csv', names=nombres_columnas)\n",
        "datosPacientesSN"
      ]
    },
    {
      "cell_type": "markdown",
      "metadata": {
        "id": "8CcCAQi73VMR"
      },
      "source": [
        "A veces los delimitadores son distintos, esto también debemos indicarlo."
      ]
    },
    {
      "cell_type": "code",
      "execution_count": null,
      "metadata": {
        "id": "JKNxt8vW4KNZ"
      },
      "outputs": [],
      "source": [
        "datosPacientesPC = pd.read_csv('pacientesCorazonPC.csv') #Los datos no se leerán correctamente\n",
        "datosPacientesPC"
      ]
    },
    {
      "cell_type": "code",
      "execution_count": null,
      "metadata": {
        "id": "6Nq3V9s04bCB"
      },
      "outputs": [],
      "source": [
        "datosPacientesPC = pd.read_csv('pacientesCorazonPC.csv',delimiter=';') #Los datos sí se leerán correctamente\n",
        "datosPacientesPC"
      ]
    },
    {
      "cell_type": "markdown",
      "metadata": {
        "id": "x62t5z195J_w"
      },
      "source": [
        "* Si no se desea usar la fila de encabezados, **header** es un parámetro que indica cuántas filas ocupan estos, por lo que se usa para omitir las etiquetas.\n",
        "* Cuando header = None, las etiquetas serán números establecidos por defecto."
      ]
    },
    {
      "cell_type": "code",
      "execution_count": null,
      "metadata": {
        "id": "r9o_o0WE5cwA"
      },
      "outputs": [],
      "source": [
        "datosPacientesSN = pd.read_csv('pacientesCorazon.csv',header= None)\n",
        "datosPacientesSN"
      ]
    },
    {
      "cell_type": "markdown",
      "metadata": {
        "id": "A-i1migE41HY"
      },
      "source": [
        "Como lo hacíamos con NumPy, también es posible omitir tantas filas como se quiera con el parámetro **skiprows**."
      ]
    },
    {
      "cell_type": "code",
      "execution_count": null,
      "metadata": {
        "id": "zKH8jbGSInsv"
      },
      "outputs": [],
      "source": [
        "pd.read_csv?"
      ]
    },
    {
      "cell_type": "code",
      "execution_count": null,
      "metadata": {
        "id": "OJEvm8fh6TCx"
      },
      "outputs": [],
      "source": [
        "datosPacientesSN = pd.read_csv('pacientesCorazon.csv',header=None,skiprows=1)\n",
        "datosPacientesSN"
      ]
    },
    {
      "cell_type": "markdown",
      "metadata": {
        "id": "h0Eu8dcHb8Q7"
      },
      "source": [
        "## Funciones que \"exploran\" los datos\n",
        "\n",
        "Pandas está ideado para el mandejo de bases de datos muy grandes, por lo que tiene algunas utilidades para su observación."
      ]
    },
    {
      "cell_type": "code",
      "execution_count": null,
      "metadata": {
        "id": "fz1z5eV6b6td"
      },
      "outputs": [],
      "source": [
        "datosPacientes.head() #Imprime las 5 primeras filas del DataFrame"
      ]
    },
    {
      "cell_type": "code",
      "execution_count": null,
      "metadata": {
        "id": "8NVNizi_JMJX"
      },
      "outputs": [],
      "source": [
        "datosPacientes.tail() #Imprime las 5 ultimas filas del DataFrame"
      ]
    },
    {
      "cell_type": "markdown",
      "metadata": {
        "id": "xtJ1gDSMcCZP"
      },
      "source": [
        "Por facilidad de lectura, las etiquetas se imprimen siempre.\n",
        "\n",
        "También podemos \"muestrear\" a partir del DataFrame."
      ]
    },
    {
      "cell_type": "code",
      "execution_count": null,
      "metadata": {
        "id": "LVyZLX-icAF4"
      },
      "outputs": [],
      "source": [
        "datosPacientes.sample(5) #Muestreo aleatorio, devuelve la cantidad de elementos solicitada"
      ]
    },
    {
      "cell_type": "markdown",
      "metadata": {
        "id": "0w0dofbWcMv0"
      },
      "source": [
        "## Modificación de los datos\n",
        "\n",
        "### Renombramiento de columnas y Adición de filas y columnas"
      ]
    },
    {
      "cell_type": "code",
      "execution_count": null,
      "metadata": {
        "id": "6RVkIbYsVqMT"
      },
      "outputs": [],
      "source": [
        "datosPacientes.columns = ['edad', 'sexo', 'tipoDolor', 'presionReposo', 'colesterolSerico','azucarAyunas', 'latidosMax','presencia']"
      ]
    },
    {
      "cell_type": "code",
      "execution_count": null,
      "metadata": {
        "id": "YtbHGej1cJc3"
      },
      "outputs": [],
      "source": [
        "datosPacientes['No.Seguro'] = pd.Series(np.random.random(303)*(1e9)) #Agrega una columna\n",
        "datosPacientes"
      ]
    },
    {
      "cell_type": "markdown",
      "metadata": {
        "id": "eM-nxADocUDH"
      },
      "source": [
        "La función **concat()** permite agregar filas, incluso otro DataFrame."
      ]
    },
    {
      "cell_type": "code",
      "execution_count": null,
      "metadata": {
        "id": "0LdhRY1lVqMT"
      },
      "outputs": [],
      "source": [
        "nuevoPaciente = pd.DataFrame(\n",
        "    {'edad': [64],\n",
        "     'sexo': ['M'],\n",
        "     'tipoDolor': [2],\n",
        "     'presionReposo': [120],\n",
        "     'colesterolSerico': [325],\n",
        "     'azucarAyunas': [0],\n",
        "     'latidosMax': [175],\n",
        "     'presencia': [1],\n",
        "     'No.Seguro': [839082631]},\n",
        "                              )"
      ]
    },
    {
      "cell_type": "code",
      "execution_count": null,
      "metadata": {
        "id": "VavT3jayAlxA"
      },
      "outputs": [],
      "source": [
        "datosPacientes.concat([datosPacientes,nuevoPaciente],ignore_index=True) #Agrega el paciente al set de datos\n",
        "\n",
        "datosPacientes.tail(1)"
      ]
    },
    {
      "cell_type": "markdown",
      "metadata": {
        "id": "eD9RhRvzDna5"
      },
      "source": [
        "#### ¿Por qué no se añadió el nuevo paciente?\n",
        "\n",
        "concat() es una función y no un atributo, por lo que es una función que concatena dos df, no un atributo que concatena un df a otro"
      ]
    },
    {
      "cell_type": "code",
      "execution_count": null,
      "metadata": {
        "id": "DPmjVnOpDyeA"
      },
      "outputs": [],
      "source": [
        "datosPacientes = pd.concat([datosPacientes, nuevoPaciente],ignore_index=True, axis=0)\n",
        "datosPacientes.tail()"
      ]
    },
    {
      "cell_type": "markdown",
      "metadata": {
        "id": "fcvudG9YEDqy"
      },
      "source": [
        "Ahora agregaremos el registro de diez pacientes más como un DataFrame."
      ]
    },
    {
      "cell_type": "code",
      "execution_count": null,
      "metadata": {
        "id": "ELsoJ7nBcRkU"
      },
      "outputs": [],
      "source": [
        "nuevosPacientes = pd.read_csv('nuevosPacientes.csv') #Base de datos con nuevos pacientes\n",
        "\n",
        "datosPacientes = pd.concat([datosPacientes,nuevosPacientes],ignore_index=True)\n",
        "\n",
        "f = pd.concat([datosPacientes, nuevosPacientes])\n",
        "\n",
        "datosPacientes.tail(11)"
      ]
    },
    {
      "cell_type": "code",
      "execution_count": null,
      "metadata": {
        "id": "S1jk_xGNEr4q"
      },
      "outputs": [],
      "source": [
        "pd.concat?"
      ]
    },
    {
      "cell_type": "markdown",
      "metadata": {
        "id": "vTYB_qX9cjHl"
      },
      "source": [
        "#### ¿Para qué es el parámetro **ignore_index**?"
      ]
    },
    {
      "cell_type": "code",
      "execution_count": null,
      "metadata": {
        "id": "UpsDIBnycl7Q"
      },
      "outputs": [],
      "source": [
        "datosPacientes = pd.concat([datosPacientes,nuevosPacientes]) #Se conservan los índices del DataFrame agregado\n",
        "print(datosPacientes.tail(20))\n",
        "\n",
        "datosPacientes = pd.concat([datosPacientes,nuevosPacientes], ignore_index=True)#No se conservan los índices del DataFrame agregado\n",
        "\n",
        "print(datosPacientes.tail(20))"
      ]
    },
    {
      "cell_type": "markdown",
      "metadata": {
        "id": "CpZ6nRSgcsMK"
      },
      "source": [
        "### Eliminación de filas y columnas\n",
        "\n",
        "El comando **del** sirve para borrar columnas."
      ]
    },
    {
      "cell_type": "code",
      "execution_count": null,
      "metadata": {
        "id": "jqBqnt5Jcpxu"
      },
      "outputs": [],
      "source": [
        "del datosPacientes['No.Seguro']\n",
        "datosPacientes"
      ]
    },
    {
      "cell_type": "markdown",
      "metadata": {
        "id": "MOf8RYUxc0B2"
      },
      "source": [
        "La función **drop()** permite borrar filas y columnas."
      ]
    },
    {
      "cell_type": "code",
      "execution_count": null,
      "metadata": {
        "id": "q10h-7zsIhBC"
      },
      "outputs": [],
      "source": [
        "datosPacientes = datosPacientes.drop([4]) #Borrará todo lo que está en el índice 0\n",
        "datosPacientes.head(5)"
      ]
    },
    {
      "cell_type": "code",
      "execution_count": null,
      "metadata": {
        "id": "zR52aTSdKEd_"
      },
      "outputs": [],
      "source": [
        "datosPacientes.tail(10)"
      ]
    },
    {
      "cell_type": "code",
      "execution_count": null,
      "metadata": {
        "id": "XjXJv3yocxDl"
      },
      "outputs": [],
      "source": [
        "datosPacientes = datosPacientes.drop(['edad','sexo'], axis=1) #Borra las columnas indicadas, axis=1 implica columnas\n",
        "datosPacientes"
      ]
    },
    {
      "cell_type": "markdown",
      "metadata": {
        "id": "XiO-GvbnrRsS"
      },
      "source": [
        "## <font color='purple'>**Ejercicio**</font>\n",
        "\n",
        "Con los datos que trabajó del modelo SIR, realice lo siguiente:\n",
        "\n",
        "* Cargue los datos en un DataFrame de Pandas.\n",
        "* Utilice algún método de los vistos para añadir los nombres a las columnas. Deberá nombrarlas \"Susceptibles\", \"Infectados\" y \"Recuperados\".\n",
        "* Cree una columna adicional que corresponda al valor del tiempo. Use los valores de los datos de tiempo que obtuvo en la solución del ejercicio del modelo SIR con SciPy.\n",
        "* Renombre los índices de su set de datos con \"t=\" y consecuentemente el número original del índice. Es decir, si el índice es 0, el nuevo índice será \"t=0\".\n",
        "* Utilice una función de Pandas para observar los últimos datos que generó en la solución, ¿podría decirse que para el día 20 la enfermedad está controlada?"
      ]
    },
    {
      "cell_type": "code",
      "execution_count": null,
      "metadata": {
        "id": "2ndhw9neGONr"
      },
      "outputs": [],
      "source": [
        "import pandas as pd\n",
        "\n",
        "SIRnames = [\"Susceptibles\", \"Infectados\", \"Recuperados\"]\n",
        "modelosir = pd.read_csv(\"modeloSIR.csv\", names=SIRnames)\n",
        "\n",
        "modelosir[\"tiempo\"] = pd.Series(np.linspace(0, 240, num=100))\n",
        "\n",
        "modelosir.index = [\"t = \" + str(i) for i in modelosir.index]\n",
        "#print(modelosir.index)\n",
        "\n",
        "modelosir.tail(20)"
      ]
    },
    {
      "cell_type": "code",
      "execution_count": null,
      "metadata": {
        "id": "kpC9WCodnKRJ"
      },
      "outputs": [],
      "source": [
        "import pandas as pd\n",
        "datosPacientes = pd.read_csv('pacientesCorazon.csv')\n",
        "datosPacientes\n",
        "\n",
        "datosPacientes.columns = ['edad', 'sexo', 'tipoDolor', 'presionReposo', 'colesterolSerico','azucarAyunas', 'latidosMax','presencia']\n",
        "\n",
        "nuevosPacientes = pd.read_csv('nuevosPacientes.csv') #Base de datos con nuevos pacientes\n",
        "datosPacientes = pd.concat([datosPacientes,nuevosPacientes],ignore_index=True)"
      ]
    },
    {
      "cell_type": "code",
      "execution_count": null,
      "metadata": {
        "id": "kunzJgdGVqMV"
      },
      "outputs": [],
      "source": [
        "datosPacientes.tail(20)"
      ]
    },
    {
      "cell_type": "markdown",
      "metadata": {
        "id": "s2pIT0OHc6PD"
      },
      "source": [
        "## Localización de datos y selección de datos\n",
        "\n",
        "* Las filas de un DataFrame pueden seleccionarse con un índice, al igual que con otras estructuras de datos.\n",
        "* Las columnas se seleccionan con el nombre de la etiqueta y se indican como una lista."
      ]
    },
    {
      "cell_type": "code",
      "execution_count": null,
      "metadata": {
        "id": "SUU1FNX3KVcx"
      },
      "outputs": [],
      "source": [
        "datosPacientes[0:2] #Slicing por posición iniciando en 0 (indexación implícita)"
      ]
    },
    {
      "cell_type": "code",
      "execution_count": null,
      "metadata": {
        "id": "2d1EMQIIc5eL"
      },
      "outputs": [],
      "source": [
        "datosPacientes[0:2][['latidosMax','presencia']]\n"
      ]
    },
    {
      "cell_type": "markdown",
      "metadata": {
        "id": "IyZkXC6qdDKp"
      },
      "source": [
        "Para evitar confusiones entre indexación implícita y explícita en el caso de los índices enteros, Pandas ofrece algunos atributos espaciales de indexación.\n",
        "\n",
        "### loc\n",
        "\n",
        "**loc** sirve para buscar en un DataFrame por etiqueta o por el índice de la columna index. Es decir, **loc** indexa y hace slicing referenciando a los **índices explícitos** de la estructura."
      ]
    },
    {
      "cell_type": "code",
      "execution_count": null,
      "metadata": {
        "id": "mUQrUodAlxBr"
      },
      "outputs": [],
      "source": [
        "cod_df_names = pd.DataFrame([['Heredia',4],['Guanacaste',5],['Puntarenas',6]],columns=['Nombre','Código'],index=['P1','P2','P3'])\n",
        "cod_df_names"
      ]
    },
    {
      "cell_type": "code",
      "execution_count": null,
      "metadata": {
        "id": "1B5Esb0nlzSC"
      },
      "outputs": [],
      "source": [
        "cod_df_names.loc['P2']"
      ]
    },
    {
      "cell_type": "code",
      "execution_count": null,
      "metadata": {
        "id": "bt1XW4nELDTw"
      },
      "outputs": [],
      "source": [
        "datosPacientes.loc[1,'presionReposo'] #Busca filas cuyo índice sea 1 y la columna sea presionReposo"
      ]
    },
    {
      "cell_type": "code",
      "execution_count": null,
      "metadata": {
        "id": "sQAHP9MxLXYY"
      },
      "outputs": [],
      "source": [
        "datosPacientes.loc[200:205,'presionReposo':] #Slicing con loc"
      ]
    },
    {
      "cell_type": "markdown",
      "metadata": {
        "id": "qLECLBsadSgQ"
      },
      "source": [
        "### iloc\n",
        "\n",
        "Permite localizar las filas y las columnas por posición. Es decir, **iloc** indexa y hace slicing referenciando a los índices ímplicitos de la estructura usando indexación estilo Python."
      ]
    },
    {
      "cell_type": "code",
      "execution_count": null,
      "metadata": {
        "id": "U9FKAeY8X07R"
      },
      "outputs": [],
      "source": [
        "datosPacientes.head(5)"
      ]
    },
    {
      "cell_type": "code",
      "execution_count": null,
      "metadata": {
        "id": "TzKRPfjoMwpB"
      },
      "outputs": [],
      "source": [
        "datosPacientes.iloc[0,0] #Devuelve el valor en la primera fila, primera columna"
      ]
    },
    {
      "cell_type": "code",
      "execution_count": null,
      "metadata": {
        "id": "qlHRap8DM6v_"
      },
      "outputs": [],
      "source": [
        "datosPacientes.iloc[0:3,0:4] #[filas, columnas]"
      ]
    },
    {
      "cell_type": "code",
      "execution_count": null,
      "metadata": {
        "id": "kklDnlh_mMis"
      },
      "outputs": [],
      "source": [
        "datosPacientes.head(5).iloc[-1] #Podemos usar la indexacion negativa como lo hacemos normalmente con Python"
      ]
    },
    {
      "cell_type": "markdown",
      "metadata": {
        "id": "lf9R-sUSNMwS"
      },
      "source": [
        "Si analizamos el objeto que nos devuelve iloc, nos damos cuenta de que puede ser una serie."
      ]
    },
    {
      "cell_type": "code",
      "execution_count": null,
      "metadata": {
        "id": "WCT5QqdHNVwy"
      },
      "outputs": [],
      "source": [
        "isinstance(datosPacientes.iloc[3], pd.Series) #Es una serie"
      ]
    },
    {
      "cell_type": "code",
      "execution_count": null,
      "metadata": {
        "id": "XgkfBoTzNmqA"
      },
      "outputs": [],
      "source": [
        "isinstance(datosPacientes.iloc[[3]], pd.Series) #Doble [] es un DataFrame"
      ]
    },
    {
      "cell_type": "markdown",
      "metadata": {
        "id": "MaYLrPvwdaBh"
      },
      "source": [
        "### Selección a través de condicionales"
      ]
    },
    {
      "cell_type": "code",
      "execution_count": null,
      "metadata": {
        "id": "WQz92t2zdfyX"
      },
      "outputs": [],
      "source": [
        "datosPacientes['presionReposo'] > 150 #Devuelve un listado de booleanos, evaluando en cada índice la condición"
      ]
    },
    {
      "cell_type": "markdown",
      "metadata": {
        "id": "SILkGKYVOFJh"
      },
      "source": [
        "Crearemos un DataFrame nuevo solamente con los pacientes con un nivel de azúcar en ayunas elevado (mayor que 120 mg/dL)."
      ]
    },
    {
      "cell_type": "code",
      "execution_count": null,
      "metadata": {
        "id": "1Gta0KqZdgik"
      },
      "outputs": [],
      "source": [
        "azucarAlta = datosPacientes[datosPacientes['azucarAyunas'] == 1] #Crea un nuevo DataFrame con las filas que cumplen esta condición\n",
        "azucarAlta"
      ]
    },
    {
      "cell_type": "markdown",
      "metadata": {
        "id": "PnaE6fkRdlMh"
      },
      "source": [
        "Evaluemos además los casos con colesterol sérico alto (mayor a 200 mg/dL)."
      ]
    },
    {
      "cell_type": "code",
      "execution_count": null,
      "metadata": {
        "id": "oIy4iV5UdjN8"
      },
      "outputs": [],
      "source": [
        "azCol = datosPacientes[(datosPacientes['azucarAyunas'] == 1) & (datosPacientes['colesterolSerico'] > 200)]\n",
        "azCol"
      ]
    },
    {
      "cell_type": "markdown",
      "metadata": {
        "id": "5-QfKukYcD3M"
      },
      "source": [
        "## <font color='purple'>**Ejercicio**</font>\n",
        "\n",
        "* Localice las entradas con índice (explícito) 2.\n",
        "* Del DataFrame que obtenga, borre la entrada del paciente con menor presión sanguínea en reposo."
      ]
    },
    {
      "cell_type": "code",
      "execution_count": null,
      "metadata": {
        "id": "74ofx_F7BWAr"
      },
      "outputs": [],
      "source": [
        "datosPacientes.loc[2]\n",
        "datosPacientes = datosPacientes.drop(2) # esto borra ambas, no encontré una manera de borrar solo una con lo visto"
      ]
    },
    {
      "cell_type": "markdown",
      "metadata": {
        "id": "Q2i38l-Nd88n"
      },
      "source": [
        "## Ordenando y uniendo sets de datos\n",
        "\n",
        "### Ordenamiento\n",
        "\n",
        "* **sort_values()** permite organizar los datos por columna.\n",
        "* El parámetro **by** sirve para indicar las columnas por las cuales se quiere ordenar los datos."
      ]
    },
    {
      "cell_type": "code",
      "execution_count": null,
      "metadata": {
        "id": "7UEsezTgd589"
      },
      "outputs": [],
      "source": [
        "datosPacientes.sort_values(by=['colesterolSerico']) #Ordena los datos de forma ascendente"
      ]
    },
    {
      "cell_type": "code",
      "execution_count": null,
      "metadata": {
        "id": "CVZQCpMQeEIr"
      },
      "outputs": [],
      "source": [
        "datosPacientes.sort_values(by=['colesterolSerico'],ascending=False) #Ordena los datos de forma descendente"
      ]
    },
    {
      "cell_type": "markdown",
      "metadata": {
        "id": "PN5s6eDleL-c"
      },
      "source": [
        "La segunda columna es el \"criterio\" para ordenar valores repetidos."
      ]
    },
    {
      "cell_type": "code",
      "execution_count": null,
      "metadata": {
        "id": "516ePC9veLGG"
      },
      "outputs": [],
      "source": [
        "datosPacientes.sort_values(by=['colesterolSerico','latidosMax'],ascending=False)"
      ]
    },
    {
      "cell_type": "markdown",
      "metadata": {
        "id": "BsclISvTeQtk"
      },
      "source": [
        "### Unión\n",
        "\n",
        "Pandas, a través de la operación merge(), nos brinda la capacidad de manejar datos de forma relacional. Los tipos de unión que permite hacer Pandas tienen los siguientes criterios:\n",
        "\n",
        "* Unión uno a uno\n",
        "* Unión muchos a uno\n",
        "* Unión muchos a muchos\n",
        "\n",
        "#### Unión uno a uno\n",
        "\n",
        "Es similar a realizar concatenación de columnas.\n"
      ]
    },
    {
      "cell_type": "code",
      "execution_count": null,
      "metadata": {
        "id": "XmrMePVmeQAl"
      },
      "outputs": [],
      "source": [
        "empleados = pd.DataFrame({'Empleado': ['Carlos', 'Daniel', 'Mónica', 'Karla', 'Ricardo'],\n",
        "'Unidad': ['CNCA', 'LANOTEC', 'CENIBiot', 'FunCeNAT', 'CNCA']})\n",
        "empleados\n"
      ]
    },
    {
      "cell_type": "code",
      "execution_count": null,
      "metadata": {
        "id": "k76A3w7qMTUH"
      },
      "outputs": [],
      "source": [
        "usuarios = pd.DataFrame({'Empleado': ['Daniel', 'Karla', 'Ricardo', 'Mónica','Carlos'],\n",
        "'Matrícula': ['cr2004', 'cr2007', 'cr2007', 'cr2010','cr2018']})\n",
        "usuarios"
      ]
    },
    {
      "cell_type": "code",
      "execution_count": null,
      "metadata": {
        "id": "TLgbTL5AegJP"
      },
      "outputs": [],
      "source": [
        "autosEmpleados = pd.merge(empleados, usuarios)\n",
        "autosEmpleados"
      ]
    },
    {
      "cell_type": "markdown",
      "metadata": {
        "id": "ZsnW6w_kejUL"
      },
      "source": [
        "* La función merge() reconoce que existe una columna igual en cada DataFrame y automáticamente la utiliza como llave para la unión.\n",
        "\n",
        "* Noten que el orden de los registros no se mantiene y por lo general descarta el índice.\n",
        "\n",
        "#### Unión muchos a uno\n",
        "\n",
        "* Es el caso en el que la columna de referencia de uno de los DataFrame contenga valores duplicados.\n",
        "* Para este tipo de unión, esos registros se van a mantener de manera apropiada."
      ]
    },
    {
      "cell_type": "code",
      "execution_count": null,
      "metadata": {
        "id": "z_8xNMa7elfV"
      },
      "outputs": [],
      "source": [
        "jefes =  pd.DataFrame({'Jefe': ['Esteban', 'Jose', 'Randall', 'Cinthya'],\n",
        "'Unidad': ['CNCA', 'LANOTEC', 'CENIBiot', 'FunCeNAT']})\n",
        "jefes"
      ]
    },
    {
      "cell_type": "code",
      "execution_count": null,
      "metadata": {
        "id": "2lrpH9IUeytR"
      },
      "outputs": [],
      "source": [
        "cenat = pd.merge(autosEmpleados, jefes)\n",
        "cenat"
      ]
    },
    {
      "cell_type": "markdown",
      "metadata": {
        "id": "JcleHCgWe2Mx"
      },
      "source": [
        "#### Unión muchos a muchos\n",
        "\n",
        "Es el caso en el que ambas columnas llave contengan valores duplicados."
      ]
    },
    {
      "cell_type": "code",
      "execution_count": null,
      "metadata": {
        "id": "WfSnt0Vzezf9"
      },
      "outputs": [],
      "source": [
        "habilidades = pd.DataFrame({'Unidad': ['FunCeNAT', 'FunCeNAT', 'CNCA', 'CNCA', 'LANOTEC', 'LANOTEC', 'CENIBiot','CENIBiot'],\n",
        "'Habilidades': ['Administración', 'Hojas de cálculo', 'Coding', 'HPC', 'Nanotecnología',\n",
        "           'Materiales', 'Análisis genómico', 'Bioinformática']})\n",
        "habilidades"
      ]
    },
    {
      "cell_type": "code",
      "execution_count": null,
      "metadata": {
        "id": "PD-WAktEfCAf"
      },
      "outputs": [],
      "source": [
        "cenat = pd.merge(cenat,habilidades)\n",
        "cenat"
      ]
    },
    {
      "cell_type": "markdown",
      "metadata": {
        "id": "SxtWJaLGgm7f"
      },
      "source": [
        "#### Otras funciones como **join()** y **concat()** también funcionan a la hora de unir datos. Se pueden consultar [aquí](https://pandas.pydata.org/pandas-docs/stable/user_guide/merging.html).\n",
        "\n",
        "## Manejo de datos faltantes\n",
        "\n",
        "* En aplicaciones reales, tenemos que lidiar con conjuntos de datos que poseen múltiples datos faltantes.\n",
        "* NaN es un valor especial de punto flotante definido en el standard IEEE.\n",
        "* Normalmente se presentan problemas con estos valores, pues si operamos sobre ellos los resultados se verán afectados."
      ]
    },
    {
      "cell_type": "code",
      "execution_count": null,
      "metadata": {
        "id": "VQVd1ujopGMs"
      },
      "outputs": [],
      "source": [
        "import numpy as np"
      ]
    },
    {
      "cell_type": "code",
      "execution_count": null,
      "metadata": {
        "id": "UzH5L1_PgiMm"
      },
      "outputs": [],
      "source": [
        "1 + np.nan"
      ]
    },
    {
      "cell_type": "code",
      "execution_count": null,
      "metadata": {
        "id": "d_UF7VY6NRzA"
      },
      "outputs": [],
      "source": [
        "0*np.nan"
      ]
    },
    {
      "cell_type": "code",
      "execution_count": null,
      "metadata": {
        "id": "C2qH2--aNV4_"
      },
      "outputs": [],
      "source": [
        "values = np.array([4, 5, np.nan, 7, 8])\n",
        "\n",
        "print(values.sum(), values.min(), values.mean())"
      ]
    },
    {
      "cell_type": "markdown",
      "metadata": {
        "id": "KyzPMq_mg5Wp"
      },
      "source": [
        "## Operaciones con datos faltantes\n",
        "\n",
        "info() nos devuelve información de cuántos son valores faltantes en nuestras columnas."
      ]
    },
    {
      "cell_type": "code",
      "execution_count": null,
      "metadata": {
        "id": "fSPJmaMyWHvh"
      },
      "outputs": [],
      "source": [
        "datosPacientesNan = pd.read_csv('pacientesCorazonNaN.csv')\n",
        "datosPacientesNan"
      ]
    },
    {
      "cell_type": "code",
      "execution_count": null,
      "metadata": {
        "id": "Z5jpVMfuMDs-"
      },
      "outputs": [],
      "source": [
        "datosPacientesNan.info()"
      ]
    },
    {
      "cell_type": "markdown",
      "metadata": {
        "id": "Ck7P3VtAhHpu"
      },
      "source": [
        "### Eliminando datos faltantes\n",
        "\n",
        "Los valores NaN no deben ser tomados en cuenta para hacer cálculos en Pandas. **dropna()** elimina las filas o las columnas donde existan datos faltantes. El parámetro **how** puede ser **any** o **all**, es decir, no es posible eliminar solo valores faltantes individualmente."
      ]
    },
    {
      "cell_type": "code",
      "execution_count": null,
      "metadata": {
        "id": "ywLBP8tKbZUI"
      },
      "outputs": [],
      "source": [
        "datosPacientesNan_drop = datosPacientesNan.dropna() #Por defecto, eliminará todas las filas donde exista un valor faltante\n",
        "datosPacientesNan_drop.info()"
      ]
    },
    {
      "cell_type": "code",
      "execution_count": null,
      "metadata": {
        "id": "yfX8pDq1cHYy"
      },
      "outputs": [],
      "source": [
        "datosPacientesNan_dropC = datosPacientesNan.dropna(axis='columns') #Por defecto, eliminará todas las columnas donde exista un valor faltante\n",
        "datosPacientesNan_dropC.info()"
      ]
    },
    {
      "cell_type": "code",
      "execution_count": null,
      "metadata": {
        "id": "G8CJTNNihWLL"
      },
      "outputs": [],
      "source": [
        "datosPacientesNan.dropna(how='any').head(20) #Borra la fila si al menos un valor en ella es NaN"
      ]
    },
    {
      "cell_type": "code",
      "execution_count": null,
      "metadata": {
        "id": "y6_5y9v2hYKh"
      },
      "outputs": [],
      "source": [
        "datosPacientesNan.dropna(how='all').head(20) #Borra la fila si todos los valores en ella son NaN"
      ]
    },
    {
      "cell_type": "code",
      "execution_count": null,
      "metadata": {
        "id": "3pKurusshY34"
      },
      "outputs": [],
      "source": [
        "datosPacientesNan.dropna(axis='rows', thresh=7).head(20) #Especifica un mínimo de valores no nulos para conservar la fila o columna"
      ]
    },
    {
      "cell_type": "markdown",
      "metadata": {
        "id": "lGyyR61ChdVu"
      },
      "source": [
        "**reset_index()** es una función que reinicia los índices empezando desde cero. Así podemos \"limpiar\" los índices de nuestro set de datos."
      ]
    },
    {
      "cell_type": "code",
      "execution_count": null,
      "metadata": {
        "id": "WheB1rkvha3W"
      },
      "outputs": [],
      "source": [
        "datosPacientesNan.dropna().reset_index().head(20)"
      ]
    },
    {
      "cell_type": "markdown",
      "metadata": {
        "id": "hG4LJFoUde_a"
      },
      "source": [
        "#### ¿Cómo identificar los elementos faltantes en una columna especifica?\n",
        "\n",
        "isna() devuelve una lista de booleanos, resultado de evaluar la función en cada fila."
      ]
    },
    {
      "cell_type": "code",
      "execution_count": null,
      "metadata": {
        "id": "reJFh_Qpdu5v"
      },
      "outputs": [],
      "source": [
        "datosPacientesNan[:15]['presionReposo'].isna() #Indica los índices de la columna donde hay valores NaN"
      ]
    },
    {
      "cell_type": "markdown",
      "metadata": {
        "id": "FC3P6vUGhkFy"
      },
      "source": [
        "### Rellenando datos faltantes\n",
        "\n",
        "**fillna()** no elimina las filas, sino que sustituye el dato faltante con un dato deseado. El parámetro que recibe esta función es el dato con el que se rellenarán los NaN."
      ]
    },
    {
      "cell_type": "code",
      "execution_count": null,
      "metadata": {
        "id": "Guc4nwDyhh7Y"
      },
      "outputs": [],
      "source": [
        "datosPacientesNan['presionReposo']= datosPacientesNan['presionReposo'].fillna('N/A')\n",
        "datosPacientesNan.head(15)"
      ]
    },
    {
      "cell_type": "markdown",
      "metadata": {
        "id": "bGe2hKEUiIQk"
      },
      "source": [
        "## Operaciones de reducción y agrupamiento\n",
        "\n",
        "### Reducción\n",
        "\n",
        "Existen varias funciones que realizan cálculos básicos sobre los DataFrame, entre ellas están:\n",
        "\n",
        "| Función | Resultado |\n",
        "| :---: | :---: |\n",
        "|sum()| Suma todos los datos|\n",
        "|count()| Cuenta todos los datos|\n",
        "|min()| Devuelve el valor mínimo|\n",
        "|max()| Devuelve el valor máximo|\n",
        "|mean()| Calcula la media de los datos|\n",
        "|median()| Determina la mediana de los datos|"
      ]
    },
    {
      "cell_type": "code",
      "execution_count": null,
      "metadata": {
        "id": "_hb2vYLUf_Jp"
      },
      "outputs": [],
      "source": [
        "datosPacientes = pd.read_csv('pacientesCorazon.csv')\n",
        "datosPacientes.columns = ['edad', 'sexo', 'tipoDolor', 'presionReposo', 'colesterolSerico','azucarAyunas', 'latidosMax','presencia']\n",
        "datosPacientes\n",
        "\n"
      ]
    },
    {
      "cell_type": "code",
      "execution_count": null,
      "metadata": {
        "id": "gLYxiY8ThpDH"
      },
      "outputs": [],
      "source": [
        "datosPacientes.mean(numeric_only=True) #Media de los datos por columna"
      ]
    },
    {
      "cell_type": "code",
      "execution_count": null,
      "metadata": {
        "id": "elXFCiIriPrw"
      },
      "outputs": [],
      "source": [
        "datosPacientes['latidosMax'].median() #Mediana de los datos de una columna"
      ]
    },
    {
      "cell_type": "code",
      "execution_count": null,
      "metadata": {
        "id": "v0y7FCRigutZ"
      },
      "outputs": [],
      "source": [
        "datosPacientes['presencia'].mode() #Moda"
      ]
    },
    {
      "cell_type": "markdown",
      "metadata": {
        "id": "WuR97LQLlRNr"
      },
      "source": [
        "El método describe() nos da una serie de estadísticos básicos de nuestro DataFrame."
      ]
    },
    {
      "cell_type": "code",
      "execution_count": null,
      "metadata": {
        "id": "Q92rRXqQlX1B"
      },
      "outputs": [],
      "source": [
        "datosPacientes.describe()"
      ]
    },
    {
      "cell_type": "markdown",
      "metadata": {
        "id": "gcJyBi8vT-YE"
      },
      "source": [
        "## <font color='purple'>**Ejercicio**</font>\n",
        "\n",
        "Analice los resultados del modelo SIR, ¿cuándo se alcanzó el pico de la epidemia?"
      ]
    },
    {
      "cell_type": "code",
      "execution_count": null,
      "metadata": {
        "id": "8w3kk-EfHCX8"
      },
      "outputs": [],
      "source": [
        "pico = modelosir[\"Infectados\"].max()\n",
        "modelosir.loc[modelosir[\"Infectados\"] == pico] #el pico se alcanzó para t=21"
      ]
    },
    {
      "cell_type": "markdown",
      "metadata": {
        "id": "rQtbbkDynjY7"
      },
      "source": [
        "#### Histogramas y otros plots\n",
        "\n",
        "Pandas posee métodos de ploteo muy básicos para analizar los datos de manera rápida. Podemos hacer:\n",
        "\n",
        "* Histogramas.\n",
        "* Gráficos de barras.\n",
        "* Boxplots.\n",
        "* Densidad (kde).\n",
        "* Dispersión.\n",
        "* Pastel."
      ]
    },
    {
      "cell_type": "code",
      "execution_count": null,
      "metadata": {
        "id": "6eIvaP-toQDG"
      },
      "outputs": [],
      "source": [
        "datosPacientes['presionReposo'].plot.hist()"
      ]
    },
    {
      "cell_type": "code",
      "execution_count": null,
      "metadata": {
        "id": "G8e91gPwSeeV"
      },
      "outputs": [],
      "source": [
        "datosPacientes.boxplot(figsize=(12,5))"
      ]
    },
    {
      "cell_type": "markdown",
      "metadata": {
        "id": "3dEZg1ukiWxN"
      },
      "source": [
        "### Agrupamiento\n",
        "\n",
        "* **groupby()** es un método que permite agrupar datos según un criterio.\n",
        "* Una vez agrupados, el resultado se obtiene haciendo una operación de reducción."
      ]
    },
    {
      "cell_type": "markdown",
      "metadata": {
        "id": "P82Spk6iifbh"
      },
      "source": [
        "Supongamos que queremos saber la edad promedio de las personas según cada tipo de dolor de pecho."
      ]
    },
    {
      "cell_type": "code",
      "execution_count": null,
      "metadata": {
        "id": "MJfk-mJeigQG"
      },
      "outputs": [],
      "source": [
        "gruposDolor = datosPacientes.groupby(['tipoDolor'])\n",
        "gruposDolor[['edad']].mean()"
      ]
    },
    {
      "cell_type": "markdown",
      "metadata": {
        "id": "fgwl8jGehdES"
      },
      "source": [
        "Veamos si hombres o mujeres tienden a tener el azúcar más alto en ayunas."
      ]
    },
    {
      "cell_type": "code",
      "execution_count": null,
      "metadata": {
        "id": "otOL5m9lihgZ"
      },
      "outputs": [],
      "source": [
        "datosPacientes.groupby(['sexo'])[['azucarAyunas']].sum()"
      ]
    },
    {
      "cell_type": "markdown",
      "metadata": {
        "id": "3hLGj0yOj7Tv"
      },
      "source": [
        "## <font color='purple'>**Con groupby(), ¿cómo averiguamos cuán propensa está una persona con nivel alto de azúcar a padecer una enfermedad del corazón?**</font>"
      ]
    },
    {
      "cell_type": "code",
      "execution_count": null,
      "metadata": {
        "id": "5UbDKlRmOD8d"
      },
      "outputs": [],
      "source": [
        "a = datosPacientes.groupby(['azucarAyunas'])[['presencia']].mean()\n",
        "a"
      ]
    },
    {
      "cell_type": "markdown",
      "metadata": {
        "id": "a53uFwWnjMT_"
      },
      "source": [
        "# Guardando datos con Pandas\n",
        "\n",
        "* **to_csv()** permite guardar los datos de un DataFrame en un archivo csv.\n",
        "* Al igual que para leer los datos, se necesita indicar la dirección donde será guardado el archivo.\n",
        "* Se puede elegir un delimitador, por defecto es \",\"."
      ]
    },
    {
      "cell_type": "code",
      "execution_count": null,
      "metadata": {
        "id": "GKjIPCnZmuC5"
      },
      "outputs": [],
      "source": [
        "datosPacientesO = datosPacientes[datosPacientes['presencia']==4]\n",
        "datosPacientesO"
      ]
    },
    {
      "cell_type": "code",
      "execution_count": null,
      "metadata": {
        "id": "mtiyVHUVjKW6"
      },
      "outputs": [],
      "source": [
        "datosPacientesO.to_csv('pacientesO.csv',sep=';')"
      ]
    },
    {
      "cell_type": "code",
      "execution_count": null,
      "metadata": {
        "id": "VNP4xlLOXj6C"
      },
      "outputs": [],
      "source": [
        "!cat pacientesO.csv"
      ]
    },
    {
      "cell_type": "code",
      "execution_count": null,
      "metadata": {
        "id": "X8uCWPWZ_chK"
      },
      "outputs": [],
      "source": [
        "df = pd.DataFrame({\n",
        "\"A\": [420, 380, 390], \"B\": [50, 40, 45] })\n",
        "df[\"C\"] = df[\"A\"] + df[\"B\"]\n",
        "df"
      ]
    }
  ],
  "metadata": {
    "colab": {
      "provenance": []
    },
    "kernelspec": {
      "display_name": "Python 3",
      "name": "python3"
    },
    "language_info": {
      "codemirror_mode": {
        "name": "ipython",
        "version": 3
      },
      "file_extension": ".py",
      "mimetype": "text/x-python",
      "name": "python",
      "nbconvert_exporter": "python",
      "pygments_lexer": "ipython3",
      "version": "3.11.8"
    }
  },
  "nbformat": 4,
  "nbformat_minor": 0
}